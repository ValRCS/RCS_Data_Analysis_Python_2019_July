{
 "cells": [
  {
   "cell_type": "code",
   "execution_count": null,
   "metadata": {},
   "outputs": [],
   "source": [
    "Feature Selection"
   ]
  },
  {
   "cell_type": "code",
   "execution_count": 1,
   "metadata": {},
   "outputs": [
    {
     "name": "stdout",
     "output_type": "stream",
     "text": [
      "Best score: 0.96\n",
      "Best parameters: {'max_depth': 3, 'max_features': 4}\n"
     ]
    }
   ],
   "source": [
    "import numpy as np\n",
    "from sklearn.tree import DecisionTreeClassifier\n",
    "from sklearn.model_selection import StratifiedKFold \n",
    "from sklearn.model_selection import GridSearchCV\n",
    "from sklearn import datasets\n",
    "\n",
    "iris = datasets.load_iris()\n",
    "all_inputs = iris.data\n",
    "all_labels = iris.target\n",
    "\n",
    "decision_tree_classifier = DecisionTreeClassifier()\n",
    "\n",
    "parameter_grid = {'max_depth': [1, 2, 3, 4, 5],\n",
    "              'max_features': [1, 2, 3, 4]}\n",
    "\n",
    "cross_validation = StratifiedKFold(n_splits=10)\n",
    "\n",
    "grid_search = GridSearchCV(decision_tree_classifier,\n",
    "                       param_grid=parameter_grid,\n",
    "                       cv=cross_validation)\n",
    "\n",
    "grid_search.fit(all_inputs, all_labels)\n",
    "print('Best score: {}'.format(grid_search.best_score_))\n",
    "print('Best parameters: {}'.format(grid_search.best_params_))"
   ]
  },
  {
   "cell_type": "code",
   "execution_count": 2,
   "metadata": {},
   "outputs": [
    {
     "name": "stdout",
     "output_type": "stream",
     "text": [
      "Best score: 0.9666666666666667\n",
      "Best parameters: {'max_depth': 4, 'max_features': 2}\n"
     ]
    }
   ],
   "source": [
    "grid_search = GridSearchCV(decision_tree_classifier,\n",
    "                       param_grid=parameter_grid,\n",
    "                       cv=cross_validation)\n",
    "\n",
    "grid_search.fit(all_inputs, all_labels)\n",
    "print('Best score: {}'.format(grid_search.best_score_))\n",
    "print('Best parameters: {}'.format(grid_search.best_params_))"
   ]
  },
  {
   "cell_type": "code",
   "execution_count": 3,
   "metadata": {},
   "outputs": [
    {
     "name": "stdout",
     "output_type": "stream",
     "text": [
      "Best score: 0.9666666666666667\n",
      "Best parameters: {'max_depth': 3, 'max_features': 2}\n"
     ]
    }
   ],
   "source": [
    "grid_search = GridSearchCV(decision_tree_classifier,\n",
    "                       param_grid=parameter_grid,\n",
    "                       cv=cross_validation)\n",
    "\n",
    "grid_search.fit(all_inputs, all_labels)\n",
    "print('Best score: {}'.format(grid_search.best_score_))\n",
    "print('Best parameters: {}'.format(grid_search.best_params_))"
   ]
  },
  {
   "cell_type": "code",
   "execution_count": 4,
   "metadata": {},
   "outputs": [],
   "source": [
    "feature_importances = grid_search.best_estimator_.feature_importances_"
   ]
  },
  {
   "cell_type": "code",
   "execution_count": 5,
   "metadata": {},
   "outputs": [
    {
     "data": {
      "text/plain": [
       "array([0.01838325, 0.        , 0.55465042, 0.42696632])"
      ]
     },
     "execution_count": 5,
     "metadata": {},
     "output_type": "execute_result"
    }
   ],
   "source": [
    "feature_importances"
   ]
  },
  {
   "cell_type": "code",
   "execution_count": 6,
   "metadata": {},
   "outputs": [],
   "source": [
    "def BestFeatures(all_inputs,all_labels):\n",
    "    grid_search = GridSearchCV(decision_tree_classifier,\n",
    "                       param_grid=parameter_grid,\n",
    "                       cv=cross_validation)\n",
    "\n",
    "    grid_search.fit(all_inputs, all_labels)\n",
    "    print('Best score: {}'.format(grid_search.best_score_))\n",
    "    print('Best parameters: {}'.format(grid_search.best_params_))\n",
    "    print('Feature Importance', grid_search.best_estimator_.feature_importances_)\n",
    "    return grid_search\n",
    "\n",
    "    "
   ]
  },
  {
   "cell_type": "code",
   "execution_count": 8,
   "metadata": {},
   "outputs": [
    {
     "name": "stdout",
     "output_type": "stream",
     "text": [
      "Best score: 0.9666666666666667\n",
      "Best parameters: {'max_depth': 3, 'max_features': 3}\n",
      "Feature Importance [0.         0.         0.05393633 0.94606367]\n"
     ]
    },
    {
     "data": {
      "text/plain": [
       "''"
      ]
     },
     "execution_count": 8,
     "metadata": {},
     "output_type": "execute_result"
    }
   ],
   "source": [
    "BestFeatures(all_inputs,all_labels)\n",
    ";"
   ]
  },
  {
   "cell_type": "code",
   "execution_count": 9,
   "metadata": {},
   "outputs": [
    {
     "name": "stdout",
     "output_type": "stream",
     "text": [
      "Best score: 0.96\n",
      "Best parameters: {'max_depth': 3, 'max_features': 3}\n",
      "Feature Importance [0.         0.         0.05393633 0.94606367]\n",
      "Best score: 0.96\n",
      "Best parameters: {'max_depth': 3, 'max_features': 2}\n",
      "Feature Importance [0.02112548 0.         0.55011862 0.4287559 ]\n",
      "Best score: 0.9666666666666667\n",
      "Best parameters: {'max_depth': 3, 'max_features': 3}\n",
      "Feature Importance [0.         0.         0.58561555 0.41438445]\n",
      "Best score: 0.9666666666666667\n",
      "Best parameters: {'max_depth': 5, 'max_features': 3}\n",
      "Feature Importance [0.02533903 0.01714286 0.54449074 0.41302738]\n",
      "Best score: 0.96\n",
      "Best parameters: {'max_depth': 2, 'max_features': 3}\n",
      "Feature Importance [0.         0.         0.42761332 0.57238668]\n",
      "Best score: 0.96\n",
      "Best parameters: {'max_depth': 3, 'max_features': 4}\n",
      "Feature Importance [0.         0.         0.58561555 0.41438445]\n",
      "Best score: 0.96\n",
      "Best parameters: {'max_depth': 3, 'max_features': 4}\n",
      "Feature Importance [0.         0.         0.05393633 0.94606367]\n",
      "Best score: 0.96\n",
      "Best parameters: {'max_depth': 3, 'max_features': 4}\n",
      "Feature Importance [0.         0.         0.05393633 0.94606367]\n",
      "Best score: 0.96\n",
      "Best parameters: {'max_depth': 3, 'max_features': 2}\n",
      "Feature Importance [0.         0.         0.43461288 0.56538712]\n",
      "Best score: 0.9733333333333334\n",
      "Best parameters: {'max_depth': 5, 'max_features': 2}\n",
      "Feature Importance [0.12807553 0.03181049 0.72792318 0.1121908 ]\n"
     ]
    }
   ],
   "source": [
    "for n in range(10):\n",
    "    BestFeatures(all_inputs,all_labels)"
   ]
  }
 ],
 "metadata": {
  "kernelspec": {
   "display_name": "Python 3",
   "language": "python",
   "name": "python3"
  },
  "language_info": {
   "codemirror_mode": {
    "name": "ipython",
    "version": 3
   },
   "file_extension": ".py",
   "mimetype": "text/x-python",
   "name": "python",
   "nbconvert_exporter": "python",
   "pygments_lexer": "ipython3",
   "version": "3.6.4"
  }
 },
 "nbformat": 4,
 "nbformat_minor": 2
}
