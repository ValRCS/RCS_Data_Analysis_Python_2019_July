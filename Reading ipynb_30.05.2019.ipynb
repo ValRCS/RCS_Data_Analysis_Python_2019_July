{
 "cells": [
  {
   "cell_type": "code",
   "execution_count": 1,
   "metadata": {},
   "outputs": [],
   "source": [
    "import json"
   ]
  },
  {
   "cell_type": "code",
   "execution_count": 2,
   "metadata": {},
   "outputs": [],
   "source": [
    "with open('ListComprehension_in_class_30.05.2019.ipynb') as f:\n",
    "    notebook = f.read()\n",
    "    "
   ]
  },
  {
   "cell_type": "code",
   "execution_count": null,
   "metadata": {},
   "outputs": [],
   "source": []
  },
  {
   "cell_type": "code",
   "execution_count": 3,
   "metadata": {},
   "outputs": [],
   "source": [
    "with open('ListComprehension_in_class_30.05.2019.ipynb') as f:\n",
    "    notedata = json.load(f)\n",
    "    "
   ]
  },
  {
   "cell_type": "code",
   "execution_count": 4,
   "metadata": {},
   "outputs": [
    {
     "data": {
      "text/plain": [
       "dict"
      ]
     },
     "execution_count": 4,
     "metadata": {},
     "output_type": "execute_result"
    }
   ],
   "source": [
    "type(notedata)"
   ]
  },
  {
   "cell_type": "code",
   "execution_count": 5,
   "metadata": {},
   "outputs": [
    {
     "data": {
      "text/plain": [
       "dict_keys(['cells', 'metadata', 'nbformat', 'nbformat_minor'])"
      ]
     },
     "execution_count": 5,
     "metadata": {},
     "output_type": "execute_result"
    }
   ],
   "source": [
    "notedata.keys()"
   ]
  },
  {
   "cell_type": "code",
   "execution_count": 7,
   "metadata": {},
   "outputs": [
    {
     "data": {
      "text/plain": [
       "7"
      ]
     },
     "execution_count": 7,
     "metadata": {},
     "output_type": "execute_result"
    }
   ],
   "source": [
    "len(notedata['cells'])"
   ]
  },
  {
   "cell_type": "code",
   "execution_count": 8,
   "metadata": {},
   "outputs": [],
   "source": [
    "mycells = notedata['cells']"
   ]
  },
  {
   "cell_type": "code",
   "execution_count": 9,
   "metadata": {},
   "outputs": [
    {
     "data": {
      "text/plain": [
       "{'cell_type': 'code',\n",
       " 'execution_count': 5,\n",
       " 'metadata': {},\n",
       " 'outputs': [],\n",
       " 'source': ['import random\\n', 'random.seed(42)']}"
      ]
     },
     "execution_count": 9,
     "metadata": {},
     "output_type": "execute_result"
    }
   ],
   "source": [
    "mycells[0]"
   ]
  },
  {
   "cell_type": "code",
   "execution_count": 18,
   "metadata": {},
   "outputs": [
    {
     "name": "stdout",
     "output_type": "stream",
     "text": [
      "1\n",
      "2\n",
      "4\n",
      "5\n",
      "6\n"
     ]
    }
   ],
   "source": [
    "mylist = [1,2,4,5,6]\n",
    "for element in mylist:\n",
    "    print(element)"
   ]
  },
  {
   "cell_type": "code",
   "execution_count": 17,
   "metadata": {},
   "outputs": [
    {
     "name": "stdout",
     "output_type": "stream",
     "text": [
      "cell_type code\n",
      "execution_count 5\n",
      "metadata {}\n",
      "outputs []\n",
      "source ['import random\\n', 'random.seed(42)']\n",
      "cell_type code\n",
      "execution_count 6\n",
      "metadata {}\n",
      "outputs [{'data': {'text/plain': ['0.6394267984578837']}, 'execution_count': 6, 'metadata': {}, 'output_type': 'execute_result'}]\n",
      "source ['random.random()']\n",
      "cell_type code\n",
      "execution_count 8\n",
      "metadata {}\n",
      "outputs [{'data': {'text/plain': ['[0.045824383655662215,\\n', ' 0.22789827565154686,\\n', ' 0.28938796360210717,\\n', ' 0.0797919769236275,\\n', ' 0.23279088636103018]']}, 'execution_count': 8, 'metadata': {}, 'output_type': 'execute_result'}]\n",
      "source ['mylist2 = []\\n', 'for _ in range(40):\\n', '    mylist2.append(random.random())\\n', 'mylist2[:5]']\n",
      "cell_type code\n",
      "execution_count 11\n",
      "metadata {}\n",
      "outputs [{'data': {'text/plain': ['[0.26274160852293527,\\n', ' 0.5845859902235405,\\n', ' 0.897822883602477,\\n', ' 0.39940050514039727,\\n', ' 0.21932075915728333,\\n', ' 0.9975376064951103,\\n', ' 0.5095262936764645,\\n', ' 0.09090941217379389,\\n', ' 0.04711637542473457,\\n', ' 0.10964913035065915,\\n', ' 0.62744604170309,\\n', ' 0.7920793643629641,\\n', ' 0.42215996679968404,\\n', ' 0.06352770615195713,\\n', ' 0.38161928650653676,\\n', ' 0.9961213802400968,\\n', ' 0.529114345099137,\\n', ' 0.9710783776136181,\\n', ' 0.8607797022344981,\\n', ' 0.011481021942819636,\\n', ' 0.7207218193601946,\\n', ' 0.6817103690265748,\\n', ' 0.5369703304087952,\\n', ' 0.2668251899525428,\\n', ' 0.6409617985798081,\\n', ' 0.11155217359587644,\\n', ' 0.434765250669105,\\n', ' 0.45372370632920644,\\n', ' 0.9538159275210801,\\n', ' 0.8758529403781941,\\n', ' 0.26338905075109076,\\n', ' 0.5005861130502983,\\n', ' 0.17865188053013137,\\n', ' 0.9126278393448205,\\n', ' 0.8705185698367669,\\n', ' 0.2984447914486329,\\n', ' 0.6389494948660052,\\n', ' 0.6089702114381723,\\n', ' 0.1528392685496348,\\n', ' 0.7625108000751513]']}, 'execution_count': 11, 'metadata': {}, 'output_type': 'execute_result'}]\n",
      "source ['mylist = [random.random() for myuselessvariable in range(40)]\\n', 'mylist']\n",
      "cell_type code\n",
      "execution_count 14\n",
      "metadata {}\n",
      "outputs [{'data': {'text/plain': ['[0.9975376064951103,\\n', ' 0.9961213802400968,\\n', ' 0.9710783776136181,\\n', ' 0.9538159275210801,\\n', ' 0.9126278393448205]']}, 'execution_count': 14, 'metadata': {}, 'output_type': 'execute_result'}]\n",
      "source ['myfilteredlist = [element for element in mylist if element > 0.9]\\n', 'myfilteredlist']\n",
      "cell_type code\n",
      "execution_count 16\n",
      "metadata {}\n",
      "outputs [{'data': {'text/plain': ['20']}, 'execution_count': 16, 'metadata': {}, 'output_type': 'execute_result'}]\n",
      "source ['len(mylist[10:30])']\n",
      "cell_type code\n",
      "execution_count 17\n",
      "metadata {}\n",
      "outputs [{'data': {'text/plain': ['0.9961213802400968']}, 'execution_count': 17, 'metadata': {}, 'output_type': 'execute_result'}]\n",
      "source ['max(mylist[10:30])']\n"
     ]
    }
   ],
   "source": [
    "# list iteration\n",
    "for element in mycells:\n",
    "    for key, value in element.items():\n",
    "        print(key,value)"
   ]
  },
  {
   "cell_type": "code",
   "execution_count": 15,
   "metadata": {},
   "outputs": [
    {
     "name": "stdout",
     "output_type": "stream",
     "text": [
      "cell_type code\n",
      "execution_count 5\n",
      "metadata {}\n",
      "outputs []\n",
      "source ['import random\\n', 'random.seed(42)']\n"
     ]
    }
   ],
   "source": [
    "# for iterating through dictionaries\n",
    "for key,value in mycells[0].items():\n",
    "    print(key,value)"
   ]
  },
  {
   "cell_type": "code",
   "execution_count": 10,
   "metadata": {},
   "outputs": [
    {
     "data": {
      "text/plain": [
       "['import random\\n', 'random.seed(42)']"
      ]
     },
     "execution_count": 10,
     "metadata": {},
     "output_type": "execute_result"
    }
   ],
   "source": [
    "mycells[0]['source']"
   ]
  },
  {
   "cell_type": "code",
   "execution_count": 11,
   "metadata": {},
   "outputs": [
    {
     "data": {
      "text/plain": [
       "'random.seed(42)'"
      ]
     },
     "execution_count": 11,
     "metadata": {},
     "output_type": "execute_result"
    }
   ],
   "source": [
    "mycells[0]['source'][1] "
   ]
  }
 ],
 "metadata": {
  "kernelspec": {
   "display_name": "Python 3",
   "language": "python",
   "name": "python3"
  },
  "language_info": {
   "codemirror_mode": {
    "name": "ipython",
    "version": 3
   },
   "file_extension": ".py",
   "mimetype": "text/x-python",
   "name": "python",
   "nbconvert_exporter": "python",
   "pygments_lexer": "ipython3",
   "version": "3.7.3"
  }
 },
 "nbformat": 4,
 "nbformat_minor": 2
}
