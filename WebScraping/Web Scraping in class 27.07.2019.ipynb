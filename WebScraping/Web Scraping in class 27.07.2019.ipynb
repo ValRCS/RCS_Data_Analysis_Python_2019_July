{
 "cells": [
  {
   "cell_type": "code",
   "execution_count": 8,
   "metadata": {},
   "outputs": [],
   "source": [
    "import requests\n",
    "import pandas as pd\n",
    "from bs4 import BeautifulSoup\n",
    "import time"
   ]
  },
  {
   "cell_type": "code",
   "execution_count": 1,
   "metadata": {},
   "outputs": [],
   "source": [
    "def processRow(row, baseurl='https://www.ss.com'):\n",
    "    ritems = []\n",
    "    tds = row.find_all('td')\n",
    "    ritems.append(baseurl + tds[1].a['href'])\n",
    "    ritems.append(tds[2].text.strip().replace('\\r','').replace('\\n', ''))\n",
    "    for td in tds[3:-1]:\n",
    "        ritems.append(td.text)\n",
    "    ritems.append((tds[-1].text.split()[0].replace(',','')))\n",
    "    if len(tds[-1].text.split()) > 1:\n",
    "        ritems.append(tds[-1].text.split()[1])\n",
    "    else:\n",
    "        ritems.append('N/A')\n",
    "    return ritems"
   ]
  },
  {
   "cell_type": "code",
   "execution_count": 2,
   "metadata": {},
   "outputs": [],
   "source": [
    "def processRows(rows):\n",
    "    rowlist=[]\n",
    "    for row in rows:\n",
    "        rowlist.append(processRow(row))\n",
    "    return rowlist"
   ]
  },
  {
   "cell_type": "code",
   "execution_count": 3,
   "metadata": {},
   "outputs": [],
   "source": [
    "def getRows(url):\n",
    "    req = requests.get(url)\n",
    "    rows = []\n",
    "    if req.status_code != 200:\n",
    "        print(\"Bad Request\"+req.status_code)\n",
    "        return rows\n",
    "    soup = BeautifulSoup(req.text, 'lxml')\n",
    "    print(\"Processing: \"+ str(soup.title))\n",
    "    # this will be specific to ss.lv and ss.com\n",
    "    alltrs = soup.find_all('tr')\n",
    "    for el in alltrs:\n",
    "        if 'id' in el.attrs and 'tr_' in el.attrs['id']:\n",
    "            rows.append(el)\n",
    "    if len(rows) > 0:\n",
    "        rows.pop() # we do not need the last one nor do we need to store\n",
    "    return rows"
   ]
  },
  {
   "cell_type": "code",
   "execution_count": 4,
   "metadata": {},
   "outputs": [],
   "source": [
    "def processPage(url):\n",
    "    rows = getRows(url)\n",
    "    mylist = processRows(rows)\n",
    "    return mylist # could return processRows(rows)"
   ]
  },
  {
   "cell_type": "code",
   "execution_count": 5,
   "metadata": {},
   "outputs": [],
   "source": [
    "def processPages(urls):\n",
    "    results = []\n",
    "    for url in urls:\n",
    "        print(\"Processing: \"+url)\n",
    "        results += processPage(url)\n",
    "        time.sleep(0.2)\n",
    "    return results"
   ]
  },
  {
   "cell_type": "code",
   "execution_count": 6,
   "metadata": {},
   "outputs": [],
   "source": [
    "def getUrlList(url, prefix='https://www.ss.com', postfix='sell/',\\\n",
    "               tag='a', class_='a_category'):\n",
    "    req = requests.get(url)\n",
    "    if req.status_code != 200:\n",
    "        print(f'Unexpected status code {req.status_code}. Stopping parse')\n",
    "        return [] #return early and often principle\n",
    "    soup = BeautifulSoup(req.text, 'lxml') # could skip soup variable as well but keeping for readability\n",
    "    return [ prefix + el['href'] + postfix for el in soup.find_all(tag, class_) ]\n",
    "    # What else could we pass as argument? How could our return fail?"
   ]
  },
  {
   "cell_type": "code",
   "execution_count": 7,
   "metadata": {},
   "outputs": [],
   "source": [
    "def getExcel(url, fname = \"sellers_\"):\n",
    "    urlist = getUrlList(url)\n",
    "    datalist = processPages(urlist)\n",
    "    df = pd.DataFrame(datalist)\n",
    "    timestr = time.strftime(\"%Y%m%d-%H%M%S\")\n",
    "    df.to_excel(f'{fname}{timestr}.xlsx')"
   ]
  },
  {
   "cell_type": "code",
   "execution_count": 9,
   "metadata": {},
   "outputs": [
    {
     "name": "stdout",
     "output_type": "stream",
     "text": [
      "Processing: https://www.ss.com/lv/real-estate/wood/riga-region/sell/\n",
      "Processing: <title>SS.COM Mežs - Rīgas rajons, Cenas, Pārdod - Sludinājumi</title>\n",
      "Processing: https://www.ss.com/lv/real-estate/wood/aizkraukle-and-reg/sell/\n",
      "Processing: <title>SS.COM Mežs - Aizkraukle un raj., Cenas, Pārdod - Sludinājumi</title>\n",
      "Processing: https://www.ss.com/lv/real-estate/wood/aluksne-and-reg/sell/\n",
      "Processing: <title>SS.COM Mežs - Alūksne un raj., Cenas, Pārdod - Sludinājumi</title>\n",
      "Processing: https://www.ss.com/lv/real-estate/wood/balvi-and-reg/sell/\n",
      "Processing: <title>SS.COM Mežs - Balvi un raj., Cenas, Pārdod - Sludinājumi</title>\n",
      "Processing: https://www.ss.com/lv/real-estate/wood/bauska-and-reg/sell/\n",
      "Processing: <title>SS.COM Mežs - Bauska un raj., Cenas, Pārdod - Sludinājumi</title>\n",
      "Processing: https://www.ss.com/lv/real-estate/wood/cesis-and-reg/sell/\n",
      "Processing: <title>SS.COM Mežs - Cēsis un raj., Cenas, Pārdod - Sludinājumi</title>\n",
      "Processing: https://www.ss.com/lv/real-estate/wood/daugavpils-and-reg/sell/\n",
      "Processing: <title>SS.COM Mežs - Daugavpils un raj., Cenas, Pārdod - Sludinājumi</title>\n",
      "Processing: https://www.ss.com/lv/real-estate/wood/dobele-and-reg/sell/\n",
      "Processing: <title>SS.COM Mežs - Dobele un raj., Cenas, Pārdod - Sludinājumi</title>\n",
      "Processing: https://www.ss.com/lv/real-estate/wood/gulbene-and-reg/sell/\n",
      "Processing: <title>SS.COM Mežs - Gulbene un raj., Cenas, Pārdod - Sludinājumi</title>\n",
      "Processing: https://www.ss.com/lv/real-estate/wood/jekabpils-and-reg/sell/\n",
      "Processing: <title>SS.COM Mežs - Jēkabpils un raj., Cenas, Pārdod - Sludinājumi</title>\n",
      "Processing: https://www.ss.com/lv/real-estate/wood/jelgava-and-reg/sell/\n",
      "Processing: <title>SS.COM Mežs - Jelgava un raj., Pārdod - Sludinājumi</title>\n",
      "Processing: https://www.ss.com/lv/real-estate/wood/kraslava-and-reg/sell/\n",
      "Processing: <title>SS.COM Mežs - Krāslava un raj., Cenas, Pārdod - Sludinājumi</title>\n",
      "Processing: https://www.ss.com/lv/real-estate/wood/kuldiga-and-reg/sell/\n",
      "Processing: <title>SS.COM Mežs - Kuldīga un raj., Cenas, Pārdod - Sludinājumi</title>\n",
      "Processing: https://www.ss.com/lv/real-estate/wood/liepaja-and-reg/sell/\n",
      "Processing: <title>SS.COM Mežs - Liepāja un raj., Cenas, Pārdod - Sludinājumi</title>\n",
      "Processing: https://www.ss.com/lv/real-estate/wood/limbadzi-and-reg/sell/\n",
      "Processing: <title>SS.COM Mežs - Limbaži un raj., Cenas, Pārdod - Sludinājumi</title>\n",
      "Processing: https://www.ss.com/lv/real-estate/wood/ludza-and-reg/sell/\n",
      "Processing: <title>SS.COM Mežs - Ludza un raj., Cenas, Pārdod - Sludinājumi</title>\n",
      "Processing: https://www.ss.com/lv/real-estate/wood/madona-and-reg/sell/\n",
      "Processing: <title>SS.COM Mežs - Madona un raj., Cenas, Pārdod - Sludinājumi</title>\n",
      "Processing: https://www.ss.com/lv/real-estate/wood/ogre-and-reg/sell/\n",
      "Processing: <title>SS.COM Mežs - Ogre un raj., Cenas, Pārdod - Sludinājumi</title>\n",
      "Processing: https://www.ss.com/lv/real-estate/wood/preili-and-reg/sell/\n",
      "Processing: <title>SS.COM Mežs - Preiļi un raj., Cenas, Pārdod - Sludinājumi</title>\n",
      "Processing: https://www.ss.com/lv/real-estate/wood/rezekne-and-reg/sell/\n",
      "Processing: <title>SS.COM Mežs - Rēzekne un raj., Cenas, Pārdod - Sludinājumi</title>\n",
      "Processing: https://www.ss.com/lv/real-estate/wood/saldus-and-reg/sell/\n",
      "Processing: <title>SS.COM Mežs - Saldus un raj., Cenas, Pārdod - Sludinājumi</title>\n",
      "Processing: https://www.ss.com/lv/real-estate/wood/talsi-and-reg/sell/\n",
      "Processing: <title>SS.COM Mežs - Talsi un raj., Cenas, Pārdod - Sludinājumi</title>\n",
      "Processing: https://www.ss.com/lv/real-estate/wood/tukums-and-reg/sell/\n",
      "Processing: <title>SS.COM Mežs - Tukums un raj., Cenas, Pārdod - Sludinājumi</title>\n",
      "Processing: https://www.ss.com/lv/real-estate/wood/valka-and-reg/sell/\n",
      "Processing: <title>SS.COM Mežs - Valka un raj., Cenas, Pārdod - Sludinājumi</title>\n",
      "Processing: https://www.ss.com/lv/real-estate/wood/valmiera-and-reg/sell/\n",
      "Processing: <title>SS.COM Mežs - Valmiera un raj., Cenas, Pārdod - Sludinājumi</title>\n",
      "Processing: https://www.ss.com/lv/real-estate/wood/ventspils-and-reg/sell/\n",
      "Processing: <title>SS.COM Mežs - Ventspils un raj., Cenas, Pārdod - Sludinājumi</title>\n",
      "Processing: https://www.ss.com/lv/real-estate/wood/other/sell/\n",
      "Processing: <title>SS.COM Mežs - Cits, Pārdod - Sludinājumi</title>\n"
     ]
    }
   ],
   "source": [
    "getExcel('https://www.ss.com/lv/real-estate/wood')"
   ]
  }
 ],
 "metadata": {
  "kernelspec": {
   "display_name": "Python 3",
   "language": "python",
   "name": "python3"
  },
  "language_info": {
   "codemirror_mode": {
    "name": "ipython",
    "version": 3
   },
   "file_extension": ".py",
   "mimetype": "text/x-python",
   "name": "python",
   "nbconvert_exporter": "python",
   "pygments_lexer": "ipython3",
   "version": "3.7.3"
  }
 },
 "nbformat": 4,
 "nbformat_minor": 2
}
