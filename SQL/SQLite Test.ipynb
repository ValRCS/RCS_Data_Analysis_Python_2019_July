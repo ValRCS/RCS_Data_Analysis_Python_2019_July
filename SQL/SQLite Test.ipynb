{
 "cells": [
  {
   "cell_type": "markdown",
   "metadata": {},
   "source": [
    "# Test your SQLite DB"
   ]
  },
  {
   "cell_type": "code",
   "execution_count": 2,
   "metadata": {},
   "outputs": [],
   "source": [
    "import pandas as pd\n",
    "import sqlite3"
   ]
  },
  {
   "cell_type": "code",
   "execution_count": 3,
   "metadata": {},
   "outputs": [],
   "source": [
    "db = sqlite3.connect('./db/chinook.db')"
   ]
  },
  {
   "cell_type": "code",
   "execution_count": 4,
   "metadata": {},
   "outputs": [],
   "source": [
    "# prepare a cursor object using cursor() method\n",
    "cursor = db.cursor()"
   ]
  },
  {
   "cell_type": "code",
   "execution_count": 9,
   "metadata": {},
   "outputs": [
    {
     "name": "stdout",
     "output_type": "stream",
     "text": [
      "[('albums',), ('sqlite_sequence',), ('artists',), ('customers',), ('employees',), ('genres',), ('invoices',), ('invoice_items',), ('media_types',), ('playlists',), ('playlist_track',), ('tracks',), ('sqlite_stat1',)]\n",
      "['albums', 'sqlite_sequence', 'artists', 'customers', 'employees', 'genres', 'invoices', 'invoice_items', 'media_types', 'playlists', 'playlist_track', 'tracks', 'sqlite_stat1']\n"
     ]
    }
   ],
   "source": [
    "# get a list of ALL tables in chinook db\n",
    "cursor.execute(\"SELECT name FROM sqlite_master WHERE type='table';\")\n",
    "result = cursor.fetchall()\n",
    "print(result)\n",
    "mytablelist = [ tup[0] for tup in result] # fetchall gave us a list of tuples with a single element so we only need that first el\n",
    "print(mytablelist)"
   ]
  },
  {
   "cell_type": "code",
   "execution_count": 11,
   "metadata": {},
   "outputs": [
    {
     "data": {
      "text/html": [
       "<div>\n",
       "<style scoped>\n",
       "    .dataframe tbody tr th:only-of-type {\n",
       "        vertical-align: middle;\n",
       "    }\n",
       "\n",
       "    .dataframe tbody tr th {\n",
       "        vertical-align: top;\n",
       "    }\n",
       "\n",
       "    .dataframe thead th {\n",
       "        text-align: right;\n",
       "    }\n",
       "</style>\n",
       "<table border=\"1\" class=\"dataframe\">\n",
       "  <thead>\n",
       "    <tr style=\"text-align: right;\">\n",
       "      <th></th>\n",
       "      <th>AlbumId</th>\n",
       "      <th>Title</th>\n",
       "      <th>ArtistId</th>\n",
       "    </tr>\n",
       "  </thead>\n",
       "  <tbody>\n",
       "    <tr>\n",
       "      <th>0</th>\n",
       "      <td>1</td>\n",
       "      <td>For Those About To Rock We Salute You</td>\n",
       "      <td>1</td>\n",
       "    </tr>\n",
       "    <tr>\n",
       "      <th>1</th>\n",
       "      <td>2</td>\n",
       "      <td>Balls to the Wall</td>\n",
       "      <td>2</td>\n",
       "    </tr>\n",
       "    <tr>\n",
       "      <th>2</th>\n",
       "      <td>3</td>\n",
       "      <td>Restless and Wild</td>\n",
       "      <td>2</td>\n",
       "    </tr>\n",
       "    <tr>\n",
       "      <th>3</th>\n",
       "      <td>4</td>\n",
       "      <td>Let There Be Rock</td>\n",
       "      <td>1</td>\n",
       "    </tr>\n",
       "    <tr>\n",
       "      <th>4</th>\n",
       "      <td>5</td>\n",
       "      <td>Big Ones</td>\n",
       "      <td>3</td>\n",
       "    </tr>\n",
       "  </tbody>\n",
       "</table>\n",
       "</div>"
      ],
      "text/plain": [
       "   AlbumId                                  Title  ArtistId\n",
       "0        1  For Those About To Rock We Salute You         1\n",
       "1        2                      Balls to the Wall         2\n",
       "2        3                      Restless and Wild         2\n",
       "3        4                      Let There Be Rock         1\n",
       "4        5                               Big Ones         3"
      ]
     },
     "execution_count": 11,
     "metadata": {},
     "output_type": "execute_result"
    }
   ],
   "source": [
    "# most popular type of query!\n",
    "albums = pd.read_sql_query(\"SELECT * from albums\", db)\n",
    "albums.head()"
   ]
  },
  {
   "cell_type": "code",
   "execution_count": 20,
   "metadata": {},
   "outputs": [
    {
     "data": {
      "text/html": [
       "<div>\n",
       "<style scoped>\n",
       "    .dataframe tbody tr th:only-of-type {\n",
       "        vertical-align: middle;\n",
       "    }\n",
       "\n",
       "    .dataframe tbody tr th {\n",
       "        vertical-align: top;\n",
       "    }\n",
       "\n",
       "    .dataframe thead th {\n",
       "        text-align: right;\n",
       "    }\n",
       "</style>\n",
       "<table border=\"1\" class=\"dataframe\">\n",
       "  <thead>\n",
       "    <tr style=\"text-align: right;\">\n",
       "      <th></th>\n",
       "      <th>Song</th>\n",
       "      <th>Genre</th>\n",
       "      <th>Composer</th>\n",
       "      <th>Album</th>\n",
       "      <th>Artist</th>\n",
       "    </tr>\n",
       "  </thead>\n",
       "  <tbody>\n",
       "    <tr>\n",
       "      <th>0</th>\n",
       "      <td>\"40\"</td>\n",
       "      <td>Rock</td>\n",
       "      <td>U2</td>\n",
       "      <td>War</td>\n",
       "      <td>U2</td>\n",
       "    </tr>\n",
       "    <tr>\n",
       "      <th>1</th>\n",
       "      <td>\"?\"</td>\n",
       "      <td>TV Shows</td>\n",
       "      <td>None</td>\n",
       "      <td>Lost, Season 2</td>\n",
       "      <td>Lost</td>\n",
       "    </tr>\n",
       "    <tr>\n",
       "      <th>2</th>\n",
       "      <td>\"Eine Kleine Nachtmusik\" Serenade In G, K. 525...</td>\n",
       "      <td>Classical</td>\n",
       "      <td>Wolfgang Amadeus Mozart</td>\n",
       "      <td>Sir Neville Marriner: A Celebration</td>\n",
       "      <td>Academy of St. Martin in the Fields Chamber En...</td>\n",
       "    </tr>\n",
       "    <tr>\n",
       "      <th>3</th>\n",
       "      <td>#1 Zero</td>\n",
       "      <td>Alternative &amp; Punk</td>\n",
       "      <td>Cornell, Commerford, Morello, Wilk</td>\n",
       "      <td>Out Of Exile</td>\n",
       "      <td>Audioslave</td>\n",
       "    </tr>\n",
       "    <tr>\n",
       "      <th>4</th>\n",
       "      <td>#9 Dream</td>\n",
       "      <td>Pop</td>\n",
       "      <td>None</td>\n",
       "      <td>Instant Karma: The Amnesty International Campa...</td>\n",
       "      <td>U2</td>\n",
       "    </tr>\n",
       "  </tbody>\n",
       "</table>\n",
       "</div>"
      ],
      "text/plain": [
       "                                                Song               Genre  \\\n",
       "0                                               \"40\"                Rock   \n",
       "1                                                \"?\"            TV Shows   \n",
       "2  \"Eine Kleine Nachtmusik\" Serenade In G, K. 525...           Classical   \n",
       "3                                            #1 Zero  Alternative & Punk   \n",
       "4                                           #9 Dream                 Pop   \n",
       "\n",
       "                             Composer  \\\n",
       "0                                  U2   \n",
       "1                                None   \n",
       "2             Wolfgang Amadeus Mozart   \n",
       "3  Cornell, Commerford, Morello, Wilk   \n",
       "4                                None   \n",
       "\n",
       "                                               Album  \\\n",
       "0                                                War   \n",
       "1                                     Lost, Season 2   \n",
       "2                Sir Neville Marriner: A Celebration   \n",
       "3                                       Out Of Exile   \n",
       "4  Instant Karma: The Amnesty International Campa...   \n",
       "\n",
       "                                              Artist  \n",
       "0                                                 U2  \n",
       "1                                               Lost  \n",
       "2  Academy of St. Martin in the Fields Chamber En...  \n",
       "3                                         Audioslave  \n",
       "4                                                 U2  "
      ]
     },
     "execution_count": 20,
     "metadata": {},
     "output_type": "execute_result"
    }
   ],
   "source": [
    "# we'll generate a dataframe of songs with albums from where they came from and genre and artist so 3 JOINS\n",
    "songs = pd.read_sql_query('''SELECT t.name AS Song,\n",
    "                                    g.name AS Genre, \n",
    "                                    t.composer,\n",
    "                                    a.title AS Album,\n",
    "                                    ar.name AS Artist\n",
    "                            FROM tracks AS t\n",
    "                            JOIN genres AS g\n",
    "                                ON t.genreid = g.genreid\n",
    "                            JOIN albums AS a\n",
    "                                ON t.albumid = a.albumid\n",
    "                            JOIN artists as ar\n",
    "                                ON a.artistid = ar.artistid\n",
    "                            ORDER BY t.name\n",
    "                          ''',db)\n",
    "songs.head()"
   ]
  },
  {
   "cell_type": "markdown",
   "metadata": {},
   "source": [
    "# Test your SQLite db\n",
    "## SQLite Online\n",
    "https://sqliteonline.com/"
   ]
  }
 ],
 "metadata": {
  "kernelspec": {
   "display_name": "Python 3",
   "language": "python",
   "name": "python3"
  },
  "language_info": {
   "codemirror_mode": {
    "name": "ipython",
    "version": 3
   },
   "file_extension": ".py",
   "mimetype": "text/x-python",
   "name": "python",
   "nbconvert_exporter": "python",
   "pygments_lexer": "ipython3",
   "version": "3.7.3"
  }
 },
 "nbformat": 4,
 "nbformat_minor": 2
}
