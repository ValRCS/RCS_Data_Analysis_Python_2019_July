{
 "cells": [
  {
   "cell_type": "markdown",
   "metadata": {},
   "source": [
    "## RCS Python File Operations 2"
   ]
  },
  {
   "cell_type": "markdown",
   "metadata": {},
   "source": [
    "# Binary Files"
   ]
  },
  {
   "cell_type": "code",
   "execution_count": 2,
   "metadata": {},
   "outputs": [],
   "source": [
    "with open(\"myfile.bin\", \"wb\") as f:\n",
    "    f.write(b'\\x30\\x31\\x09\\x32\\x20\\x52\\x43\\x53\\x0A\\x51') # notice b prefix!!\n"
   ]
  },
  {
   "cell_type": "code",
   "execution_count": 3,
   "metadata": {},
   "outputs": [
    {
     "name": "stdout",
     "output_type": "stream",
     "text": [
      "['01\\t2 RCS\\n', 'Q']\n",
      "01\t2 RCS\n",
      "\n",
      "01\t2 RCS\n",
      "Q\n"
     ]
    }
   ],
   "source": [
    "with open(\"myfile.bin\", \"r\") as f:\n",
    "    lines=f.readlines()\n",
    "    f.seek(0)\n",
    "    text=f.read()\n",
    "print(lines)\n",
    "print(lines[0])\n",
    "print(text)"
   ]
  },
  {
   "cell_type": "markdown",
   "metadata": {},
   "source": [
    "ASCII Codes\n",
    "https://en.wikipedia.org/wiki/ASCII"
   ]
  },
  {
   "cell_type": "code",
   "execution_count": 4,
   "metadata": {},
   "outputs": [],
   "source": [
    "with open(\"myfile.bin\", \"rb\") as f:\n",
    "    blines=f.readlines()"
   ]
  },
  {
   "cell_type": "code",
   "execution_count": 5,
   "metadata": {},
   "outputs": [
    {
     "name": "stdout",
     "output_type": "stream",
     "text": [
      "[b'01\\t2 RCS\\n', b'Q']\n"
     ]
    }
   ],
   "source": [
    "print(blines)"
   ]
  },
  {
   "cell_type": "code",
   "execution_count": 37,
   "metadata": {},
   "outputs": [
    {
     "data": {
      "text/plain": [
       "[b'012 RCS']"
      ]
     },
     "execution_count": 37,
     "metadata": {},
     "output_type": "execute_result"
    }
   ],
   "source": [
    "blines"
   ]
  },
  {
   "cell_type": "markdown",
   "metadata": {},
   "source": [
    "## For more complicated binary writing and reading of binaries \n",
    "### pickle standard library is recommended\n",
    "\n",
    "https://docs.python.org/3/library/pickle.html"
   ]
  },
  {
   "cell_type": "code",
   "execution_count": 6,
   "metadata": {},
   "outputs": [],
   "source": [
    "import pickle"
   ]
  },
  {
   "cell_type": "code",
   "execution_count": 7,
   "metadata": {},
   "outputs": [],
   "source": [
    "with open(\"myfile.bin\", \"wb\") as f:\n",
    "    myint = 42\n",
    "    mystring = \"Hello, RCS!\"\n",
    "    mylist = [\"sun\", \"moon\", \"earth\"]\n",
    "    mydict = { \"name\": \"Val\", \"job\": \"Teacher\" }   \n",
    "    pickle.dump(myint, f)\n",
    "    pickle.dump(mystring, f)\n",
    "    pickle.dump(mylist, f)\n",
    "    pickle.dump(mydict, f)\n"
   ]
  },
  {
   "cell_type": "code",
   "execution_count": 8,
   "metadata": {},
   "outputs": [
    {
     "data": {
      "text/plain": [
       "'€\\x03K*.€\\x03X\\x0b\\x00\\x00\\x00Hello, RCS!q\\x00.€\\x03]q\\x00(X\\x03\\x00\\x00\\x00sunq\\x01X\\x04\\x00\\x00\\x00moonq\\x02X\\x05\\x00\\x00\\x00earthq\\x03e.€\\x03}q\\x00(X\\x04\\x00\\x00\\x00nameq\\x01X\\x03\\x00\\x00\\x00Valq\\x02X\\x03\\x00\\x00\\x00jobq\\x03X\\x07\\x00\\x00\\x00Teacherq\\x04u.'"
      ]
     },
     "execution_count": 8,
     "metadata": {},
     "output_type": "execute_result"
    }
   ],
   "source": [
    "with open(\"myfile.bin\", \"r\", encoding=None) as f:\n",
    "    mf=f.read()\n",
    "mf"
   ]
  },
  {
   "cell_type": "markdown",
   "metadata": {},
   "source": [
    "### Not very helpful is it? Better to use pickle to retrieve the data and \"unpickle\" it"
   ]
  },
  {
   "cell_type": "code",
   "execution_count": 9,
   "metadata": {},
   "outputs": [],
   "source": [
    "with open(\"myfile.bin\", \"rb\") as f:\n",
    "    myint = pickle.load(f)\n",
    "    mystring = pickle.load(f)\n",
    "    mylist = pickle.load(f)\n",
    "    mydict = pickle.load(f)  \n"
   ]
  },
  {
   "cell_type": "code",
   "execution_count": 11,
   "metadata": {},
   "outputs": [
    {
     "name": "stdout",
     "output_type": "stream",
     "text": [
      "End of file reached!\n"
     ]
    }
   ],
   "source": [
    "# Recipe for opening a pickled file with unknown number of variables\n",
    "with open('myfile.bin', \"rb\") as f:\n",
    "    mylist = []\n",
    "    while True:\n",
    "        try:\n",
    "            mylist.append(pickle.load(f))\n",
    "        except EOFError:\n",
    "            print(\"End of file reached!\")\n",
    "            break"
   ]
  },
  {
   "cell_type": "code",
   "execution_count": 12,
   "metadata": {},
   "outputs": [
    {
     "data": {
      "text/plain": [
       "4"
      ]
     },
     "execution_count": 12,
     "metadata": {},
     "output_type": "execute_result"
    }
   ],
   "source": [
    "len(mylist)"
   ]
  },
  {
   "cell_type": "code",
   "execution_count": 13,
   "metadata": {},
   "outputs": [
    {
     "data": {
      "text/plain": [
       "{'name': 'Val', 'job': 'Teacher'}"
      ]
     },
     "execution_count": 13,
     "metadata": {},
     "output_type": "execute_result"
    }
   ],
   "source": [
    "mylist[3]"
   ]
  },
  {
   "cell_type": "code",
   "execution_count": 10,
   "metadata": {},
   "outputs": [
    {
     "name": "stdout",
     "output_type": "stream",
     "text": [
      "42 Hello, RCS! ['sun', 'moon', 'earth'] {'name': 'Val', 'job': 'Teacher'}\n"
     ]
    }
   ],
   "source": [
    "print(myint,mystring,mylist,mydict)"
   ]
  },
  {
   "cell_type": "code",
   "execution_count": null,
   "metadata": {},
   "outputs": [],
   "source": []
  },
  {
   "cell_type": "code",
   "execution_count": 14,
   "metadata": {},
   "outputs": [
    {
     "name": "stdout",
     "output_type": "stream",
     "text": [
      "C:\\Users\\val-p1\\Github\\RCS_Data_Analysis_Python_2019_May\n"
     ]
    }
   ],
   "source": [
    "import os\n",
    "print(os.getcwd()) # cwd - current working directory"
   ]
  },
  {
   "cell_type": "code",
   "execution_count": 19,
   "metadata": {},
   "outputs": [
    {
     "data": {
      "text/plain": [
       "'C:\\\\Users\\\\vsd\\\\Documents\\\\Github\\\\RCS_Python'"
      ]
     },
     "execution_count": 19,
     "metadata": {},
     "output_type": "execute_result"
    }
   ],
   "source": [
    "mycwd = os.getcwd()\n",
    "mycwd"
   ]
  },
  {
   "cell_type": "code",
   "execution_count": 15,
   "metadata": {},
   "outputs": [
    {
     "data": {
      "text/plain": [
       "'C:\\\\Users\\\\val-p1\\\\Github\\\\RCS_Data_Analysis_Python_2019_May'"
      ]
     },
     "execution_count": 15,
     "metadata": {},
     "output_type": "execute_result"
    }
   ],
   "source": [
    "%pwd"
   ]
  },
  {
   "cell_type": "code",
   "execution_count": 16,
   "metadata": {},
   "outputs": [
    {
     "name": "stdout",
     "output_type": "stream",
     "text": [
      " Volume in drive C is Windows\n",
      " Volume Serial Number is 5AA0-2A07\n",
      "\n",
      " Directory of C:\\Users\\val-p1\\Github\\RCS_Data_Analysis_Python_2019_May\n",
      "\n",
      "05/21/2019  05:31 PM    <DIR>          .\n",
      "05/21/2019  05:31 PM    <DIR>          ..\n",
      "05/21/2019  05:30 PM    <DIR>          .ipynb_checkpoints\n",
      "05/20/2019  05:58 PM               386 Calc.py\n",
      "05/13/2019  04:26 PM         7,435,248 Data_Analysis_Python_Introduction.pdf\n",
      "05/21/2019  03:27 PM             2,603 Functions Returning Values.ipynb\n",
      "05/13/2019  04:26 PM             1,713 Git_Workflow.md\n",
      "05/20/2019  04:20 PM               828 Homework #1.ipynb\n",
      "05/20/2019  04:14 PM                85 Homework #1.py\n",
      "05/21/2019  04:02 PM             2,595 Homework 2.ipynb\n",
      "05/20/2019  05:01 PM               282 hw.py\n",
      "05/18/2019  02:01 PM               637 HW1.ipynb\n",
      "05/13/2019  04:26 PM    <DIR>          img\n",
      "05/20/2019  04:55 PM             2,991 Importing Your own libraries.ipynb\n",
      "05/13/2019  04:26 PM               217 Jupyter with Python.md\n",
      "05/13/2019  04:26 PM             1,084 LICENSE\n",
      "05/21/2019  05:20 PM               120 myfile.bin\n",
      "05/20/2019  06:01 PM             2,445 mylib.ipynb\n",
      "05/20/2019  04:48 PM               147 mylib.py\n",
      "05/21/2019  04:43 PM               211 numbers.txt\n",
      "05/21/2019  04:40 PM               167 numbers16_39_12.txt\n",
      "05/21/2019  04:35 PM               167 numbers2019-05-21.txt\n",
      "05/21/2019  04:02 PM            38,870 Python Classes in Class 20.05.2019.ipynb\n",
      "05/21/2019  04:02 PM            28,014 Python Classes.ipynb\n",
      "05/20/2019  04:07 PM             5,792 Python Cleaning Up Text Files.ipynb\n",
      "05/14/2019  03:29 PM               489 Python Comparison operators.md\n",
      "05/14/2019  03:29 PM               203 Python Conditional Execution Branching.md\n",
      "05/18/2019  09:08 AM            10,380 Python Data Structures Exercises.ipynb\n",
      "05/20/2019  04:07 PM             5,431 Python Dictionaries.ipynb\n",
      "05/21/2019  04:02 PM             8,986 Python Errors.ipynb\n",
      "05/18/2019  09:08 AM               538 Python Exercises.md\n",
      "05/21/2019  05:08 PM            28,724 Python File IO in class 21.05.2019.ipynb\n",
      "05/21/2019  05:31 PM            43,909 Python File Operations 2 Binary Files and Pickle in class 21.05.2019.ipynb\n",
      "05/20/2019  04:07 PM            18,581 Python Flow Control.ipynb\n",
      "05/20/2019  04:07 PM           345,744 Python Flow Control_in_class_18.05.2019.ipynb\n",
      "05/21/2019  04:02 PM            22,140 Python Functions.ipynb\n",
      "05/14/2019  03:29 PM               591 Python Functions.md\n",
      "05/13/2019  06:06 PM            27,492 Python Introduction.ipynb\n",
      "05/21/2019  04:02 PM             4,119 Python Learning Resources.ipynb\n",
      "05/13/2019  04:26 PM               544 Python Learning Resources.md\n",
      "05/18/2019  09:08 AM            22,664 Python Lists.ipynb\n",
      "05/18/2019  09:08 AM            32,299 Python Lists_in_class_14.05.2019.ipynb\n",
      "05/21/2019  04:02 PM            17,034 Python Modules and Imports.ipynb\n",
      "05/18/2019  09:08 AM               704 Python Reading Writing Files.md\n",
      "05/20/2019  04:07 PM             9,833 Python Sets in class 05.18.2019.ipynb\n",
      "05/20/2019  04:07 PM             6,654 Python Sets.ipynb\n",
      "05/18/2019  09:08 AM             8,311 Python Strings.ipynb\n",
      "05/18/2019  09:08 AM            25,016 Python Strings_in_class_14.05.2019.ipynb\n",
      "05/20/2019  04:07 PM             5,781 Python Tuples.ipynb\n",
      "05/13/2019  06:06 PM           102,243 Python Variables and Data Types.ipynb\n",
      "05/18/2019  09:08 AM           113,049 Python Variables and Data Types_in_class_13.05.2019.ipynb\n",
      "05/18/2019  09:08 AM               950 Python_Dictionaries.md\n",
      "05/14/2019  03:29 PM               482 Python_Lists.md\n",
      "05/14/2019  03:29 PM               935 Python_List_Exercise_1.ipynb\n",
      "05/13/2019  04:26 PM             2,408 README.md\n",
      "05/21/2019  04:08 PM                69 somefile.txt\n",
      "05/21/2019  04:52 PM               135 sometext.txt\n",
      "05/21/2019  05:00 PM               169 squares.txt\n",
      "05/21/2019  05:03 PM               169 squares2.txt\n",
      "05/20/2019  05:58 PM             1,105 Untitled.ipynb\n",
      "05/20/2019  04:55 PM               107 weather.py\n",
      "05/20/2019  05:58 PM    <DIR>          __pycache__\n",
      "              57 File(s)      8,392,590 bytes\n",
      "               5 Dir(s)  440,029,667,328 bytes free\n"
     ]
    }
   ],
   "source": [
    "!dir"
   ]
  },
  {
   "cell_type": "code",
   "execution_count": 19,
   "metadata": {},
   "outputs": [
    {
     "data": {
      "text/plain": [
       "'val-p1'"
      ]
     },
     "execution_count": 19,
     "metadata": {},
     "output_type": "execute_result"
    }
   ],
   "source": [
    "os.getlogin()"
   ]
  },
  {
   "cell_type": "code",
   "execution_count": 20,
   "metadata": {},
   "outputs": [
    {
     "data": {
      "text/plain": [
       "'C:\\\\Users\\\\val-p1\\\\Github\\\\RCS_Data_Analysis_Python_2019_May'"
      ]
     },
     "execution_count": 20,
     "metadata": {},
     "output_type": "execute_result"
    }
   ],
   "source": [
    "os.getcwd()"
   ]
  },
  {
   "cell_type": "code",
   "execution_count": 21,
   "metadata": {},
   "outputs": [],
   "source": [
    "os.rename('numbers.txt', 'bignumbers.txt')"
   ]
  },
  {
   "cell_type": "code",
   "execution_count": 22,
   "metadata": {},
   "outputs": [
    {
     "data": {
      "text/plain": [
       "['.git',\n",
       " '.ipynb_checkpoints',\n",
       " 'bignumbers.txt',\n",
       " 'Calc.py',\n",
       " 'Data_Analysis_Python_Introduction.pdf']"
      ]
     },
     "execution_count": 22,
     "metadata": {},
     "output_type": "execute_result"
    }
   ],
   "source": [
    "myfiles = os.listdir()\n",
    "myfiles[:5]"
   ]
  },
  {
   "cell_type": "code",
   "execution_count": 25,
   "metadata": {},
   "outputs": [
    {
     "data": {
      "text/plain": [
       "['.git',\n",
       " '.ipynb_checkpoints',\n",
       " 'bignumbers.txt',\n",
       " 'Calc.py',\n",
       " 'Data_Analysis_Python_Introduction.pdf',\n",
       " 'Functions Returning Values.ipynb',\n",
       " 'Git_Workflow.md',\n",
       " 'Homework #1.ipynb',\n",
       " 'Homework #1.py',\n",
       " 'Homework 2.ipynb',\n",
       " 'hw.py',\n",
       " 'HW1.ipynb',\n",
       " 'img',\n",
       " 'Importing Your own libraries.ipynb',\n",
       " 'Jupyter with Python.md',\n",
       " 'LICENSE',\n",
       " 'myfile.bin',\n",
       " 'mylib.ipynb',\n",
       " 'mylib.py',\n",
       " 'numbers16_39_12.txt',\n",
       " 'numbers2019-05-21.txt',\n",
       " 'Python Classes in Class 20.05.2019.ipynb',\n",
       " 'Python Classes.ipynb',\n",
       " 'Python Cleaning Up Text Files.ipynb',\n",
       " 'Python Comparison operators.md',\n",
       " 'Python Conditional Execution Branching.md',\n",
       " 'Python Data Structures Exercises.ipynb',\n",
       " 'Python Dictionaries.ipynb',\n",
       " 'Python Errors.ipynb',\n",
       " 'Python Exercises.md',\n",
       " 'Python File IO in class 21.05.2019.ipynb',\n",
       " 'Python File Operations 2 Binary Files and Pickle in class 21.05.2019.ipynb',\n",
       " 'Python Flow Control.ipynb',\n",
       " 'Python Flow Control_in_class_18.05.2019.ipynb',\n",
       " 'Python Functions.ipynb',\n",
       " 'Python Functions.md',\n",
       " 'Python Introduction.ipynb',\n",
       " 'Python Learning Resources.ipynb',\n",
       " 'Python Learning Resources.md',\n",
       " 'Python Lists.ipynb',\n",
       " 'Python Lists_in_class_14.05.2019.ipynb',\n",
       " 'Python Modules and Imports.ipynb',\n",
       " 'Python Reading Writing Files.md',\n",
       " 'Python Sets in class 05.18.2019.ipynb',\n",
       " 'Python Sets.ipynb',\n",
       " 'Python Strings.ipynb',\n",
       " 'Python Strings_in_class_14.05.2019.ipynb',\n",
       " 'Python Tuples.ipynb',\n",
       " 'Python Variables and Data Types.ipynb',\n",
       " 'Python Variables and Data Types_in_class_13.05.2019.ipynb',\n",
       " 'Python_Dictionaries.md',\n",
       " 'Python_Lists.md',\n",
       " 'Python_List_Exercise_1.ipynb',\n",
       " 'README.md',\n",
       " 'somefile.txt',\n",
       " 'sometext.txt',\n",
       " 'squares.txt',\n",
       " 'squares2.txt',\n",
       " 'Untitled.ipynb',\n",
       " 'weather.py',\n",
       " '__pycache__']"
      ]
     },
     "execution_count": 25,
     "metadata": {},
     "output_type": "execute_result"
    }
   ],
   "source": [
    "myfiles"
   ]
  },
  {
   "cell_type": "code",
   "execution_count": 26,
   "metadata": {},
   "outputs": [
    {
     "data": {
      "text/plain": [
       "['bignumbers.txt',\n",
       " 'numbers16_39_12.txt',\n",
       " 'numbers2019-05-21.txt',\n",
       " 'somefile.txt',\n",
       " 'sometext.txt',\n",
       " 'squares.txt',\n",
       " 'squares2.txt']"
      ]
     },
     "execution_count": 26,
     "metadata": {},
     "output_type": "execute_result"
    }
   ],
   "source": [
    "\n",
    "mytextfiles = [file for file in myfiles if '.txt' in file]\n",
    "mytextfiles"
   ]
  },
  {
   "cell_type": "code",
   "execution_count": null,
   "metadata": {},
   "outputs": [],
   "source": [
    "os"
   ]
  },
  {
   "cell_type": "code",
   "execution_count": 27,
   "metadata": {},
   "outputs": [],
   "source": [
    "result = []\n",
    "for file in mytextfiles:\n",
    "    with open(file) as f:\n",
    "        txt = f.read()\n",
    "        result.append(len(txt))\n",
    "        "
   ]
  },
  {
   "cell_type": "code",
   "execution_count": 30,
   "metadata": {},
   "outputs": [
    {
     "data": {
      "text/plain": [
       "[('bignumbers.txt', 211),\n",
       " ('numbers16_39_12.txt', 167),\n",
       " ('numbers2019-05-21.txt', 167),\n",
       " ('somefile.txt', 69),\n",
       " ('sometext.txt', 135),\n",
       " ('squares.txt', 169),\n",
       " ('squares2.txt', 169)]"
      ]
     },
     "execution_count": 30,
     "metadata": {},
     "output_type": "execute_result"
    }
   ],
   "source": [
    "filesizes = []\n",
    "for file in mytextfiles:\n",
    "    filesizes.append((file, os.path.getsize(file)))\n",
    "filesizes"
   ]
  },
  {
   "cell_type": "code",
   "execution_count": 31,
   "metadata": {},
   "outputs": [
    {
     "data": {
      "text/plain": [
       "{'bignumbers.txt': 211,\n",
       " 'numbers16_39_12.txt': 167,\n",
       " 'numbers2019-05-21.txt': 167,\n",
       " 'somefile.txt': 69,\n",
       " 'sometext.txt': 135,\n",
       " 'squares.txt': 169,\n",
       " 'squares2.txt': 169}"
      ]
     },
     "execution_count": 31,
     "metadata": {},
     "output_type": "execute_result"
    }
   ],
   "source": [
    "filedict = {}\n",
    "for file in mytextfiles:\n",
    "    filedict[file] = os.path.getsize(file)\n",
    "filedict"
   ]
  },
  {
   "cell_type": "code",
   "execution_count": 33,
   "metadata": {},
   "outputs": [
    {
     "name": "stdout",
     "output_type": "stream",
     "text": [
      "mytextfiles is a  <class 'list'>\n"
     ]
    },
    {
     "data": {
      "text/plain": [
       "{'bignumbers.txt': 211,\n",
       " 'numbers16_39_12.txt': 167,\n",
       " 'numbers2019-05-21.txt': 167,\n",
       " 'somefile.txt': 69,\n",
       " 'sometext.txt': 135,\n",
       " 'squares.txt': 169,\n",
       " 'squares2.txt': 169}"
      ]
     },
     "execution_count": 33,
     "metadata": {},
     "output_type": "execute_result"
    }
   ],
   "source": [
    "print('mytextfiles is a ', type(mytextfiles))\n",
    "# one line dictionary comprehension\n",
    "fdict = {f:os.path.getsize(f) for f in mytextfiles}\n",
    "fdict"
   ]
  },
  {
   "cell_type": "code",
   "execution_count": 28,
   "metadata": {},
   "outputs": [
    {
     "data": {
      "text/plain": [
       "[202, 158, 158, 66, 126, 159, 159]"
      ]
     },
     "execution_count": 28,
     "metadata": {},
     "output_type": "execute_result"
    }
   ],
   "source": [
    "result"
   ]
  },
  {
   "cell_type": "code",
   "execution_count": 18,
   "metadata": {},
   "outputs": [
    {
     "data": {
      "text/plain": [
       "['$Recycle.Bin',\n",
       " 'Documents and Settings',\n",
       " 'DRIVERS',\n",
       " 'hiberfil.sys',\n",
       " 'Intel',\n",
       " 'pagefile.sys',\n",
       " 'PerfLogs',\n",
       " 'Program Files',\n",
       " 'Program Files (x86)',\n",
       " 'ProgramData',\n",
       " 'Recovery',\n",
       " 'swapfile.sys',\n",
       " 'System Volume Information',\n",
       " 'TVicPortPersonal',\n",
       " 'Users',\n",
       " 'Windows']"
      ]
     },
     "execution_count": 18,
     "metadata": {},
     "output_type": "execute_result"
    }
   ],
   "source": [
    "os.listdir('C:\\\\')"
   ]
  },
  {
   "cell_type": "code",
   "execution_count": 20,
   "metadata": {},
   "outputs": [
    {
     "data": {
      "text/plain": [
       "'c:\\\\'"
      ]
     },
     "execution_count": 20,
     "metadata": {},
     "output_type": "execute_result"
    }
   ],
   "source": [
    "os.chdir(\"c:\\\\\")\n",
    "os.getcwd()\n"
   ]
  },
  {
   "cell_type": "code",
   "execution_count": 21,
   "metadata": {},
   "outputs": [
    {
     "data": {
      "text/plain": [
       "'C:\\\\Users\\\\vsd\\\\Documents\\\\Github\\\\RCS_Python'"
      ]
     },
     "execution_count": 21,
     "metadata": {},
     "output_type": "execute_result"
    }
   ],
   "source": [
    "os.chdir(mycwd)\n",
    "os.getcwd()"
   ]
  },
  {
   "cell_type": "code",
   "execution_count": 18,
   "metadata": {},
   "outputs": [
    {
     "data": {
      "text/plain": [
       "'C:\\\\Users\\\\vsd\\\\Documents\\\\Github\\\\RCS_Python'"
      ]
     },
     "execution_count": 18,
     "metadata": {},
     "output_type": "execute_result"
    }
   ],
   "source": [
    "os.chdir(\"C:\\\\Users\\\\vsd\\\\Documents\\\\Github\\\\RCS_Python\")\n",
    "os.getcwd()"
   ]
  },
  {
   "cell_type": "markdown",
   "metadata": {},
   "source": [
    "\tThe os.path.join() function constructs a pathname out of one or more partial pathnames\n",
    "   **Don’t fuss with slashes; always use os.path.join() and let Python do the right thing.**"
   ]
  },
  {
   "cell_type": "code",
   "execution_count": 23,
   "metadata": {},
   "outputs": [
    {
     "data": {
      "text/plain": [
       "'C:\\\\Users\\\\vsd\\\\Documents\\\\Github\\\\RCS_Python\\\\README.md'"
      ]
     },
     "execution_count": 23,
     "metadata": {},
     "output_type": "execute_result"
    }
   ],
   "source": [
    "os.path.join(os.getcwd(), \"README.md\")"
   ]
  },
  {
   "cell_type": "code",
   "execution_count": 39,
   "metadata": {},
   "outputs": [
    {
     "data": {
      "text/plain": [
       "'C:\\\\Users\\\\vsd\\\\Documents\\\\Github\\\\RCS_Python\\\\README.md'"
      ]
     },
     "execution_count": 39,
     "metadata": {},
     "output_type": "execute_result"
    }
   ],
   "source": [
    "os.path.join(\"C:\\\\Users\\\\vsd\\\\Documents\\\\Github\\\\RCS_Python\",\"README.md\")"
   ]
  },
  {
   "cell_type": "code",
   "execution_count": 34,
   "metadata": {},
   "outputs": [
    {
     "name": "stdout",
     "output_type": "stream",
     "text": [
      "C:\\Users\\val-p1\\Documents\\Github\\RCS_Python\\README.md\n"
     ]
    }
   ],
   "source": [
    "print(os.path.join(os.path.expanduser('~'), 'Documents', 'Github', 'RCS_Python', 'README.md')) "
   ]
  },
  {
   "cell_type": "code",
   "execution_count": 39,
   "metadata": {},
   "outputs": [
    {
     "name": "stdout",
     "output_type": "stream",
     "text": [
      "C:\\Users\\val-p1\\Github\\RCS_Data_Analysis_Python_2019_May\\Documents\\Github\\RCS_Python\\README.md\n"
     ]
    }
   ],
   "source": [
    "print(os.path.join(os.getcwd(),'Documents', 'Github', 'RCS_Python', 'README.md')) "
   ]
  },
  {
   "cell_type": "code",
   "execution_count": null,
   "metadata": {},
   "outputs": [],
   "source": []
  },
  {
   "cell_type": "code",
   "execution_count": 18,
   "metadata": {},
   "outputs": [
    {
     "data": {
      "text/plain": [
       "'C:\\\\Users\\\\Val\\\\Documents\\\\Github'"
      ]
     },
     "execution_count": 18,
     "metadata": {},
     "output_type": "execute_result"
    }
   ],
   "source": [
    "newpath=os.path.join(os.path.expanduser('~'), 'Documents', 'Github')\n",
    "newpath"
   ]
  },
  {
   "cell_type": "code",
   "execution_count": 19,
   "metadata": {},
   "outputs": [
    {
     "name": "stdout",
     "output_type": "stream",
     "text": [
      "C:\\Users\\Val\\Documents\\Github\n"
     ]
    }
   ],
   "source": [
    "print(newpath) ## Aha pretty print!!"
   ]
  },
  {
   "cell_type": "code",
   "execution_count": 26,
   "metadata": {},
   "outputs": [
    {
     "data": {
      "text/plain": [
       "'C:\\\\Users\\\\vsd\\\\Documents\\\\Github\\\\RCS_Python'"
      ]
     },
     "execution_count": 26,
     "metadata": {},
     "output_type": "execute_result"
    }
   ],
   "source": [
    "mypath=os.getcwd()\n",
    "mypath"
   ]
  },
  {
   "cell_type": "code",
   "execution_count": 27,
   "metadata": {},
   "outputs": [
    {
     "data": {
      "text/plain": [
       "('C:\\\\Users\\\\vsd\\\\Documents\\\\Github', 'RCS_Python')"
      ]
     },
     "execution_count": 27,
     "metadata": {},
     "output_type": "execute_result"
    }
   ],
   "source": [
    "mysplit = os.path.split(mypath)\n",
    "mysplit"
   ]
  },
  {
   "cell_type": "code",
   "execution_count": 28,
   "metadata": {},
   "outputs": [
    {
     "name": "stdout",
     "output_type": "stream",
     "text": [
      "C:\\Users\\vsd\\Documents\\Github : RCS_Python\n"
     ]
    }
   ],
   "source": [
    "mydir, myfname = os.path.split(mypath)\n",
    "print(mydir,\":\",myfname)"
   ]
  },
  {
   "cell_type": "markdown",
   "metadata": {},
   "source": [
    "The glob module finds all the pathnames matching a specified pattern according to the rules used by the Unix shell, although results are returned in arbitrary order."
   ]
  },
  {
   "cell_type": "code",
   "execution_count": null,
   "metadata": {},
   "outputs": [],
   "source": [
    "glob."
   ]
  },
  {
   "cell_type": "code",
   "execution_count": 42,
   "metadata": {},
   "outputs": [
    {
     "data": {
      "text/plain": [
       "['Python Classes in Class 20.05.2019.ipynb',\n",
       " 'Python Classes.ipynb',\n",
       " 'Python Cleaning Up Text Files.ipynb',\n",
       " 'Python Data Structures Exercises.ipynb',\n",
       " 'Python Dictionaries.ipynb',\n",
       " 'Python Errors.ipynb',\n",
       " 'Python File IO in class 21.05.2019.ipynb',\n",
       " 'Python File Operations 2 Binary Files and Pickle in class 21.05.2019.ipynb',\n",
       " 'Python Flow Control.ipynb',\n",
       " 'Python Flow Control_in_class_18.05.2019.ipynb',\n",
       " 'Python Functions.ipynb',\n",
       " 'Python Introduction.ipynb',\n",
       " 'Python Learning Resources.ipynb',\n",
       " 'Python Lists.ipynb',\n",
       " 'Python Lists_in_class_14.05.2019.ipynb',\n",
       " 'Python Modules and Imports.ipynb',\n",
       " 'Python Sets in class 05.18.2019.ipynb',\n",
       " 'Python Sets.ipynb',\n",
       " 'Python Strings.ipynb',\n",
       " 'Python Strings_in_class_14.05.2019.ipynb',\n",
       " 'Python Tuples.ipynb',\n",
       " 'Python Variables and Data Types.ipynb',\n",
       " 'Python Variables and Data Types_in_class_13.05.2019.ipynb',\n",
       " 'Python_List_Exercise_1.ipynb']"
      ]
     },
     "execution_count": 42,
     "metadata": {},
     "output_type": "execute_result"
    }
   ],
   "source": [
    "from glob import glob as gl\n",
    "ifiles=gl('Python*.ipynb')\n",
    "ifiles"
   ]
  },
  {
   "cell_type": "code",
   "execution_count": 42,
   "metadata": {},
   "outputs": [
    {
     "data": {
      "text/plain": [
       "['RCS Python Classes.ipynb',\n",
       " 'RCS Python File IO.ipynb',\n",
       " 'RCS Python File Operations.ipynb',\n",
       " 'RCS Python Functions.ipynb',\n",
       " 'RCS Python Importing Modules.ipynb',\n",
       " 'RCS Python Math NumPy SymPy.ipynb',\n",
       " 'RCS Python Modules.ipynb']"
      ]
     },
     "execution_count": 42,
     "metadata": {},
     "output_type": "execute_result"
    }
   ],
   "source": [
    "ipyth=glob.glob('*Python*.ipynb')\n",
    "ipyth"
   ]
  },
  {
   "cell_type": "code",
   "execution_count": 31,
   "metadata": {},
   "outputs": [
    {
     "data": {
      "text/plain": [
       "[]"
      ]
     },
     "execution_count": 31,
     "metadata": {},
     "output_type": "execute_result"
    }
   ],
   "source": [
    "ifile2=glob.glob('*File*.*,*.md')\n",
    "ifile2"
   ]
  },
  {
   "cell_type": "markdown",
   "metadata": {},
   "source": [
    "### New in version 3.4.\n",
    "\n",
    "For example, consider a directory containing the following files: 1.gif, 2.txt, card.gif and a subdirectory sub which contains only the file 3.txt. glob() will produce the following results. Notice how any leading components of the path are preserved."
   ]
  },
  {
   "cell_type": "code",
   "execution_count": 32,
   "metadata": {},
   "outputs": [
    {
     "data": {
      "text/plain": [
       "['.\\\\geckodriver.log',\n",
       " '.\\\\RCS Python CSV files.ipynb',\n",
       " '.\\\\RCS Python Overloading.ipynb',\n",
       " '.\\\\RCS Python pip and virtualenv.ipynb',\n",
       " '.\\\\RCS Python Web Development with Flask.ipynb',\n",
       " '.\\\\RCS Variables and Data Types.ipynb']"
      ]
     },
     "execution_count": 32,
     "metadata": {},
     "output_type": "execute_result"
    }
   ],
   "source": [
    "glob.glob('./*V*.*')"
   ]
  },
  {
   "cell_type": "code",
   "execution_count": 45,
   "metadata": {},
   "outputs": [],
   "source": [
    "! mkdir Text # ! is Jupyter command for running OS commands b"
   ]
  },
  {
   "cell_type": "markdown",
   "metadata": {},
   "source": [
    "# File Operations directly from Python\n",
    "\n",
    "https://docs.python.org/3/library/subprocess.html#module-subprocess\n",
    "\n",
    "subprocess.run(args, *, stdin=None, input=None, stdout=None, stderr=None, shell=False, cwd=None, timeout=None, check=False, encoding=None, errors=None)"
   ]
  },
  {
   "cell_type": "code",
   "execution_count": 47,
   "metadata": {},
   "outputs": [
    {
     "data": {
      "text/plain": [
       "'C:\\\\Users\\\\vsd\\\\Documents\\\\Github\\\\RCS_Python'"
      ]
     },
     "execution_count": 47,
     "metadata": {},
     "output_type": "execute_result"
    }
   ],
   "source": [
    "%pwd"
   ]
  },
  {
   "cell_type": "code",
   "execution_count": 33,
   "metadata": {},
   "outputs": [
    {
     "data": {
      "text/plain": [
       "['',\n",
       " 'C:\\\\ProgramData\\\\Anaconda3\\\\python36.zip',\n",
       " 'C:\\\\ProgramData\\\\Anaconda3\\\\DLLs',\n",
       " 'C:\\\\ProgramData\\\\Anaconda3\\\\lib',\n",
       " 'C:\\\\ProgramData\\\\Anaconda3',\n",
       " 'C:\\\\ProgramData\\\\Anaconda3\\\\lib\\\\site-packages',\n",
       " 'C:\\\\ProgramData\\\\Anaconda3\\\\lib\\\\site-packages\\\\win32',\n",
       " 'C:\\\\ProgramData\\\\Anaconda3\\\\lib\\\\site-packages\\\\win32\\\\lib',\n",
       " 'C:\\\\ProgramData\\\\Anaconda3\\\\lib\\\\site-packages\\\\Pythonwin',\n",
       " 'C:\\\\ProgramData\\\\Anaconda3\\\\lib\\\\site-packages\\\\IPython\\\\extensions',\n",
       " 'C:\\\\Users\\\\vsd\\\\.ipython']"
      ]
     },
     "execution_count": 33,
     "metadata": {},
     "output_type": "execute_result"
    }
   ],
   "source": [
    "import sys\n",
    "sys.path"
   ]
  },
  {
   "cell_type": "code",
   "execution_count": 48,
   "metadata": {},
   "outputs": [
    {
     "name": "stdout",
     "output_type": "stream",
     "text": [
      "CompletedProcess(args='calculator', returncode=1, stdout=b'')\n"
     ]
    }
   ],
   "source": [
    "import subprocess\n",
    "print(subprocess.run(\"calculator\", shell=True, stdout=subprocess.PIPE))"
   ]
  },
  {
   "cell_type": "code",
   "execution_count": 34,
   "metadata": {},
   "outputs": [
    {
     "name": "stdout",
     "output_type": "stream",
     "text": [
      "CompletedProcess(args='dir', returncode=0, stdout=b' Volume in drive C is New Volume\\r\\n Volume Serial Number is 8A1C-6B07\\r\\n\\r\\n Directory of C:\\\\Users\\\\vsd\\\\Documents\\\\Github\\\\RCS_Python\\r\\n\\r\\n06/28/2018  05:40 PM    <DIR>          .\\r\\n06/28/2018  05:40 PM    <DIR>          ..\\r\\n06/28/2018  04:46 PM    <DIR>          .ipynb_checkpoints\\r\\n05/21/2018  03:59 PM    <DIR>          .vscode\\r\\n05/23/2018  05:25 PM           274,038 altum.pdf\\r\\n05/21/2018  04:04 PM                72 arg.py\\r\\n05/21/2018  04:26 PM               456 argopt.py\\r\\n05/21/2018  04:11 PM               248 argpos.py\\r\\n05/23/2018  04:21 PM            96,129 combined.pdf\\r\\n05/14/2018  05:51 PM               427 fibbo.py\\r\\n05/14/2018  05:40 PM               347 fibo.py\\r\\n05/28/2018  06:08 PM            15,622 geckodriver.log\\r\\n05/21/2018  03:56 PM             4,349 Generate Password.ipynb\\r\\n06/13/2018  03:05 PM             1,105 Git_Workflow.md\\r\\n05/19/2018  01:15 PM             1,301 gp.py\\r\\n05/14/2018  05:30 PM               217 hw.py\\r\\n06/13/2018  03:05 PM    <DIR>          img\\r\\n05/23/2018  04:53 PM           153,946 lemums.pdf\\r\\n05/24/2018  05:32 PM           473,831 lena.png\\r\\n05/14/2018  05:17 PM               151 main.py\\r\\n05/21/2018  05:35 PM                42 my.csv\\r\\n05/21/2018  05:57 PM            76,066 my.xlsx\\r\\n06/28/2018  05:27 PM               120 myfile.bin\\r\\n05/21/2018  05:38 PM                42 mytab.csv\\r\\n05/19/2018  11:18 AM               342 my_deco.py\\r\\n06/28/2018  05:20 PM               233 numbers.txt\\r\\n06/13/2018  03:05 PM    <DIR>          PDF\\r\\n05/21/2018  04:51 PM               569 pow.py\\r\\n05/21/2018  05:00 PM               641 powex.py\\r\\n05/14/2018  04:27 PM            15,770 python-logo.png\\r\\n06/28/2018  03:56 PM             1,031 RCS Data Structures Solutions.ipynb\\r\\n06/28/2018  03:56 PM            17,905 RCS Flow Control.ipynb\\r\\n06/28/2018  03:56 PM             7,079 RCS Lists Test.ipynb\\r\\n05/19/2018  10:03 AM            31,153 RCS Python Anonymous Lambda Functions, Map, Filter, Reduce.ipynb\\r\\n05/23/2018  03:53 PM            46,133 RCS Python argparse - passing arguments to your program.ipynb\\r\\n05/19/2018  10:03 AM             7,390 RCS Python BeatifulSoup4.ipynb\\r\\n06/28/2018  04:14 PM            41,483 RCS Python Classes.ipynb\\r\\n06/26/2018  04:00 PM            39,995 RCS Python Cleaning Up Text Files.ipynb\\r\\n05/21/2018  03:56 PM            37,977 RCS Python Closures and Generators.ipynb\\r\\n05/23/2018  03:53 PM           363,130 RCS Python CSV files.ipynb\\r\\n06/28/2018  03:56 PM            10,402 RCS Python Data Structures Exercises.ipynb\\r\\n05/21/2018  03:56 PM            12,999 RCS Python Decorators.ipynb\\r\\n06/28/2018  04:44 PM            10,890 RCS Python Errors and Exceptions.ipynb\\r\\n05/17/2018  03:59 PM             4,417 RCS Python External Resources.ipynb\\r\\n06/28/2018  05:22 PM            13,910 RCS Python File IO.ipynb\\r\\n06/28/2018  05:40 PM           180,041 RCS Python File Operations.ipynb\\r\\n06/28/2018  03:56 PM            14,087 RCS Python Functions.ipynb\\r\\n05/29/2018  03:55 PM            16,179 RCS Python Graphical User Interfaces (GUI).ipynb\\r\\n06/26/2018  04:00 PM             4,187 RCS Python Homework Poems.ipynb\\r\\n05/14/2018  03:56 PM             2,315 RCS Python Importing Modules.ipynb\\r\\n05/14/2018  03:56 PM            16,686 RCS Python Math NumPy SymPy.ipynb\\r\\n05/16/2018  03:48 PM            16,317 RCS Python Modules.ipynb\\r\\n05/26/2018  11:06 AM         1,050,632 RCS Python NumPy.ipynb\\r\\n06/26/2018  04:00 PM             2,155 RCS Python Overloading.ipynb\\r\\n05/23/2018  03:53 PM           223,260 RCS Python Pandas Tutorial.ipynb\\r\\n05/24/2018  03:58 PM           250,840 RCS Python PDF processing.ipynb\\r\\n05/21/2018  03:56 PM            26,299 RCS Python pip and virtualenv.ipynb\\r\\n06/26/2018  04:00 PM            17,771 RCS Python Poems Homework 2.ipynb\\r\\n06/11/2018  12:22 PM            26,409 RCS Python Recursion.ipynb\\r\\n06/28/2018  03:56 PM            21,877 RCS Python Sample Data Generator.ipynb\\r\\n06/13/2018  03:21 PM            19,498 RCS Python W1D2 Introduction.ipynb\\r\\n05/31/2018  03:49 PM            10,909 RCS Python Web Development with Flask.ipynb\\r\\n05/14/2018  03:56 PM            93,706 RCS Pyton Tabular Data.ipynb\\r\\n06/18/2018  03:58 PM            99,882 RCS Variables and Data Types.ipynb\\r\\n05/29/2018  03:55 PM            13,057 RCS Web Scraping with Selenium.ipynb\\r\\n05/14/2018  03:56 PM               207 README.md\\r\\n06/26/2018  04:00 PM    <DIR>          resources\\r\\n05/21/2018  05:14 PM           113,183 Sample.csv\\r\\n06/13/2018  03:05 PM    <DIR>          scripts\\r\\n06/28/2018  04:47 PM                67 somefile.txt\\r\\n05/21/2018  04:43 PM               526 square.py\\r\\n06/26/2018  04:08 PM    <DIR>          tests\\r\\n05/29/2018  03:55 PM    <DIR>          UI\\r\\n05/19/2018  11:33 AM             8,019 Untitled.ipynb\\r\\n05/28/2018  03:59 PM    <DIR>          vscode\\r\\n05/14/2018  05:11 PM                49 weather.py\\r\\n05/19/2018  11:19 AM    <DIR>          __pycache__\\r\\n              65 File(s)      3,990,116 bytes\\r\\n              12 Dir(s)  190,401,667,072 bytes free\\r\\n')\n"
     ]
    }
   ],
   "source": [
    "import subprocess\n",
    "print(subprocess.run(\"dir\", shell=True, stdout=subprocess.PIPE)) ## Without pipe we will get no output"
   ]
  },
  {
   "cell_type": "code",
   "execution_count": 49,
   "metadata": {},
   "outputs": [
    {
     "name": "stdout",
     "output_type": "stream",
     "text": [
      "CompletedProcess(args='C:\\\\Program Files (x86)\\\\Google\\\\Chrome\\\\Application\\\\chrome.exe', returncode=0)\n"
     ]
    }
   ],
   "source": [
    "print(subprocess.run(\"C:\\\\Program Files (x86)\\\\Google\\\\Chrome\\\\Application\\\\chrome.exe\"))"
   ]
  },
  {
   "cell_type": "code",
   "execution_count": 36,
   "metadata": {},
   "outputs": [
    {
     "ename": "FileNotFoundError",
     "evalue": "[WinError 2] The system cannot find the file specified",
     "output_type": "error",
     "traceback": [
      "\u001b[1;31m---------------------------------------------------------------------------\u001b[0m",
      "\u001b[1;31mFileNotFoundError\u001b[0m                         Traceback (most recent call last)",
      "\u001b[1;32m<ipython-input-36-5d7164d8f354>\u001b[0m in \u001b[0;36m<module>\u001b[1;34m()\u001b[0m\n\u001b[1;32m----> 1\u001b[1;33m \u001b[0mprint\u001b[0m\u001b[1;33m(\u001b[0m\u001b[0msubprocess\u001b[0m\u001b[1;33m.\u001b[0m\u001b[0mrun\u001b[0m\u001b[1;33m(\u001b[0m\u001b[1;34m\"chrome.exe\"\u001b[0m\u001b[1;33m)\u001b[0m\u001b[1;33m)\u001b[0m\u001b[1;33m\u001b[0m\u001b[0m\n\u001b[0m",
      "\u001b[1;32mC:\\ProgramData\\Anaconda3\\lib\\subprocess.py\u001b[0m in \u001b[0;36mrun\u001b[1;34m(input, timeout, check, *popenargs, **kwargs)\u001b[0m\n\u001b[0;32m    401\u001b[0m         \u001b[0mkwargs\u001b[0m\u001b[1;33m[\u001b[0m\u001b[1;34m'stdin'\u001b[0m\u001b[1;33m]\u001b[0m \u001b[1;33m=\u001b[0m \u001b[0mPIPE\u001b[0m\u001b[1;33m\u001b[0m\u001b[0m\n\u001b[0;32m    402\u001b[0m \u001b[1;33m\u001b[0m\u001b[0m\n\u001b[1;32m--> 403\u001b[1;33m     \u001b[1;32mwith\u001b[0m \u001b[0mPopen\u001b[0m\u001b[1;33m(\u001b[0m\u001b[1;33m*\u001b[0m\u001b[0mpopenargs\u001b[0m\u001b[1;33m,\u001b[0m \u001b[1;33m**\u001b[0m\u001b[0mkwargs\u001b[0m\u001b[1;33m)\u001b[0m \u001b[1;32mas\u001b[0m \u001b[0mprocess\u001b[0m\u001b[1;33m:\u001b[0m\u001b[1;33m\u001b[0m\u001b[0m\n\u001b[0m\u001b[0;32m    404\u001b[0m         \u001b[1;32mtry\u001b[0m\u001b[1;33m:\u001b[0m\u001b[1;33m\u001b[0m\u001b[0m\n\u001b[0;32m    405\u001b[0m             \u001b[0mstdout\u001b[0m\u001b[1;33m,\u001b[0m \u001b[0mstderr\u001b[0m \u001b[1;33m=\u001b[0m \u001b[0mprocess\u001b[0m\u001b[1;33m.\u001b[0m\u001b[0mcommunicate\u001b[0m\u001b[1;33m(\u001b[0m\u001b[0minput\u001b[0m\u001b[1;33m,\u001b[0m \u001b[0mtimeout\u001b[0m\u001b[1;33m=\u001b[0m\u001b[0mtimeout\u001b[0m\u001b[1;33m)\u001b[0m\u001b[1;33m\u001b[0m\u001b[0m\n",
      "\u001b[1;32mC:\\ProgramData\\Anaconda3\\lib\\subprocess.py\u001b[0m in \u001b[0;36m__init__\u001b[1;34m(self, args, bufsize, executable, stdin, stdout, stderr, preexec_fn, close_fds, shell, cwd, env, universal_newlines, startupinfo, creationflags, restore_signals, start_new_session, pass_fds, encoding, errors)\u001b[0m\n\u001b[0;32m    707\u001b[0m                                 \u001b[0mc2pread\u001b[0m\u001b[1;33m,\u001b[0m \u001b[0mc2pwrite\u001b[0m\u001b[1;33m,\u001b[0m\u001b[1;33m\u001b[0m\u001b[0m\n\u001b[0;32m    708\u001b[0m                                 \u001b[0merrread\u001b[0m\u001b[1;33m,\u001b[0m \u001b[0merrwrite\u001b[0m\u001b[1;33m,\u001b[0m\u001b[1;33m\u001b[0m\u001b[0m\n\u001b[1;32m--> 709\u001b[1;33m                                 restore_signals, start_new_session)\n\u001b[0m\u001b[0;32m    710\u001b[0m         \u001b[1;32mexcept\u001b[0m\u001b[1;33m:\u001b[0m\u001b[1;33m\u001b[0m\u001b[0m\n\u001b[0;32m    711\u001b[0m             \u001b[1;31m# Cleanup if the child failed starting.\u001b[0m\u001b[1;33m\u001b[0m\u001b[1;33m\u001b[0m\u001b[0m\n",
      "\u001b[1;32mC:\\ProgramData\\Anaconda3\\lib\\subprocess.py\u001b[0m in \u001b[0;36m_execute_child\u001b[1;34m(self, args, executable, preexec_fn, close_fds, pass_fds, cwd, env, startupinfo, creationflags, shell, p2cread, p2cwrite, c2pread, c2pwrite, errread, errwrite, unused_restore_signals, unused_start_new_session)\u001b[0m\n\u001b[0;32m    995\u001b[0m                                          \u001b[0menv\u001b[0m\u001b[1;33m,\u001b[0m\u001b[1;33m\u001b[0m\u001b[0m\n\u001b[0;32m    996\u001b[0m                                          \u001b[0mos\u001b[0m\u001b[1;33m.\u001b[0m\u001b[0mfspath\u001b[0m\u001b[1;33m(\u001b[0m\u001b[0mcwd\u001b[0m\u001b[1;33m)\u001b[0m \u001b[1;32mif\u001b[0m \u001b[0mcwd\u001b[0m \u001b[1;32mis\u001b[0m \u001b[1;32mnot\u001b[0m \u001b[1;32mNone\u001b[0m \u001b[1;32melse\u001b[0m \u001b[1;32mNone\u001b[0m\u001b[1;33m,\u001b[0m\u001b[1;33m\u001b[0m\u001b[0m\n\u001b[1;32m--> 997\u001b[1;33m                                          startupinfo)\n\u001b[0m\u001b[0;32m    998\u001b[0m             \u001b[1;32mfinally\u001b[0m\u001b[1;33m:\u001b[0m\u001b[1;33m\u001b[0m\u001b[0m\n\u001b[0;32m    999\u001b[0m                 \u001b[1;31m# Child is launched. Close the parent's copy of those pipe\u001b[0m\u001b[1;33m\u001b[0m\u001b[1;33m\u001b[0m\u001b[0m\n",
      "\u001b[1;31mFileNotFoundError\u001b[0m: [WinError 2] The system cannot find the file specified"
     ]
    }
   ],
   "source": [
    "print(subprocess.run(\"chrome.exe\"))"
   ]
  },
  {
   "cell_type": "code",
   "execution_count": 37,
   "metadata": {},
   "outputs": [
    {
     "data": {
      "text/plain": [
       "CompletedProcess(args=['mkdir', 'testdir'], returncode=0, stdout=b'')"
      ]
     },
     "execution_count": 37,
     "metadata": {},
     "output_type": "execute_result"
    }
   ],
   "source": [
    "subprocess.run([\"mkdir\", \"testdir\"], shell=True, stdout=subprocess.PIPE)"
   ]
  },
  {
   "cell_type": "code",
   "execution_count": 38,
   "metadata": {},
   "outputs": [],
   "source": [
    "import sys\n"
   ]
  },
  {
   "cell_type": "code",
   "execution_count": 13,
   "metadata": {},
   "outputs": [
    {
     "name": "stdout",
     "output_type": "stream",
     "text": [
      " Volume in drive C is CODE\n",
      " Volume Serial Number is AC66-C9D3\n",
      "\n",
      " Directory of C:\\Users\\vdell\\Documents\\Github\\RCS_Python\n",
      "\n",
      "05/14/2018  10:13 AM    <DIR>          .\n",
      "05/14/2018  10:13 AM    <DIR>          ..\n",
      "05/14/2018  10:05 AM    <DIR>          .ipynb_checkpoints\n",
      "05/10/2018  10:05 AM               411 Git_Workflow.md\n",
      "05/11/2018  10:38 AM                67 mytext.txt\n",
      "05/11/2018  11:39 AM               135 numbers.txt\n",
      "05/10/2018  10:05 AM            17,905 RCS Flow Control.ipynb\n",
      "05/11/2018  02:16 PM             4,623 RCS Python Challenge.ipynb\n",
      "05/14/2018  09:55 AM            36,091 RCS Python Classes.ipynb\n",
      "05/14/2018  09:55 AM            12,185 RCS Python File IO.ipynb\n",
      "05/14/2018  10:11 AM            10,112 RCS Python File Operations.ipynb\n",
      "05/11/2018  10:02 AM            14,087 RCS Python Functions.ipynb\n",
      "05/14/2018  09:55 AM             2,315 RCS Python Importing Modules.ipynb\n",
      "05/14/2018  09:55 AM            16,686 RCS Python Math NumPy SymPy.ipynb\n",
      "05/14/2018  09:55 AM            12,806 RCS Python Modules.ipynb\n",
      "05/10/2018  10:05 AM            40,431 RCS Variables and Data Types.ipynb\n",
      "05/10/2018  10:05 AM               207 README.md\n",
      "05/14/2018  10:13 AM    <DIR>          Text\n",
      "              14 File(s)        168,061 bytes\n",
      "               4 Dir(s)  74,738,491,392 bytes free\n"
     ]
    }
   ],
   "source": [
    "! dir"
   ]
  },
  {
   "cell_type": "code",
   "execution_count": 14,
   "metadata": {},
   "outputs": [
    {
     "name": "stdout",
     "output_type": "stream",
     "text": [
      "Writing ./Text/Test.txt\n"
     ]
    }
   ],
   "source": [
    "%%writefile ./Text/Test.txt\n",
    "Just a simple text file\n",
    "Nothing special"
   ]
  },
  {
   "cell_type": "code",
   "execution_count": 15,
   "metadata": {},
   "outputs": [
    {
     "name": "stdout",
     "output_type": "stream",
     "text": [
      " Volume in drive C is CODE\n",
      " Volume Serial Number is AC66-C9D3\n",
      "\n",
      " Directory of C:\\Users\\vdell\\Documents\\Github\\RCS_Python\\Text\n",
      "\n",
      "05/14/2018  10:14 AM    <DIR>          .\n",
      "05/14/2018  10:14 AM    <DIR>          ..\n",
      "05/14/2018  10:14 AM                40 Test.txt\n",
      "               1 File(s)             40 bytes\n",
      "               2 Dir(s)  74,738,360,320 bytes free\n"
     ]
    }
   ],
   "source": [
    "! dir Text"
   ]
  },
  {
   "cell_type": "code",
   "execution_count": 39,
   "metadata": {},
   "outputs": [
    {
     "data": {
      "text/plain": [
       "['numbers.txt',\n",
       " 'somefile.txt',\n",
       " 'resources\\\\cleaned.txt',\n",
       " 'resources\\\\Veidenbaums.txt']"
      ]
     },
     "execution_count": 39,
     "metadata": {},
     "output_type": "execute_result"
    }
   ],
   "source": [
    "glob.glob('**/*.txt', recursive=True) #We should also get subdirectory name"
   ]
  },
  {
   "cell_type": "code",
   "execution_count": 41,
   "metadata": {},
   "outputs": [
    {
     "data": {
      "text/plain": [
       "['.\\\\Git_Workflow.md', '.\\\\README.md']"
      ]
     },
     "execution_count": 41,
     "metadata": {},
     "output_type": "execute_result"
    }
   ],
   "source": [
    "glob.glob('./*.md')"
   ]
  },
  {
   "cell_type": "code",
   "execution_count": 9,
   "metadata": {},
   "outputs": [
    {
     "data": {
      "text/plain": [
       "[]"
      ]
     },
     "execution_count": 9,
     "metadata": {},
     "output_type": "execute_result"
    }
   ],
   "source": [
    "glob.glob('./?.md') # requires a single char only so we wont get a match for longer file names"
   ]
  },
  {
   "cell_type": "code",
   "execution_count": 35,
   "metadata": {},
   "outputs": [
    {
     "name": "stdout",
     "output_type": "stream",
     "text": [
      "<class 'os.stat_result'> os.stat_result(st_mode=33206, st_ino=5348024557889930, st_dev=609827677, st_nlink=1, st_uid=0, st_gid=0, st_size=207, st_atime=1526155447, st_mtime=1526155447, st_ctime=1526155447)\n"
     ]
    }
   ],
   "source": [
    "meta = os.stat('README.md')\n",
    "print(type(meta),meta) # os.stat returns a class containing file meta information"
   ]
  },
  {
   "cell_type": "code",
   "execution_count": 33,
   "metadata": {},
   "outputs": [
    {
     "data": {
      "text/plain": [
       "time.struct_time(tm_year=2018, tm_mon=5, tm_mday=12, tm_hour=23, tm_min=4, tm_sec=7, tm_wday=5, tm_yday=132, tm_isdst=1)"
      ]
     },
     "execution_count": 33,
     "metadata": {},
     "output_type": "execute_result"
    }
   ],
   "source": [
    "import time\n",
    "time.localtime(meta.st_mtime) #mtime last modified tiem"
   ]
  },
  {
   "cell_type": "code",
   "execution_count": null,
   "metadata": {},
   "outputs": [],
   "source": [
    "## Homework 2 for file operations\n",
    "# Process 'resources\\\\cleaned.txt',\n",
    "# Generate a dictionary of words and their frequency - \"Un\" : 76\n",
    "# Save this dictionary in a text file, each word and frequency in a new line\n",
    "# Bonus for pickling the dictionary"
   ]
  }
 ],
 "metadata": {
  "kernelspec": {
   "display_name": "Python 3",
   "language": "python",
   "name": "python3"
  },
  "language_info": {
   "codemirror_mode": {
    "name": "ipython",
    "version": 3
   },
   "file_extension": ".py",
   "mimetype": "text/x-python",
   "name": "python",
   "nbconvert_exporter": "python",
   "pygments_lexer": "ipython3",
   "version": "3.7.3"
  }
 },
 "nbformat": 4,
 "nbformat_minor": 2
}
