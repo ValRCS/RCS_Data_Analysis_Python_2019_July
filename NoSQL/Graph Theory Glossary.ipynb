{
 "cells": [
  {
   "cell_type": "code",
   "execution_count": null,
   "metadata": {},
   "outputs": [],
   "source": [
    "## RCS Graph Theory Glossary"
   ]
  },
  {
   "cell_type": "code",
   "execution_count": null,
   "metadata": {},
   "outputs": [],
   "source": []
  },
  {
   "cell_type": "markdown",
   "metadata": {},
   "source": [
    "* Node / Vertex\n",
    "* Vertex set\n",
    "* Edge set\n",
    "* Loop\n",
    "* Multiple edge\n",
    "* Simple graph\n",
    "* Adjacent/neighbors\n",
    "* Finite graph\n",
    "* Null graph\n",
    "* Complement\n",
    "* Clique\n",
    "* Independent set\n",
    "* Bipartite graph (union of disjoint sets)\n",
    "* K-regular\n",
    "* Chromatic number\n",
    "* Planar graph\n",
    "* Connected/disconnecedted graph\n",
    "* Subgraph\n",
    "* Path\n",
    "* Cycle\n",
    "* Walk\n",
    "* Trail\n",
    "* u,v walk, u,v trail\n",
    "* Adjacency matrix\n",
    "* Incident (vertex and edge)\n",
    "* Incidence matrix\n",
    "* Isomorphism (bijection)\n",
    "* Finding isomorphism using compliments\n",
    "* Equivalence relation (an isomorphic transform is one)\n",
    "* Complete graph\n",
    "* Number of edges of a complete graph (formula)\n",
    "* Complete bipartite graph\n",
    "* Self-complementary graph\n",
    "* Decomposition\n",
    "* Petersen graph\n",
    "* Girth\n",
    "* Automorphism\n",
    "* Complete graph\n",
    "* Handshaking lemma\n",
    "* Dimensional hypercube\n",
    "* Minimum degree\n",
    "* Maximal path\n",
    "* Degree sequence\n",
    "* Graphic sequence\n",
    "* Havel-Hakimi algorithm\n",
    "* Acyclic graph\n",
    "* Tree\n",
    "* Leaf\n",
    "* Spanning subgraph\n",
    "* Distance\n",
    "* Diameter\n",
    "* Eccentricity\n",
    "* Radius\n",
    "* Center\n",
    "* Forward Prufer algorithm\n",
    "* Backwards Prufer algorithm\n",
    "* Deletion-contraction reccurrance for $\\tau(G)$ (the number of spanning trees of a graph)\n",
    "* Matrix-tree theorem\n",
    "* Kruskal algorithm"
   ]
  }
 ],
 "metadata": {
  "kernelspec": {
   "display_name": "Python 3",
   "language": "python",
   "name": "python3"
  },
  "language_info": {
   "codemirror_mode": {
    "name": "ipython",
    "version": 3
   },
   "file_extension": ".py",
   "mimetype": "text/x-python",
   "name": "python",
   "nbconvert_exporter": "python",
   "pygments_lexer": "ipython3",
   "version": "3.6.4"
  }
 },
 "nbformat": 4,
 "nbformat_minor": 2
}
