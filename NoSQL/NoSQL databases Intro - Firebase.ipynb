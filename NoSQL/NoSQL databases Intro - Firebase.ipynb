{
 "cells": [
  {
   "cell_type": "markdown",
   "metadata": {},
   "source": [
    "# NoSQL databases 1\n"
   ]
  },
  {
   "cell_type": "markdown",
   "metadata": {},
   "source": [
    "![NoSQL types](https://i.pinimg.com/originals/93/b5/48/93b548ff76d4a30d42bd71f148129ac3.jpg)"
   ]
  },
  {
   "cell_type": "markdown",
   "metadata": {},
   "source": [
    "## Types of NoSQL databases\n",
    "\n",
    "* ** Key-value stores ** are the simplest. Every item in the database is stored as an attribute name (or \"key\") together with its value. Riak, Voldemort, and Redis are the most well-known in this category.\n",
    "* ** Wide-column stores ** store data together as columns instead of rows and are optimized for queries over large datasets. The most popular are Cassandra and HBase.\n",
    "* ** Document databases ** pair each key with a complex data structure known as a document. Documents can contain many different key-value pairs, or key-array pairs, or even nested documents. MongoDB is the most popular of these databases.\n",
    "* ** Graph databases ** are used to store information about networks, such as social connections. Examples are Neo4J and HyperGraphDB.\n",
    "\n",
    "PS Claimed by MongoDB which can be a bit hyperbolic in their claims. Apache CouchDB is another strong Document database"
   ]
  },
  {
   "cell_type": "code",
   "execution_count": null,
   "metadata": {},
   "outputs": [],
   "source": [
    "# Key-Value vs Document http://www.informit.com/articles/article.aspx?p=2429466"
   ]
  },
  {
   "cell_type": "code",
   "execution_count": null,
   "metadata": {},
   "outputs": [],
   "source": [
    "# Security https://blog.qualys.com/securitylabs/2015/02/24/how-to-check-for-unprotected-mongodb-databases"
   ]
  },
  {
   "cell_type": "code",
   "execution_count": null,
   "metadata": {},
   "outputs": [],
   "source": [
    "# Simple Key-Value stores\n",
    "## then onto ### JSON file format"
   ]
  },
  {
   "cell_type": "markdown",
   "metadata": {},
   "source": [
    "# Redis vs SQLite\n",
    "https://db-engines.com/en/system/Redis%3BSQLite"
   ]
  },
  {
   "cell_type": "code",
   "execution_count": 10,
   "metadata": {},
   "outputs": [],
   "source": [
    "# Redis.io\n",
    "# https://try.redis.io/#run"
   ]
  },
  {
   "cell_type": "code",
   "execution_count": 9,
   "metadata": {},
   "outputs": [
    {
     "name": "stdout",
     "output_type": "stream",
     "text": [
      "Collecting redis\n",
      "  Downloading https://files.pythonhosted.org/packages/f1/19/a0282b77c23f9f9dbcc6480787a60807c78a45947593a02dbf026636c90d/redis-3.1.0-py2.py3-none-any.whl (63kB)\n",
      "Installing collected packages: redis\n",
      "Successfully installed redis-3.1.0\n"
     ]
    },
    {
     "name": "stderr",
     "output_type": "stream",
     "text": [
      "odpdown 0.4.1 requires lpod-python>=1.1.6, which is not installed.\n",
      "You are using pip version 10.0.1, however version 19.0.1 is available.\n",
      "You should consider upgrading via the 'python -m pip install --upgrade pip' command.\n"
     ]
    }
   ],
   "source": [
    "!pip install redis"
   ]
  },
  {
   "cell_type": "code",
   "execution_count": null,
   "metadata": {},
   "outputs": [],
   "source": [
    "# https://www.bogotobogo.com/python/python_redis_with_python.php"
   ]
  },
  {
   "cell_type": "code",
   "execution_count": null,
   "metadata": {},
   "outputs": [],
   "source": [
    "# Cloud Based noSQL databases\n",
    "# Google Firebase"
   ]
  },
  {
   "cell_type": "code",
   "execution_count": null,
   "metadata": {},
   "outputs": [],
   "source": [
    "# https://github.com/thisbejim/Pyrebase\n",
    "# pip install pyrebase from administrator cmd prompt on windows\n",
    "# !pip install pyrebase will not work here on Jupyter"
   ]
  },
  {
   "cell_type": "code",
   "execution_count": 1,
   "metadata": {},
   "outputs": [
    {
     "data": {
      "text/plain": [
       "'C:\\\\ProgramData\\\\Anaconda3'"
      ]
     },
     "execution_count": 1,
     "metadata": {},
     "output_type": "execute_result"
    }
   ],
   "source": [
    "# where is our Python ?\n",
    "import os\n",
    "import sys\n",
    "os.path.dirname(sys.executable)\n"
   ]
  },
  {
   "cell_type": "code",
   "execution_count": 2,
   "metadata": {},
   "outputs": [
    {
     "ename": "ModuleNotFoundError",
     "evalue": "No module named 'Pyrebase'",
     "output_type": "error",
     "traceback": [
      "\u001b[1;31m---------------------------------------------------------------------------\u001b[0m",
      "\u001b[1;31mModuleNotFoundError\u001b[0m                       Traceback (most recent call last)",
      "\u001b[1;32m<ipython-input-2-a0a9a04ddd1b>\u001b[0m in \u001b[0;36m<module>\u001b[1;34m()\u001b[0m\n\u001b[1;32m----> 1\u001b[1;33m \u001b[1;32mimport\u001b[0m \u001b[0mPyrebase\u001b[0m\u001b[1;33m\u001b[0m\u001b[0m\n\u001b[0m",
      "\u001b[1;31mModuleNotFoundError\u001b[0m: No module named 'Pyrebase'"
     ]
    }
   ],
   "source": [
    "import Pyrebase\n"
   ]
  },
  {
   "cell_type": "code",
   "execution_count": 3,
   "metadata": {},
   "outputs": [
    {
     "name": "stdout",
     "output_type": "stream",
     "text": [
      "Package                            Version  \n",
      "---------------------------------- ---------\n",
      "alabaster                          0.7.10   \n",
      "anaconda-client                    1.6.9    \n",
      "anaconda-navigator                 1.7.0    \n",
      "anaconda-project                   0.8.2    \n",
      "asn1crypto                         0.24.0   \n",
      "astroid                            1.6.1    \n",
      "astropy                            2.0.3    \n",
      "attrs                              17.4.0   \n",
      "Babel                              2.5.3    \n",
      "backports.shutil-get-terminal-size 1.0.0    \n",
      "beautifulsoup4                     4.6.0    \n",
      "bitarray                           0.8.1    \n",
      "bkcharts                           0.2      \n",
      "blaze                              0.11.3   \n",
      "bleach                             2.1.2    \n",
      "bokeh                              0.12.13  \n",
      "boto                               2.48.0   \n",
      "Bottleneck                         1.2.1    \n",
      "certifi                            2018.1.18\n",
      "cffi                               1.11.4   \n",
      "chardet                            3.0.4    \n",
      "click                              6.7      \n",
      "cloudpickle                        0.5.2    \n",
      "clyent                             1.2.2    \n",
      "colorama                           0.3.9    \n",
      "comtypes                           1.1.4    \n",
      "conda                              4.4.10   \n",
      "conda-build                        3.4.1    \n",
      "conda-verify                       2.0.0    \n",
      "contextlib2                        0.5.5    \n",
      "cryptography                       2.1.4    \n",
      "cycler                             0.10.0   \n",
      "Cython                             0.27.3   \n",
      "cytoolz                            0.9.0    \n",
      "dask                               0.16.1   \n",
      "datashape                          0.5.4    \n",
      "decorator                          4.2.1    \n",
      "distributed                        1.20.2   \n",
      "docutils                           0.14     \n",
      "entrypoints                        0.2.3    \n",
      "et-xmlfile                         1.0.1    \n",
      "fastcache                          1.0.2    \n",
      "filelock                           2.0.13   \n",
      "Flask                              0.12.2   \n",
      "Flask-Cors                         3.0.3    \n",
      "gcloud                             0.17.0   \n",
      "gevent                             1.2.2    \n",
      "glob2                              0.6      \n",
      "googleapis-common-protos           1.5.3    \n",
      "greenlet                           0.4.12   \n",
      "h5py                               2.7.1    \n",
      "heapdict                           1.0.0    \n",
      "html5lib                           1.0.1    \n",
      "httplib2                           0.11.3   \n",
      "idna                               2.6      \n",
      "imageio                            2.2.0    \n",
      "imagesize                          0.7.1    \n",
      "ipykernel                          4.8.2    \n",
      "ipython                            6.2.1    \n",
      "ipython-genutils                   0.2.0    \n",
      "ipywidgets                         7.1.1    \n",
      "isort                              4.2.15   \n",
      "itsdangerous                       0.24     \n",
      "jdcal                              1.3      \n",
      "jedi                               0.11.1   \n",
      "Jinja2                             2.10     \n",
      "jsonschema                         2.6.0    \n",
      "jupyter                            1.0.0    \n",
      "jupyter-client                     5.2.2    \n",
      "jupyter-console                    5.2.0    \n",
      "jupyter-core                       4.4.0    \n",
      "jupyterlab                         0.31.5   \n",
      "jupyterlab-launcher                0.10.2   \n",
      "jws                                0.1.3    \n",
      "lazy-object-proxy                  1.3.1    \n",
      "llvmlite                           0.21.0   \n",
      "locket                             0.2.0    \n",
      "lxml                               4.1.1    \n",
      "Markdown                           2.6.11   \n",
      "MarkupSafe                         1.0      \n",
      "matplotlib                         2.1.2    \n",
      "mccabe                             0.6.1    \n",
      "md2py                              0.0.1    \n",
      "menuinst                           1.4.11   \n",
      "mistune                            0.8.3    \n",
      "mpmath                             1.0.0    \n",
      "msgpack-python                     0.5.1    \n",
      "multipledispatch                   0.4.9    \n",
      "navigator-updater                  0.1.0    \n",
      "nbconvert                          5.3.1    \n",
      "nbformat                           4.4.0    \n",
      "nbopen                             0.6      \n",
      "networkx                           2.1      \n",
      "nltk                               3.2.5    \n",
      "nose                               1.3.7    \n",
      "notebook                           5.4.0    \n",
      "numba                              0.36.2   \n",
      "numexpr                            2.6.4    \n",
      "numpy                              1.14.0   \n",
      "numpydoc                           0.7.0    \n",
      "oauth2client                       3.0.0    \n",
      "odo                                0.5.1    \n",
      "odpdown                            0.4.1    \n",
      "olefile                            0.45.1   \n",
      "openpyxl                           2.4.10   \n",
      "packaging                          16.8     \n",
      "pandas                             0.22.0   \n",
      "pandocfilters                      1.4.2    \n",
      "parso                              0.1.1    \n",
      "partd                              0.3.8    \n",
      "path.py                            10.5     \n",
      "pathlib2                           2.3.0    \n",
      "patsy                              0.5.0    \n",
      "pdfminer.six                       20170720 \n",
      "pep8                               1.7.1    \n",
      "pickleshare                        0.7.4    \n",
      "Pillow                             5.0.0    \n",
      "pip                                10.0.1   \n",
      "pkginfo                            1.4.1    \n",
      "pluggy                             0.6.0    \n",
      "ply                                3.10     \n",
      "prompt-toolkit                     1.0.15   \n",
      "protobuf                           3.6.1    \n",
      "psutil                             5.4.3    \n",
      "py                                 1.5.2    \n",
      "pyasn1                             0.4.4    \n",
      "pyasn1-modules                     0.2.2    \n",
      "pycodestyle                        2.3.1    \n",
      "pycosat                            0.6.3    \n",
      "pycparser                          2.18     \n",
      "pycrypto                           2.6.1    \n",
      "pycryptodome                       3.4.3    \n",
      "pycurl                             7.43.0.1 \n",
      "pyflakes                           1.6.0    \n",
      "Pygments                           2.2.0    \n",
      "pylint                             1.8.2    \n",
      "pyodbc                             4.0.22   \n",
      "pyOpenSSL                          17.5.0   \n",
      "pyparsing                          2.2.0    \n",
      "PyPDF2                             1.26.0   \n",
      "Pyrebase                           3.0.27   \n",
      "PySocks                            1.6.7    \n",
      "pytest                             3.3.2    \n",
      "python-dateutil                    2.6.1    \n",
      "python-jwt                         2.0.1    \n",
      "python-pptx                        0.6.8    \n",
      "pytz                               2017.3   \n",
      "PyWavelets                         0.5.2    \n",
      "pywin32                            222      \n",
      "pywinpty                           0.5      \n",
      "PyYAML                             3.12     \n",
      "pyzmq                              16.0.3   \n",
      "QtAwesome                          0.4.4    \n",
      "qtconsole                          4.3.1    \n",
      "QtPy                               1.3.1    \n",
      "requests                           2.11.1   \n",
      "requests-toolbelt                  0.7.0    \n",
      "rope                               0.10.7   \n",
      "rsa                                3.4.2    \n",
      "ruamel-yaml                        0.15.35  \n",
      "scikit-image                       0.13.1   \n",
      "scikit-learn                       0.19.1   \n",
      "scipy                              1.0.0    \n",
      "seaborn                            0.8.1    \n",
      "Send2Trash                         1.4.2    \n",
      "setuptools                         38.4.0   \n",
      "simplegeneric                      0.8.1    \n",
      "singledispatch                     3.4.0.3  \n",
      "six                                1.11.0   \n",
      "snowballstemmer                    1.2.1    \n",
      "sortedcollections                  0.5.3    \n",
      "sortedcontainers                   1.5.9    \n",
      "Sphinx                             1.6.6    \n",
      "sphinxcontrib-websupport           1.0.1    \n",
      "spyder                             3.2.6    \n",
      "SQLAlchemy                         1.2.1    \n",
      "statsmodels                        0.8.0    \n",
      "sympy                              1.1.1    \n",
      "tables                             3.4.2    \n",
      "tblib                              1.3.2    \n",
      "terminado                          0.8.1    \n",
      "testpath                           0.3.1    \n",
      "toolz                              0.9.0    \n",
      "tornado                            4.5.3    \n",
      "traitlets                          4.3.2    \n",
      "typing                             3.6.2    \n",
      "unicodecsv                         0.14.1   \n",
      "urllib3                            1.22     \n",
      "wcwidth                            0.1.7    \n",
      "webencodings                       0.5.1    \n",
      "Werkzeug                           0.14.1   \n",
      "wheel                              0.30.0   \n",
      "widgetsnbextension                 3.1.0    \n",
      "win-inet-pton                      1.0.1    \n",
      "win-unicode-console                0.5      \n",
      "wincertstore                       0.2      \n",
      "wrapt                              1.10.11  \n",
      "xlrd                               1.1.0    \n",
      "XlsxWriter                         1.0.2    \n",
      "xlwings                            0.11.5   \n",
      "xlwt                               1.3.0    \n",
      "zict                               0.1.3    \n"
     ]
    },
    {
     "name": "stderr",
     "output_type": "stream",
     "text": [
      "You are using pip version 10.0.1, however version 18.0 is available.\n",
      "You should consider upgrading via the 'python -m pip install --upgrade pip' command.\n"
     ]
    }
   ],
   "source": [
    "!pip list\n"
   ]
  },
  {
   "cell_type": "code",
   "execution_count": 5,
   "metadata": {},
   "outputs": [],
   "source": [
    "# https://stackoverflow.com/questions/40269686/importerror-no-module-named-pyrebase\n",
    "from pyrebase import pyrebase #! WTF all normal this is the problem with smaller libraries..."
   ]
  },
  {
   "cell_type": "code",
   "execution_count": null,
   "metadata": {},
   "outputs": [],
   "source": [
    "# https://firebase.google.com/docs/database/rtdb-vs-firestore\n",
    "# https://firebase.google.com/pricing/?authuser=0"
   ]
  },
  {
   "cell_type": "code",
   "execution_count": 6,
   "metadata": {},
   "outputs": [],
   "source": [
    "config = {\n",
    "  \"apiKey\": \"GetAPIkeyfrom\",\n",
    "  \"authDomain\": \"bb-builder-91579.firebaseapp.com\",\n",
    "  \"databaseURL\": \"https://bb-builder-91579.firebaseio.com\",\n",
    "  \"storageBucket\": \"bb-builder-91579.appspot.com\",\n",
    "  \"serviceAccount\": \"bb-builder-91579-firebase-adminsdk-bgkcz-c436b67b04.json\"\n",
    "}"
   ]
  },
  {
   "cell_type": "code",
   "execution_count": 7,
   "metadata": {},
   "outputs": [],
   "source": [
    "firebase = pyrebase.initialize_app(config)"
   ]
  },
  {
   "cell_type": "code",
   "execution_count": 8,
   "metadata": {},
   "outputs": [
    {
     "data": {
      "text/plain": [
       "pyrebase.pyrebase.Firebase"
      ]
     },
     "execution_count": 8,
     "metadata": {},
     "output_type": "execute_result"
    }
   ],
   "source": [
    "type(firebase)"
   ]
  },
  {
   "cell_type": "code",
   "execution_count": 9,
   "metadata": {},
   "outputs": [
    {
     "data": {
      "text/plain": [
       "['__class__',\n",
       " '__delattr__',\n",
       " '__dict__',\n",
       " '__dir__',\n",
       " '__doc__',\n",
       " '__eq__',\n",
       " '__format__',\n",
       " '__ge__',\n",
       " '__getattribute__',\n",
       " '__gt__',\n",
       " '__hash__',\n",
       " '__init__',\n",
       " '__init_subclass__',\n",
       " '__le__',\n",
       " '__lt__',\n",
       " '__module__',\n",
       " '__ne__',\n",
       " '__new__',\n",
       " '__reduce__',\n",
       " '__reduce_ex__',\n",
       " '__repr__',\n",
       " '__setattr__',\n",
       " '__sizeof__',\n",
       " '__str__',\n",
       " '__subclasshook__',\n",
       " '__weakref__',\n",
       " 'api_key',\n",
       " 'auth',\n",
       " 'auth_domain',\n",
       " 'credentials',\n",
       " 'database',\n",
       " 'database_url',\n",
       " 'requests',\n",
       " 'storage',\n",
       " 'storage_bucket']"
      ]
     },
     "execution_count": 9,
     "metadata": {},
     "output_type": "execute_result"
    }
   ],
   "source": [
    "dir(firebase)"
   ]
  },
  {
   "cell_type": "code",
   "execution_count": 10,
   "metadata": {},
   "outputs": [],
   "source": [
    "db = firebase.database()"
   ]
  },
  {
   "cell_type": "code",
   "execution_count": 11,
   "metadata": {},
   "outputs": [
    {
     "data": {
      "text/plain": [
       "pyrebase.pyrebase.Database"
      ]
     },
     "execution_count": 11,
     "metadata": {},
     "output_type": "execute_result"
    }
   ],
   "source": [
    "type(db)"
   ]
  },
  {
   "cell_type": "code",
   "execution_count": 12,
   "metadata": {},
   "outputs": [
    {
     "data": {
      "text/plain": [
       "<pyrebase.pyrebase.Database at 0x3bc7db0>"
      ]
     },
     "execution_count": 12,
     "metadata": {},
     "output_type": "execute_result"
    }
   ],
   "source": [
    "db.child()"
   ]
  },
  {
   "cell_type": "code",
   "execution_count": 15,
   "metadata": {},
   "outputs": [
    {
     "data": {
      "text/plain": [
       "<pyrebase.pyrebase.PyreResponse at 0x3bccb90>"
      ]
     },
     "execution_count": 15,
     "metadata": {},
     "output_type": "execute_result"
    }
   ],
   "source": [
    "db.child('orders').get().ipynb_checkpoints/"
   ]
  },
  {
   "cell_type": "code",
   "execution_count": 1,
   "metadata": {},
   "outputs": [],
   "source": [
    "import json\n",
    "import requests"
   ]
  },
  {
   "cell_type": "code",
   "execution_count": 2,
   "metadata": {},
   "outputs": [
    {
     "name": "stdout",
     "output_type": "stream",
     "text": [
      "<Response [200]>\n",
      "{'address': {'-LRQN8v3jh07msL4TGVt': {'text': 'Ahoy!', 'user_id': 'jack'}}, 'name': 'Joe', 'supplier': 'Joes Burger Patties', 'users': {'10': 'VBe', '-LRQNQU3UfmRpvBJe58O': {'text': 'Ahoy!', 'user_id': 'jack'}, 'newuser': {'-LRQNfE3UPLcI7KzuUs0': {'text': 'Ahoy!', 'user_id': 'jack'}}}}\n"
     ]
    }
   ],
   "source": [
    "response = requests.get(\"https://bb-builder-91579.firebaseio.com/.json\")\n",
    "print(response)\n",
    "fullfb = json.loads(response.text)\n",
    "print(fullfb)"
   ]
  },
  {
   "cell_type": "code",
   "execution_count": 3,
   "metadata": {},
   "outputs": [
    {
     "name": "stdout",
     "output_type": "stream",
     "text": [
      "<Response [200]>\n"
     ]
    }
   ],
   "source": [
    "response = requests.get(\"https://bb-builder-91579.firebaseio.com/ingredients.json\")\n",
    "print(response)\n",
    "ingredients = json.loads(response.text)\n",
    "\n"
   ]
  },
  {
   "cell_type": "code",
   "execution_count": 4,
   "metadata": {},
   "outputs": [],
   "source": [
    "ingredients"
   ]
  },
  {
   "cell_type": "code",
   "execution_count": 5,
   "metadata": {},
   "outputs": [
    {
     "data": {
      "text/plain": [
       "'{\"supplier\": \"Joes Burger Patties\", \"address\": \"Low Street 22\", \"name\": \"Joe\"}'"
      ]
     },
     "execution_count": 5,
     "metadata": {},
     "output_type": "execute_result"
    }
   ],
   "source": [
    "# Hot to send data (assuming you have authentication know the right address)\n",
    "data = {'supplier': \"Joes Burger Patties\", 'address': \"Low Street 22\", 'name': \"Joe\"}\n",
    "sent = json.dumps(data)\n",
    "sent"
   ]
  },
  {
   "cell_type": "code",
   "execution_count": 6,
   "metadata": {},
   "outputs": [
    {
     "data": {
      "text/plain": [
       "str"
      ]
     },
     "execution_count": 6,
     "metadata": {},
     "output_type": "execute_result"
    }
   ],
   "source": [
    "type(sent)"
   ]
  },
  {
   "cell_type": "code",
   "execution_count": 7,
   "metadata": {},
   "outputs": [],
   "source": [
    "response = requests.put(\"https://bb-builder-91579.firebaseio.com/\", sent)"
   ]
  },
  {
   "cell_type": "code",
   "execution_count": 8,
   "metadata": {},
   "outputs": [
    {
     "name": "stdout",
     "output_type": "stream",
     "text": [
      "<Response [405]>\n"
     ]
    }
   ],
   "source": [
    "print(response)"
   ]
  },
  {
   "cell_type": "code",
   "execution_count": 9,
   "metadata": {},
   "outputs": [],
   "source": [
    "response = requests.put(\"https://bb-builder-91579.firebaseio.com/.json\", sent)"
   ]
  },
  {
   "cell_type": "code",
   "execution_count": 28,
   "metadata": {},
   "outputs": [
    {
     "name": "stdout",
     "output_type": "stream",
     "text": [
      "<Response [200]>\n"
     ]
    }
   ],
   "source": [
    "print(response)"
   ]
  },
  {
   "cell_type": "code",
   "execution_count": null,
   "metadata": {},
   "outputs": [],
   "source": []
  },
  {
   "cell_type": "code",
   "execution_count": null,
   "metadata": {},
   "outputs": [],
   "source": [
    "# This actually overwrites the old DB since we started at the ROOT! :)"
   ]
  },
  {
   "cell_type": "code",
   "execution_count": 10,
   "metadata": {},
   "outputs": [
    {
     "data": {
      "text/plain": [
       "(list, 500)"
      ]
     },
     "execution_count": 10,
     "metadata": {},
     "output_type": "execute_result"
    }
   ],
   "source": [
    "# so lets get some new data...\n",
    "response = requests.get(\"https://jsonplaceholder.typicode.com/comments\")\n",
    "data = json.loads(response.text)\n",
    "type(data),len(data)"
   ]
  },
  {
   "cell_type": "code",
   "execution_count": 11,
   "metadata": {},
   "outputs": [],
   "source": [
    "response = requests.put(\"https://bb-builder-91579.firebaseio.com/.json\", response.text)"
   ]
  },
  {
   "cell_type": "code",
   "execution_count": 12,
   "metadata": {},
   "outputs": [],
   "source": [
    "# Challenge for me put all your names in my DB\n",
    "userlist = ['ESh','ESe','IFl','Igr','Ich','NOc','RLi','RPa','ZZa']"
   ]
  },
  {
   "cell_type": "code",
   "execution_count": 13,
   "metadata": {},
   "outputs": [],
   "source": [
    "userdict = {'users': userlist}"
   ]
  },
  {
   "cell_type": "code",
   "execution_count": 14,
   "metadata": {},
   "outputs": [
    {
     "data": {
      "text/plain": [
       "{'users': ['ESh', 'ESe', 'IFl', 'Igr', 'Ich', 'NOc', 'RLi', 'RPa', 'ZZa']}"
      ]
     },
     "execution_count": 14,
     "metadata": {},
     "output_type": "execute_result"
    }
   ],
   "source": [
    "userdict"
   ]
  },
  {
   "cell_type": "code",
   "execution_count": 16,
   "metadata": {},
   "outputs": [
    {
     "data": {
      "text/plain": [
       "'{\"users\": [\"ESh\", \"ESe\", \"IFl\", \"Igr\", \"Ich\", \"NOc\", \"RLi\", \"RPa\", \"ZZa\"]}'"
      ]
     },
     "execution_count": 16,
     "metadata": {},
     "output_type": "execute_result"
    }
   ],
   "source": [
    "user_json = json.dumps(userdict)\n",
    "user_json"
   ]
  },
  {
   "cell_type": "code",
   "execution_count": 18,
   "metadata": {},
   "outputs": [
    {
     "data": {
      "text/plain": [
       "<Response [200]>"
      ]
     },
     "execution_count": 18,
     "metadata": {},
     "output_type": "execute_result"
    }
   ],
   "source": [
    "response = requests.put(\"https://bb-builder-91579.firebaseio.com/.json\", user_json)\n",
    "response"
   ]
  },
  {
   "cell_type": "code",
   "execution_count": 23,
   "metadata": {},
   "outputs": [
    {
     "data": {
      "text/plain": [
       "['ESh', 'ESe', 'IFl', 'Igr', 'Ich', 'NOc', 'RLi', 'RPa', 'ZZa']"
      ]
     },
     "execution_count": 23,
     "metadata": {},
     "output_type": "execute_result"
    }
   ],
   "source": [
    "response = requests.get(\"https://bb-builder-91579.firebaseio.com/users/.json\")\n",
    "data = json.loads(response.text)\n",
    "data"
   ]
  },
  {
   "cell_type": "code",
   "execution_count": 24,
   "metadata": {},
   "outputs": [
    {
     "data": {
      "text/plain": [
       "'ESh'"
      ]
     },
     "execution_count": 24,
     "metadata": {},
     "output_type": "execute_result"
    }
   ],
   "source": [
    "response = requests.get(\"https://bb-builder-91579.firebaseio.com/users/0/.json\")\n",
    "data = json.loads(response.text)\n",
    "data"
   ]
  },
  {
   "cell_type": "code",
   "execution_count": 26,
   "metadata": {},
   "outputs": [],
   "source": [
    "mydata = ['Vsa']"
   ]
  },
  {
   "cell_type": "code",
   "execution_count": 28,
   "metadata": {},
   "outputs": [
    {
     "data": {
      "text/plain": [
       "'[\"Vsa\"]'"
      ]
     },
     "execution_count": 28,
     "metadata": {},
     "output_type": "execute_result"
    }
   ],
   "source": [
    "myjson = json.dumps(mydata)\n",
    "myjson"
   ]
  },
  {
   "cell_type": "code",
   "execution_count": 29,
   "metadata": {},
   "outputs": [
    {
     "data": {
      "text/plain": [
       "<Response [200]>"
      ]
     },
     "execution_count": 29,
     "metadata": {},
     "output_type": "execute_result"
    }
   ],
   "source": [
    "response = requests.put(\"https://bb-builder-91579.firebaseio.com/users/9/.json\", myjson)\n",
    "response"
   ]
  },
  {
   "cell_type": "code",
   "execution_count": 31,
   "metadata": {},
   "outputs": [
    {
     "data": {
      "text/plain": [
       "<Response [200]>"
      ]
     },
     "execution_count": 31,
     "metadata": {},
     "output_type": "execute_result"
    }
   ],
   "source": [
    "response = requests.put(\"https://bb-builder-91579.firebaseio.com/users/9/.json\", json.dumps(\"VSa\"))\n",
    "response"
   ]
  },
  {
   "cell_type": "code",
   "execution_count": 35,
   "metadata": {},
   "outputs": [
    {
     "name": "stdout",
     "output_type": "stream",
     "text": [
      "<Response [200]>\n"
     ]
    },
    {
     "data": {
      "text/plain": [
       "'VSa'"
      ]
     },
     "execution_count": 35,
     "metadata": {},
     "output_type": "execute_result"
    }
   ],
   "source": [
    "response = requests.get(\"https://bb-builder-91579.firebaseio.com/users/9/.json\")\n",
    "print(response)\n",
    "data = json.loads(response.text)\n",
    "data"
   ]
  },
  {
   "cell_type": "code",
   "execution_count": null,
   "metadata": {},
   "outputs": [],
   "source": [
    "\n",
    "Save under your https://bb-builder-91579.firebaseio.com/myid/.json the following data\n",
    "# Find next 5 times that ISS will be closest to Riga\n",
    "# http://open-notify.org/Open-Notify-API/ISS-Pass-Times/\n",
    "# Names of people in space on ISS\n",
    "# http://open-notify.org/Open-Notify-API/People-In-Space/"
   ]
  },
  {
   "cell_type": "code",
   "execution_count": 36,
   "metadata": {},
   "outputs": [
    {
     "name": "stdout",
     "output_type": "stream",
     "text": [
      "<Response [200]>\n"
     ]
    },
    {
     "data": {
      "text/plain": [
       "{'message': 'success',\n",
       " 'number': 6,\n",
       " 'people': [{'craft': 'ISS', 'name': 'Oleg Artemyev'},\n",
       "  {'craft': 'ISS', 'name': 'Andrew Feustel'},\n",
       "  {'craft': 'ISS', 'name': 'Richard Arnold'},\n",
       "  {'craft': 'ISS', 'name': 'Sergey Prokopyev'},\n",
       "  {'craft': 'ISS', 'name': 'Alexander Gerst'},\n",
       "  {'craft': 'ISS', 'name': 'Serena Aunon-Chancellor'}]}"
      ]
     },
     "execution_count": 36,
     "metadata": {},
     "output_type": "execute_result"
    }
   ],
   "source": [
    "response = requests.get(\"http://api.open-notify.org/astros.json\")\n",
    "print(response)\n",
    "data = json.loads(response.text)\n",
    "data\n"
   ]
  },
  {
   "cell_type": "code",
   "execution_count": 37,
   "metadata": {},
   "outputs": [
    {
     "data": {
      "text/plain": [
       "'{\"message\": \"success\", \"people\": [{\"craft\": \"ISS\", \"name\": \"Oleg Artemyev\"}, {\"craft\": \"ISS\", \"name\": \"Andrew Feustel\"}, {\"craft\": \"ISS\", \"name\": \"Richard Arnold\"}, {\"craft\": \"ISS\", \"name\": \"Sergey Prokopyev\"}, {\"craft\": \"ISS\", \"name\": \"Alexander Gerst\"}, {\"craft\": \"ISS\", \"name\": \"Serena Aunon-Chancellor\"}], \"number\": 6}'"
      ]
     },
     "execution_count": 37,
     "metadata": {},
     "output_type": "execute_result"
    }
   ],
   "source": [
    "response.text"
   ]
  },
  {
   "cell_type": "code",
   "execution_count": 40,
   "metadata": {},
   "outputs": [
    {
     "data": {
      "text/plain": [
       "{'astronauts': {'message': 'success',\n",
       "  'number': 6,\n",
       "  'people': [{'craft': 'ISS', 'name': 'Oleg Artemyev'},\n",
       "   {'craft': 'ISS', 'name': 'Andrew Feustel'},\n",
       "   {'craft': 'ISS', 'name': 'Richard Arnold'},\n",
       "   {'craft': 'ISS', 'name': 'Sergey Prokopyev'},\n",
       "   {'craft': 'ISS', 'name': 'Alexander Gerst'},\n",
       "   {'craft': 'ISS', 'name': 'Serena Aunon-Chancellor'}]},\n",
       " 'name': 'Vsa'}"
      ]
     },
     "execution_count": 40,
     "metadata": {},
     "output_type": "execute_result"
    }
   ],
   "source": [
    "mydict = {'name':'Vsa', 'astronauts':data}\n",
    "mydict"
   ]
  },
  {
   "cell_type": "code",
   "execution_count": null,
   "metadata": {},
   "outputs": [],
   "source": []
  },
  {
   "cell_type": "code",
   "execution_count": 41,
   "metadata": {},
   "outputs": [
    {
     "data": {
      "text/plain": [
       "<Response [200]>"
      ]
     },
     "execution_count": 41,
     "metadata": {},
     "output_type": "execute_result"
    }
   ],
   "source": [
    "response = requests.put(\"https://bb-builder-91579.firebaseio.com/users/9/.json\", json.dumps(mydict))\n",
    "response"
   ]
  },
  {
   "cell_type": "code",
   "execution_count": 43,
   "metadata": {},
   "outputs": [
    {
     "name": "stdout",
     "output_type": "stream",
     "text": [
      "<Response [200]>\n"
     ]
    },
    {
     "data": {
      "text/plain": [
       "{'myid': {'users': ['Edvins']},\n",
       " 'users': ['Eduards',\n",
       "  {'astropeople': {'message': 'success',\n",
       "    'number': 6,\n",
       "    'people': [{'craft': 'ISS', 'name': 'Oleg Artemyev'},\n",
       "     {'craft': 'ISS', 'name': 'Andrew Feustel'},\n",
       "     {'craft': 'ISS', 'name': 'Richard Arnold'},\n",
       "     {'craft': 'ISS', 'name': 'Sergey Prokopyev'},\n",
       "     {'craft': 'ISS', 'name': 'Alexander Gerst'},\n",
       "     {'craft': 'ISS', 'name': 'Serena Aunon-Chancellor'}]},\n",
       "   'name': 'ESe'},\n",
       "  'IFl',\n",
       "  'Igr',\n",
       "  'Ich',\n",
       "  'NOc',\n",
       "  {'astronauts': {'message': 'success',\n",
       "    'number': 6,\n",
       "    'people': [{'craft': 'ISS', 'name': 'Oleg Artemyev'},\n",
       "     {'craft': 'ISS', 'name': 'Andrew Feustel'},\n",
       "     {'craft': 'ISS', 'name': 'Richard Arnold'},\n",
       "     {'craft': 'ISS', 'name': 'Sergey Prokopyev'},\n",
       "     {'craft': 'ISS', 'name': 'Alexander Gerst'},\n",
       "     {'craft': 'ISS', 'name': 'Serena Aunon-Chancellor'}]},\n",
       "   'name': 'RLi'},\n",
       "  'RPa',\n",
       "  'ZZa',\n",
       "  {'NOc': {'ISS': {'astronauts': {'message': 'success',\n",
       "      'number': 6,\n",
       "      'people': [{'craft': 'ISS', 'name': 'Oleg Artemyev'},\n",
       "       {'craft': 'ISS', 'name': 'Andrew Feustel'},\n",
       "       {'craft': 'ISS', 'name': 'Richard Arnold'},\n",
       "       {'craft': 'ISS', 'name': 'Sergey Prokopyev'},\n",
       "       {'craft': 'ISS', 'name': 'Alexander Gerst'},\n",
       "       {'craft': 'ISS', 'name': 'Serena Aunon-Chancellor'}]},\n",
       "     'name': 'NOc'}},\n",
       "   'astronauts': {'message': 'success',\n",
       "    'number': 6,\n",
       "    'people': [{'craft': 'ISS', 'name': 'Oleg Artemyev'},\n",
       "     {'craft': 'ISS', 'name': 'Andrew Feustel'},\n",
       "     {'craft': 'ISS', 'name': 'Richard Arnold'},\n",
       "     {'craft': 'ISS', 'name': 'Sergey Prokopyev'},\n",
       "     {'craft': 'ISS', 'name': 'Alexander Gerst'},\n",
       "     {'craft': 'ISS', 'name': 'Serena Aunon-Chancellor'}]},\n",
       "   'name': 'Vsa'}]}"
      ]
     },
     "execution_count": 43,
     "metadata": {},
     "output_type": "execute_result"
    }
   ],
   "source": [
    "response = requests.get(\"https://bb-builder-91579.firebaseio.com/.json\")\n",
    "fulldb = json.loads(response.text)\n",
    "print(response)\n",
    "fulldb"
   ]
  },
  {
   "cell_type": "markdown",
   "metadata": {},
   "source": [
    "###  Working with JSON data\n",
    "\n",
    "You may have noticed that the content of the response earlier was a string (although it was shown as a bytes object, we can easily convert the content to a string using response.content.decode(\"utf-8\"))."
   ]
  }
 ],
 "metadata": {
  "kernelspec": {
   "display_name": "Python 3",
   "language": "python",
   "name": "python3"
  },
  "language_info": {
   "codemirror_mode": {
    "name": "ipython",
    "version": 3
   },
   "file_extension": ".py",
   "mimetype": "text/x-python",
   "name": "python",
   "nbconvert_exporter": "python",
   "pygments_lexer": "ipython3",
   "version": "3.6.4"
  }
 },
 "nbformat": 4,
 "nbformat_minor": 2
}
