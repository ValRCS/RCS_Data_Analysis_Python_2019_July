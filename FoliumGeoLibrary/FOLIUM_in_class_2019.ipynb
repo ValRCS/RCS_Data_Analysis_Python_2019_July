{
 "cells": [
  {
   "cell_type": "code",
   "execution_count": 1,
   "metadata": {},
   "outputs": [],
   "source": [
    "import pandas as pd\n",
    "import folium\n",
    "from folium import plugins\n",
    "import os\n",
    "import json"
   ]
  },
  {
   "cell_type": "code",
   "execution_count": 5,
   "metadata": {
    "scrolled": true
   },
   "outputs": [
    {
     "name": "stdout",
     "output_type": "stream",
     "text": [
      "Requirement already satisfied: folium in c:\\programdata\\anaconda3\\lib\\site-packages (0.8.3)\n",
      "Requirement already satisfied: branca>=0.3.0 in c:\\programdata\\anaconda3\\lib\\site-packages (from folium) (0.3.1)\n",
      "Requirement already satisfied: six in c:\\programdata\\anaconda3\\lib\\site-packages (from folium) (1.12.0)\n",
      "Requirement already satisfied: jinja2 in c:\\programdata\\anaconda3\\lib\\site-packages (from folium) (2.10)\n",
      "Requirement already satisfied: requests in c:\\programdata\\anaconda3\\lib\\site-packages (from folium) (2.21.0)\n",
      "Requirement already satisfied: numpy in c:\\programdata\\anaconda3\\lib\\site-packages (from folium) (1.16.2)\n",
      "Requirement already satisfied: MarkupSafe>=0.23 in c:\\programdata\\anaconda3\\lib\\site-packages (from jinja2->folium) (1.1.1)\n",
      "Requirement already satisfied: certifi>=2017.4.17 in c:\\programdata\\anaconda3\\lib\\site-packages (from requests->folium) (2019.3.9)\n",
      "Requirement already satisfied: urllib3<1.25,>=1.21.1 in c:\\programdata\\anaconda3\\lib\\site-packages (from requests->folium) (1.24.1)\n",
      "Requirement already satisfied: idna<2.9,>=2.5 in c:\\programdata\\anaconda3\\lib\\site-packages (from requests->folium) (2.8)\n",
      "Requirement already satisfied: chardet<3.1.0,>=3.0.2 in c:\\programdata\\anaconda3\\lib\\site-packages (from requests->folium) (3.0.4)\n"
     ]
    }
   ],
   "source": [
    "!pip install folium"
   ]
  },
  {
   "cell_type": "code",
   "execution_count": 6,
   "metadata": {},
   "outputs": [],
   "source": [
    "import folium\n",
    "from folium import plugins"
   ]
  },
  {
   "cell_type": "code",
   "execution_count": 37,
   "metadata": {},
   "outputs": [
    {
     "data": {
      "text/html": [
       "<div style=\"width:100%;\"><div style=\"position:relative;width:100%;height:0;padding-bottom:60%;\"><iframe src=\"data:text/html;charset=utf-8;base64,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\" style=\"position:absolute;width:100%;height:100%;left:0;top:0;border:none !important;\" allowfullscreen webkitallowfullscreen mozallowfullscreen></iframe></div></div>"
      ],
      "text/plain": [
       "<folium.folium.Map at 0x1e48e3990b8>"
      ]
     },
     "execution_count": 37,
     "metadata": {},
     "output_type": "execute_result"
    }
   ],
   "source": [
    "world = folium.Map()\n",
    "world"
   ]
  },
  {
   "cell_type": "code",
   "execution_count": 4,
   "metadata": {
    "scrolled": true
   },
   "outputs": [
    {
     "data": {
      "text/html": [
       "<div style=\"width:100%;\"><div style=\"position:relative;width:100%;height:0;padding-bottom:60%;\"><iframe src=\"data:text/html;charset=utf-8;base64,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\" style=\"position:absolute;width:100%;height:100%;left:0;top:0;border:none !important;\" allowfullscreen webkitallowfullscreen mozallowfullscreen></iframe></div></div>"
      ],
      "text/plain": [
       "<folium.folium.Map at 0x1e485f522b0>"
      ]
     },
     "execution_count": 4,
     "metadata": {},
     "output_type": "execute_result"
    }
   ],
   "source": [
    "latvijas_universitate = folium.Map(location=[56.95080,24.11650],\n",
    "                    zoom_start = 10)\n",
    "latvijas_universitate"
   ]
  },
  {
   "cell_type": "code",
   "execution_count": 5,
   "metadata": {},
   "outputs": [],
   "source": [
    "import pandas as pd"
   ]
  },
  {
   "cell_type": "code",
   "execution_count": 6,
   "metadata": {},
   "outputs": [],
   "source": [
    "import json"
   ]
  },
  {
   "cell_type": "code",
   "execution_count": 7,
   "metadata": {},
   "outputs": [
    {
     "name": "stdout",
     "output_type": "stream",
     "text": [
      " Volume in drive C is Windows\n",
      " Volume Serial Number is 5AA0-2A07\n",
      "\n",
      " Directory of C:\\Users\\val-p1\\Github\\RCS_Data_Analysis_Python_2019_May\\Folium_Mapping_Lib\n",
      "\n",
      "06/18/2019  04:12 PM    <DIR>          .\n",
      "06/18/2019  04:12 PM    <DIR>          ..\n",
      "06/18/2019  04:12 PM    <DIR>          .ipynb_checkpoints\n",
      "06/04/2019  04:03 PM        13,750,339 cities.json\n",
      "06/04/2019  04:03 PM           448,259 FOLIUM.ipynb\n",
      "06/04/2019  04:03 PM            18,535 FOLIUM_in_class.ipynb\n",
      "06/18/2019  04:12 PM           238,416 FOLIUM_in_class_18.04.2019.ipynb\n",
      "06/04/2019  04:03 PM               419 README.md\n",
      "06/04/2019  04:03 PM            49,467 riga.json\n",
      "06/04/2019  04:03 PM            87,739 us-states.json\n",
      "06/04/2019  04:03 PM               417 US_Unemployment_Oct2012.csv\n",
      "               8 File(s)     14,593,591 bytes\n",
      "               3 Dir(s)  427,022,458,880 bytes free\n"
     ]
    }
   ],
   "source": [
    "!dir"
   ]
  },
  {
   "cell_type": "code",
   "execution_count": 8,
   "metadata": {},
   "outputs": [
    {
     "ename": "UnicodeDecodeError",
     "evalue": "'charmap' codec can't decode byte 0x81 in position 1448: character maps to <undefined>",
     "output_type": "error",
     "traceback": [
      "\u001b[1;31m---------------------------------------------------------------------------\u001b[0m",
      "\u001b[1;31mUnicodeDecodeError\u001b[0m                        Traceback (most recent call last)",
      "\u001b[1;32m<ipython-input-8-4e9670e0707d>\u001b[0m in \u001b[0;36m<module>\u001b[1;34m\u001b[0m\n\u001b[0;32m      1\u001b[0m \u001b[1;32mwith\u001b[0m \u001b[0mopen\u001b[0m\u001b[1;33m(\u001b[0m\u001b[1;34m'cities.json'\u001b[0m\u001b[1;33m)\u001b[0m \u001b[1;32mas\u001b[0m \u001b[0mfile_in\u001b[0m\u001b[1;33m:\u001b[0m\u001b[1;33m\u001b[0m\u001b[1;33m\u001b[0m\u001b[0m\n\u001b[1;32m----> 2\u001b[1;33m     \u001b[0mmydata\u001b[0m \u001b[1;33m=\u001b[0m \u001b[0mjson\u001b[0m\u001b[1;33m.\u001b[0m\u001b[0mloads\u001b[0m\u001b[1;33m(\u001b[0m\u001b[0mfile_in\u001b[0m\u001b[1;33m.\u001b[0m\u001b[0mread\u001b[0m\u001b[1;33m(\u001b[0m\u001b[1;33m)\u001b[0m\u001b[1;33m)\u001b[0m\u001b[1;33m\u001b[0m\u001b[1;33m\u001b[0m\u001b[0m\n\u001b[0m",
      "\u001b[1;32mC:\\ProgramData\\Anaconda3\\lib\\encodings\\cp1252.py\u001b[0m in \u001b[0;36mdecode\u001b[1;34m(self, input, final)\u001b[0m\n\u001b[0;32m     21\u001b[0m \u001b[1;32mclass\u001b[0m \u001b[0mIncrementalDecoder\u001b[0m\u001b[1;33m(\u001b[0m\u001b[0mcodecs\u001b[0m\u001b[1;33m.\u001b[0m\u001b[0mIncrementalDecoder\u001b[0m\u001b[1;33m)\u001b[0m\u001b[1;33m:\u001b[0m\u001b[1;33m\u001b[0m\u001b[1;33m\u001b[0m\u001b[0m\n\u001b[0;32m     22\u001b[0m     \u001b[1;32mdef\u001b[0m \u001b[0mdecode\u001b[0m\u001b[1;33m(\u001b[0m\u001b[0mself\u001b[0m\u001b[1;33m,\u001b[0m \u001b[0minput\u001b[0m\u001b[1;33m,\u001b[0m \u001b[0mfinal\u001b[0m\u001b[1;33m=\u001b[0m\u001b[1;32mFalse\u001b[0m\u001b[1;33m)\u001b[0m\u001b[1;33m:\u001b[0m\u001b[1;33m\u001b[0m\u001b[1;33m\u001b[0m\u001b[0m\n\u001b[1;32m---> 23\u001b[1;33m         \u001b[1;32mreturn\u001b[0m \u001b[0mcodecs\u001b[0m\u001b[1;33m.\u001b[0m\u001b[0mcharmap_decode\u001b[0m\u001b[1;33m(\u001b[0m\u001b[0minput\u001b[0m\u001b[1;33m,\u001b[0m\u001b[0mself\u001b[0m\u001b[1;33m.\u001b[0m\u001b[0merrors\u001b[0m\u001b[1;33m,\u001b[0m\u001b[0mdecoding_table\u001b[0m\u001b[1;33m)\u001b[0m\u001b[1;33m[\u001b[0m\u001b[1;36m0\u001b[0m\u001b[1;33m]\u001b[0m\u001b[1;33m\u001b[0m\u001b[1;33m\u001b[0m\u001b[0m\n\u001b[0m\u001b[0;32m     24\u001b[0m \u001b[1;33m\u001b[0m\u001b[0m\n\u001b[0;32m     25\u001b[0m \u001b[1;32mclass\u001b[0m \u001b[0mStreamWriter\u001b[0m\u001b[1;33m(\u001b[0m\u001b[0mCodec\u001b[0m\u001b[1;33m,\u001b[0m\u001b[0mcodecs\u001b[0m\u001b[1;33m.\u001b[0m\u001b[0mStreamWriter\u001b[0m\u001b[1;33m)\u001b[0m\u001b[1;33m:\u001b[0m\u001b[1;33m\u001b[0m\u001b[1;33m\u001b[0m\u001b[0m\n",
      "\u001b[1;31mUnicodeDecodeError\u001b[0m: 'charmap' codec can't decode byte 0x81 in position 1448: character maps to <undefined>"
     ]
    }
   ],
   "source": [
    "with open('cities.json') as file_in:\n",
    "    mydata = json.loads(file_in.read())"
   ]
  },
  {
   "cell_type": "code",
   "execution_count": 9,
   "metadata": {},
   "outputs": [
    {
     "data": {
      "text/html": [
       "<div>\n",
       "<style scoped>\n",
       "    .dataframe tbody tr th:only-of-type {\n",
       "        vertical-align: middle;\n",
       "    }\n",
       "\n",
       "    .dataframe tbody tr th {\n",
       "        vertical-align: top;\n",
       "    }\n",
       "\n",
       "    .dataframe thead th {\n",
       "        text-align: right;\n",
       "    }\n",
       "</style>\n",
       "<table border=\"1\" class=\"dataframe\">\n",
       "  <thead>\n",
       "    <tr style=\"text-align: right;\">\n",
       "      <th></th>\n",
       "      <th>country</th>\n",
       "      <th>lat</th>\n",
       "      <th>lng</th>\n",
       "      <th>name</th>\n",
       "    </tr>\n",
       "  </thead>\n",
       "  <tbody>\n",
       "    <tr>\n",
       "      <th>20</th>\n",
       "      <td>AE</td>\n",
       "      <td>24.19167</td>\n",
       "      <td>55.76056</td>\n",
       "      <td>Al Ain</td>\n",
       "    </tr>\n",
       "    <tr>\n",
       "      <th>21</th>\n",
       "      <td>AE</td>\n",
       "      <td>25.41111</td>\n",
       "      <td>55.43504</td>\n",
       "      <td>Ajman</td>\n",
       "    </tr>\n",
       "    <tr>\n",
       "      <th>22</th>\n",
       "      <td>AE</td>\n",
       "      <td>25.28812</td>\n",
       "      <td>55.88157</td>\n",
       "      <td>Adh Dhayd</td>\n",
       "    </tr>\n",
       "    <tr>\n",
       "      <th>23</th>\n",
       "      <td>AE</td>\n",
       "      <td>24.46667</td>\n",
       "      <td>54.36667</td>\n",
       "      <td>Abu Dhabi</td>\n",
       "    </tr>\n",
       "    <tr>\n",
       "      <th>24</th>\n",
       "      <td>AF</td>\n",
       "      <td>33.54149</td>\n",
       "      <td>69.73446</td>\n",
       "      <td>Zorkot</td>\n",
       "    </tr>\n",
       "    <tr>\n",
       "      <th>25</th>\n",
       "      <td>AF</td>\n",
       "      <td>34.34360</td>\n",
       "      <td>67.90567</td>\n",
       "      <td>Wulêswālī Bihsūd</td>\n",
       "    </tr>\n",
       "    <tr>\n",
       "      <th>26</th>\n",
       "      <td>AF</td>\n",
       "      <td>34.65389</td>\n",
       "      <td>61.19778</td>\n",
       "      <td>Kuhsān</td>\n",
       "    </tr>\n",
       "    <tr>\n",
       "      <th>27</th>\n",
       "      <td>AF</td>\n",
       "      <td>35.37820</td>\n",
       "      <td>64.77457</td>\n",
       "      <td>Lāsh</td>\n",
       "    </tr>\n",
       "    <tr>\n",
       "      <th>28</th>\n",
       "      <td>AF</td>\n",
       "      <td>35.94831</td>\n",
       "      <td>66.42132</td>\n",
       "      <td>Tukzār</td>\n",
       "    </tr>\n",
       "    <tr>\n",
       "      <th>29</th>\n",
       "      <td>AF</td>\n",
       "      <td>33.32462</td>\n",
       "      <td>68.44068</td>\n",
       "      <td>Mīray</td>\n",
       "    </tr>\n",
       "  </tbody>\n",
       "</table>\n",
       "</div>"
      ],
      "text/plain": [
       "   country       lat       lng              name\n",
       "20      AE  24.19167  55.76056            Al Ain\n",
       "21      AE  25.41111  55.43504             Ajman\n",
       "22      AE  25.28812  55.88157         Adh Dhayd\n",
       "23      AE  24.46667  54.36667         Abu Dhabi\n",
       "24      AF  33.54149  69.73446            Zorkot\n",
       "25      AF  34.34360  67.90567  Wulêswālī Bihsūd\n",
       "26      AF  34.65389  61.19778            Kuhsān\n",
       "27      AF  35.37820  64.77457              Lāsh\n",
       "28      AF  35.94831  66.42132            Tukzār\n",
       "29      AF  33.32462  68.44068             Mīray"
      ]
     },
     "execution_count": 9,
     "metadata": {},
     "output_type": "execute_result"
    }
   ],
   "source": [
    "df = pd.read_json('cities.json', encoding=\"UTF-8\")\n",
    "#df = pd.read_json('riga.json', encoding=\"UTF-8\")\n",
    "df[20:30]"
   ]
  },
  {
   "cell_type": "code",
   "execution_count": 11,
   "metadata": {},
   "outputs": [
    {
     "data": {
      "text/plain": [
       "128769"
      ]
     },
     "execution_count": 11,
     "metadata": {},
     "output_type": "execute_result"
    }
   ],
   "source": [
    "len(df)"
   ]
  },
  {
   "cell_type": "code",
   "execution_count": 12,
   "metadata": {},
   "outputs": [],
   "source": [
    "df.index = df['name']"
   ]
  },
  {
   "cell_type": "code",
   "execution_count": 13,
   "metadata": {},
   "outputs": [
    {
     "data": {
      "text/html": [
       "<div>\n",
       "<style scoped>\n",
       "    .dataframe tbody tr th:only-of-type {\n",
       "        vertical-align: middle;\n",
       "    }\n",
       "\n",
       "    .dataframe tbody tr th {\n",
       "        vertical-align: top;\n",
       "    }\n",
       "\n",
       "    .dataframe thead th {\n",
       "        text-align: right;\n",
       "    }\n",
       "</style>\n",
       "<table border=\"1\" class=\"dataframe\">\n",
       "  <thead>\n",
       "    <tr style=\"text-align: right;\">\n",
       "      <th></th>\n",
       "      <th>country</th>\n",
       "      <th>lat</th>\n",
       "      <th>lng</th>\n",
       "      <th>name</th>\n",
       "    </tr>\n",
       "    <tr>\n",
       "      <th>name</th>\n",
       "      <th></th>\n",
       "      <th></th>\n",
       "      <th></th>\n",
       "      <th></th>\n",
       "    </tr>\n",
       "  </thead>\n",
       "  <tbody>\n",
       "    <tr>\n",
       "      <th>Sant Julià de Lòria</th>\n",
       "      <td>AD</td>\n",
       "      <td>42.46372</td>\n",
       "      <td>1.49129</td>\n",
       "      <td>Sant Julià de Lòria</td>\n",
       "    </tr>\n",
       "    <tr>\n",
       "      <th>Pas de la Casa</th>\n",
       "      <td>AD</td>\n",
       "      <td>42.54277</td>\n",
       "      <td>1.73361</td>\n",
       "      <td>Pas de la Casa</td>\n",
       "    </tr>\n",
       "    <tr>\n",
       "      <th>Ordino</th>\n",
       "      <td>AD</td>\n",
       "      <td>42.55623</td>\n",
       "      <td>1.53319</td>\n",
       "      <td>Ordino</td>\n",
       "    </tr>\n",
       "    <tr>\n",
       "      <th>les Escaldes</th>\n",
       "      <td>AD</td>\n",
       "      <td>42.50729</td>\n",
       "      <td>1.53414</td>\n",
       "      <td>les Escaldes</td>\n",
       "    </tr>\n",
       "    <tr>\n",
       "      <th>la Massana</th>\n",
       "      <td>AD</td>\n",
       "      <td>42.54499</td>\n",
       "      <td>1.51483</td>\n",
       "      <td>la Massana</td>\n",
       "    </tr>\n",
       "  </tbody>\n",
       "</table>\n",
       "</div>"
      ],
      "text/plain": [
       "                    country       lat      lng                 name\n",
       "name                                                               \n",
       "Sant Julià de Lòria      AD  42.46372  1.49129  Sant Julià de Lòria\n",
       "Pas de la Casa           AD  42.54277  1.73361       Pas de la Casa\n",
       "Ordino                   AD  42.55623  1.53319               Ordino\n",
       "les Escaldes             AD  42.50729  1.53414         les Escaldes\n",
       "la Massana               AD  42.54499  1.51483           la Massana"
      ]
     },
     "execution_count": 13,
     "metadata": {},
     "output_type": "execute_result"
    }
   ],
   "source": [
    "df.head()"
   ]
  },
  {
   "cell_type": "code",
   "execution_count": 14,
   "metadata": {},
   "outputs": [
    {
     "ename": "SyntaxError",
     "evalue": "invalid syntax (<ipython-input-14-b054a1f74ae9>, line 1)",
     "output_type": "error",
     "traceback": [
      "\u001b[1;36m  File \u001b[1;32m\"<ipython-input-14-b054a1f74ae9>\"\u001b[1;36m, line \u001b[1;32m1\u001b[0m\n\u001b[1;33m    'Riga' in df.loc[]\u001b[0m\n\u001b[1;37m                     ^\u001b[0m\n\u001b[1;31mSyntaxError\u001b[0m\u001b[1;31m:\u001b[0m invalid syntax\n"
     ]
    }
   ],
   "source": [
    "'Riga' in df.loc[]"
   ]
  },
  {
   "cell_type": "code",
   "execution_count": 16,
   "metadata": {},
   "outputs": [
    {
     "ename": "AttributeError",
     "evalue": "'DataFrame' object has no attribute 'Riga'",
     "output_type": "error",
     "traceback": [
      "\u001b[1;31m---------------------------------------------------------------------------\u001b[0m",
      "\u001b[1;31mAttributeError\u001b[0m                            Traceback (most recent call last)",
      "\u001b[1;32m<ipython-input-16-a1bb46e769ca>\u001b[0m in \u001b[0;36m<module>\u001b[1;34m\u001b[0m\n\u001b[1;32m----> 1\u001b[1;33m \u001b[0mdf\u001b[0m\u001b[1;33m.\u001b[0m\u001b[0mRiga\u001b[0m\u001b[1;33m\u001b[0m\u001b[1;33m\u001b[0m\u001b[0m\n\u001b[0m",
      "\u001b[1;32mC:\\ProgramData\\Anaconda3\\lib\\site-packages\\pandas\\core\\generic.py\u001b[0m in \u001b[0;36m__getattr__\u001b[1;34m(self, name)\u001b[0m\n\u001b[0;32m   5065\u001b[0m             \u001b[1;32mif\u001b[0m \u001b[0mself\u001b[0m\u001b[1;33m.\u001b[0m\u001b[0m_info_axis\u001b[0m\u001b[1;33m.\u001b[0m\u001b[0m_can_hold_identifiers_and_holds_name\u001b[0m\u001b[1;33m(\u001b[0m\u001b[0mname\u001b[0m\u001b[1;33m)\u001b[0m\u001b[1;33m:\u001b[0m\u001b[1;33m\u001b[0m\u001b[1;33m\u001b[0m\u001b[0m\n\u001b[0;32m   5066\u001b[0m                 \u001b[1;32mreturn\u001b[0m \u001b[0mself\u001b[0m\u001b[1;33m[\u001b[0m\u001b[0mname\u001b[0m\u001b[1;33m]\u001b[0m\u001b[1;33m\u001b[0m\u001b[1;33m\u001b[0m\u001b[0m\n\u001b[1;32m-> 5067\u001b[1;33m             \u001b[1;32mreturn\u001b[0m \u001b[0mobject\u001b[0m\u001b[1;33m.\u001b[0m\u001b[0m__getattribute__\u001b[0m\u001b[1;33m(\u001b[0m\u001b[0mself\u001b[0m\u001b[1;33m,\u001b[0m \u001b[0mname\u001b[0m\u001b[1;33m)\u001b[0m\u001b[1;33m\u001b[0m\u001b[1;33m\u001b[0m\u001b[0m\n\u001b[0m\u001b[0;32m   5068\u001b[0m \u001b[1;33m\u001b[0m\u001b[0m\n\u001b[0;32m   5069\u001b[0m     \u001b[1;32mdef\u001b[0m \u001b[0m__setattr__\u001b[0m\u001b[1;33m(\u001b[0m\u001b[0mself\u001b[0m\u001b[1;33m,\u001b[0m \u001b[0mname\u001b[0m\u001b[1;33m,\u001b[0m \u001b[0mvalue\u001b[0m\u001b[1;33m)\u001b[0m\u001b[1;33m:\u001b[0m\u001b[1;33m\u001b[0m\u001b[1;33m\u001b[0m\u001b[0m\n",
      "\u001b[1;31mAttributeError\u001b[0m: 'DataFrame' object has no attribute 'Riga'"
     ]
    }
   ],
   "source": [
    "df.Riga"
   ]
  },
  {
   "cell_type": "code",
   "execution_count": null,
   "metadata": {},
   "outputs": [],
   "source": []
  },
  {
   "cell_type": "code",
   "execution_count": 15,
   "metadata": {},
   "outputs": [
    {
     "data": {
      "text/html": [
       "<div>\n",
       "<style scoped>\n",
       "    .dataframe tbody tr th:only-of-type {\n",
       "        vertical-align: middle;\n",
       "    }\n",
       "\n",
       "    .dataframe tbody tr th {\n",
       "        vertical-align: top;\n",
       "    }\n",
       "\n",
       "    .dataframe thead th {\n",
       "        text-align: right;\n",
       "    }\n",
       "</style>\n",
       "<table border=\"1\" class=\"dataframe\">\n",
       "  <thead>\n",
       "    <tr style=\"text-align: right;\">\n",
       "      <th></th>\n",
       "      <th>country</th>\n",
       "      <th>lat</th>\n",
       "      <th>lng</th>\n",
       "      <th>name</th>\n",
       "    </tr>\n",
       "    <tr>\n",
       "      <th>name</th>\n",
       "      <th></th>\n",
       "      <th></th>\n",
       "      <th></th>\n",
       "      <th></th>\n",
       "    </tr>\n",
       "  </thead>\n",
       "  <tbody>\n",
       "    <tr>\n",
       "      <th>Riga</th>\n",
       "      <td>LV</td>\n",
       "      <td>56.946</td>\n",
       "      <td>24.10589</td>\n",
       "      <td>Riga</td>\n",
       "    </tr>\n",
       "  </tbody>\n",
       "</table>\n",
       "</div>"
      ],
      "text/plain": [
       "     country     lat       lng  name\n",
       "name                                \n",
       "Riga      LV  56.946  24.10589  Riga"
      ]
     },
     "execution_count": 15,
     "metadata": {},
     "output_type": "execute_result"
    }
   ],
   "source": [
    "df.loc[['Riga']]"
   ]
  },
  {
   "cell_type": "code",
   "execution_count": 17,
   "metadata": {},
   "outputs": [
    {
     "data": {
      "text/html": [
       "<div>\n",
       "<style scoped>\n",
       "    .dataframe tbody tr th:only-of-type {\n",
       "        vertical-align: middle;\n",
       "    }\n",
       "\n",
       "    .dataframe tbody tr th {\n",
       "        vertical-align: top;\n",
       "    }\n",
       "\n",
       "    .dataframe thead th {\n",
       "        text-align: right;\n",
       "    }\n",
       "</style>\n",
       "<table border=\"1\" class=\"dataframe\">\n",
       "  <thead>\n",
       "    <tr style=\"text-align: right;\">\n",
       "      <th></th>\n",
       "      <th>country</th>\n",
       "      <th>lat</th>\n",
       "      <th>lng</th>\n",
       "      <th>name</th>\n",
       "    </tr>\n",
       "    <tr>\n",
       "      <th>name</th>\n",
       "      <th></th>\n",
       "      <th></th>\n",
       "      <th></th>\n",
       "      <th></th>\n",
       "    </tr>\n",
       "  </thead>\n",
       "  <tbody>\n",
       "    <tr>\n",
       "      <th>Riga</th>\n",
       "      <td>LV</td>\n",
       "      <td>56.946</td>\n",
       "      <td>24.10589</td>\n",
       "      <td>Riga</td>\n",
       "    </tr>\n",
       "  </tbody>\n",
       "</table>\n",
       "</div>"
      ],
      "text/plain": [
       "     country     lat       lng  name\n",
       "name                                \n",
       "Riga      LV  56.946  24.10589  Riga"
      ]
     },
     "execution_count": 17,
     "metadata": {},
     "output_type": "execute_result"
    }
   ],
   "source": [
    "Riga = df[df.name == 'Riga']\n",
    "Riga"
   ]
  },
  {
   "cell_type": "code",
   "execution_count": null,
   "metadata": {},
   "outputs": [],
   "source": []
  },
  {
   "cell_type": "code",
   "execution_count": 18,
   "metadata": {},
   "outputs": [
    {
     "data": {
      "text/html": [
       "<div>\n",
       "<style scoped>\n",
       "    .dataframe tbody tr th:only-of-type {\n",
       "        vertical-align: middle;\n",
       "    }\n",
       "\n",
       "    .dataframe tbody tr th {\n",
       "        vertical-align: top;\n",
       "    }\n",
       "\n",
       "    .dataframe thead th {\n",
       "        text-align: right;\n",
       "    }\n",
       "</style>\n",
       "<table border=\"1\" class=\"dataframe\">\n",
       "  <thead>\n",
       "    <tr style=\"text-align: right;\">\n",
       "      <th></th>\n",
       "      <th>country</th>\n",
       "      <th>lat</th>\n",
       "      <th>lng</th>\n",
       "      <th>name</th>\n",
       "    </tr>\n",
       "    <tr>\n",
       "      <th>name</th>\n",
       "      <th></th>\n",
       "      <th></th>\n",
       "      <th></th>\n",
       "      <th></th>\n",
       "    </tr>\n",
       "  </thead>\n",
       "  <tbody>\n",
       "    <tr>\n",
       "      <th>Sant Julià de Lòria</th>\n",
       "      <td>AD</td>\n",
       "      <td>42.46372</td>\n",
       "      <td>1.49129</td>\n",
       "      <td>Sant Julià de Lòria</td>\n",
       "    </tr>\n",
       "    <tr>\n",
       "      <th>Pas de la Casa</th>\n",
       "      <td>AD</td>\n",
       "      <td>42.54277</td>\n",
       "      <td>1.73361</td>\n",
       "      <td>Pas de la Casa</td>\n",
       "    </tr>\n",
       "    <tr>\n",
       "      <th>Ordino</th>\n",
       "      <td>AD</td>\n",
       "      <td>42.55623</td>\n",
       "      <td>1.53319</td>\n",
       "      <td>Ordino</td>\n",
       "    </tr>\n",
       "    <tr>\n",
       "      <th>les Escaldes</th>\n",
       "      <td>AD</td>\n",
       "      <td>42.50729</td>\n",
       "      <td>1.53414</td>\n",
       "      <td>les Escaldes</td>\n",
       "    </tr>\n",
       "    <tr>\n",
       "      <th>la Massana</th>\n",
       "      <td>AD</td>\n",
       "      <td>42.54499</td>\n",
       "      <td>1.51483</td>\n",
       "      <td>la Massana</td>\n",
       "    </tr>\n",
       "    <tr>\n",
       "      <th>Encamp</th>\n",
       "      <td>AD</td>\n",
       "      <td>42.53474</td>\n",
       "      <td>1.58014</td>\n",
       "      <td>Encamp</td>\n",
       "    </tr>\n",
       "    <tr>\n",
       "      <th>Canillo</th>\n",
       "      <td>AD</td>\n",
       "      <td>42.56760</td>\n",
       "      <td>1.59756</td>\n",
       "      <td>Canillo</td>\n",
       "    </tr>\n",
       "    <tr>\n",
       "      <th>Arinsal</th>\n",
       "      <td>AD</td>\n",
       "      <td>42.57205</td>\n",
       "      <td>1.48453</td>\n",
       "      <td>Arinsal</td>\n",
       "    </tr>\n",
       "    <tr>\n",
       "      <th>Andorra la Vella</th>\n",
       "      <td>AD</td>\n",
       "      <td>42.50779</td>\n",
       "      <td>1.52109</td>\n",
       "      <td>Andorra la Vella</td>\n",
       "    </tr>\n",
       "    <tr>\n",
       "      <th>Umm al Qaywayn</th>\n",
       "      <td>AE</td>\n",
       "      <td>25.56473</td>\n",
       "      <td>55.55517</td>\n",
       "      <td>Umm al Qaywayn</td>\n",
       "    </tr>\n",
       "    <tr>\n",
       "      <th>Ras al-Khaimah</th>\n",
       "      <td>AE</td>\n",
       "      <td>25.78953</td>\n",
       "      <td>55.94320</td>\n",
       "      <td>Ras al-Khaimah</td>\n",
       "    </tr>\n",
       "    <tr>\n",
       "      <th>Muzayri‘</th>\n",
       "      <td>AE</td>\n",
       "      <td>23.14355</td>\n",
       "      <td>53.78810</td>\n",
       "      <td>Muzayri‘</td>\n",
       "    </tr>\n",
       "    <tr>\n",
       "      <th>Murbaḩ</th>\n",
       "      <td>AE</td>\n",
       "      <td>25.27623</td>\n",
       "      <td>56.36256</td>\n",
       "      <td>Murbaḩ</td>\n",
       "    </tr>\n",
       "    <tr>\n",
       "      <th>Khawr Fakkān</th>\n",
       "      <td>AE</td>\n",
       "      <td>25.33132</td>\n",
       "      <td>56.34199</td>\n",
       "      <td>Khawr Fakkān</td>\n",
       "    </tr>\n",
       "    <tr>\n",
       "      <th>Dubai</th>\n",
       "      <td>AE</td>\n",
       "      <td>25.06570</td>\n",
       "      <td>55.17128</td>\n",
       "      <td>Dubai</td>\n",
       "    </tr>\n",
       "    <tr>\n",
       "      <th>Dibba Al-Fujairah</th>\n",
       "      <td>AE</td>\n",
       "      <td>25.59246</td>\n",
       "      <td>56.26176</td>\n",
       "      <td>Dibba Al-Fujairah</td>\n",
       "    </tr>\n",
       "    <tr>\n",
       "      <th>Dibba Al-Hisn</th>\n",
       "      <td>AE</td>\n",
       "      <td>25.61955</td>\n",
       "      <td>56.27291</td>\n",
       "      <td>Dibba Al-Hisn</td>\n",
       "    </tr>\n",
       "    <tr>\n",
       "      <th>Sharjah</th>\n",
       "      <td>AE</td>\n",
       "      <td>25.33737</td>\n",
       "      <td>55.41206</td>\n",
       "      <td>Sharjah</td>\n",
       "    </tr>\n",
       "    <tr>\n",
       "      <th>Ar Ruways</th>\n",
       "      <td>AE</td>\n",
       "      <td>24.11028</td>\n",
       "      <td>52.73056</td>\n",
       "      <td>Ar Ruways</td>\n",
       "    </tr>\n",
       "    <tr>\n",
       "      <th>Al Fujayrah</th>\n",
       "      <td>AE</td>\n",
       "      <td>25.11641</td>\n",
       "      <td>56.34141</td>\n",
       "      <td>Al Fujayrah</td>\n",
       "    </tr>\n",
       "    <tr>\n",
       "      <th>Al Ain</th>\n",
       "      <td>AE</td>\n",
       "      <td>24.19167</td>\n",
       "      <td>55.76056</td>\n",
       "      <td>Al Ain</td>\n",
       "    </tr>\n",
       "    <tr>\n",
       "      <th>Ajman</th>\n",
       "      <td>AE</td>\n",
       "      <td>25.41111</td>\n",
       "      <td>55.43504</td>\n",
       "      <td>Ajman</td>\n",
       "    </tr>\n",
       "    <tr>\n",
       "      <th>Adh Dhayd</th>\n",
       "      <td>AE</td>\n",
       "      <td>25.28812</td>\n",
       "      <td>55.88157</td>\n",
       "      <td>Adh Dhayd</td>\n",
       "    </tr>\n",
       "    <tr>\n",
       "      <th>Abu Dhabi</th>\n",
       "      <td>AE</td>\n",
       "      <td>24.46667</td>\n",
       "      <td>54.36667</td>\n",
       "      <td>Abu Dhabi</td>\n",
       "    </tr>\n",
       "    <tr>\n",
       "      <th>Zorkot</th>\n",
       "      <td>AF</td>\n",
       "      <td>33.54149</td>\n",
       "      <td>69.73446</td>\n",
       "      <td>Zorkot</td>\n",
       "    </tr>\n",
       "    <tr>\n",
       "      <th>Wulêswālī Bihsūd</th>\n",
       "      <td>AF</td>\n",
       "      <td>34.34360</td>\n",
       "      <td>67.90567</td>\n",
       "      <td>Wulêswālī Bihsūd</td>\n",
       "    </tr>\n",
       "    <tr>\n",
       "      <th>Kuhsān</th>\n",
       "      <td>AF</td>\n",
       "      <td>34.65389</td>\n",
       "      <td>61.19778</td>\n",
       "      <td>Kuhsān</td>\n",
       "    </tr>\n",
       "    <tr>\n",
       "      <th>Lāsh</th>\n",
       "      <td>AF</td>\n",
       "      <td>35.37820</td>\n",
       "      <td>64.77457</td>\n",
       "      <td>Lāsh</td>\n",
       "    </tr>\n",
       "    <tr>\n",
       "      <th>Tukzār</th>\n",
       "      <td>AF</td>\n",
       "      <td>35.94831</td>\n",
       "      <td>66.42132</td>\n",
       "      <td>Tukzār</td>\n",
       "    </tr>\n",
       "    <tr>\n",
       "      <th>Mīray</th>\n",
       "      <td>AF</td>\n",
       "      <td>33.32462</td>\n",
       "      <td>68.44068</td>\n",
       "      <td>Mīray</td>\n",
       "    </tr>\n",
       "    <tr>\n",
       "      <th>Āq Kupruk</th>\n",
       "      <td>AF</td>\n",
       "      <td>36.08352</td>\n",
       "      <td>66.84029</td>\n",
       "      <td>Āq Kupruk</td>\n",
       "    </tr>\n",
       "    <tr>\n",
       "      <th>Zurmat</th>\n",
       "      <td>AF</td>\n",
       "      <td>33.43778</td>\n",
       "      <td>69.02774</td>\n",
       "      <td>Zurmat</td>\n",
       "    </tr>\n",
       "    <tr>\n",
       "      <th>Zaybāk</th>\n",
       "      <td>AF</td>\n",
       "      <td>36.52947</td>\n",
       "      <td>71.34410</td>\n",
       "      <td>Zaybāk</td>\n",
       "    </tr>\n",
       "    <tr>\n",
       "      <th>Zīārat-e Shāh Maqşūd</th>\n",
       "      <td>AF</td>\n",
       "      <td>31.98480</td>\n",
       "      <td>65.47360</td>\n",
       "      <td>Zīārat-e Shāh Maqşūd</td>\n",
       "    </tr>\n",
       "    <tr>\n",
       "      <th>Zindah Jān</th>\n",
       "      <td>AF</td>\n",
       "      <td>34.34264</td>\n",
       "      <td>61.74675</td>\n",
       "      <td>Zindah Jān</td>\n",
       "    </tr>\n",
       "    <tr>\n",
       "      <th>Zarghūn Shahr</th>\n",
       "      <td>AF</td>\n",
       "      <td>32.84734</td>\n",
       "      <td>68.44573</td>\n",
       "      <td>Zarghūn Shahr</td>\n",
       "    </tr>\n",
       "    <tr>\n",
       "      <th>Zaṟah Sharan</th>\n",
       "      <td>AF</td>\n",
       "      <td>33.14641</td>\n",
       "      <td>68.79213</td>\n",
       "      <td>Zaṟah Sharan</td>\n",
       "    </tr>\n",
       "    <tr>\n",
       "      <th>Zaranj</th>\n",
       "      <td>AF</td>\n",
       "      <td>30.95962</td>\n",
       "      <td>61.86037</td>\n",
       "      <td>Zaranj</td>\n",
       "    </tr>\n",
       "    <tr>\n",
       "      <th>Zamtō Kêlay</th>\n",
       "      <td>AF</td>\n",
       "      <td>32.37260</td>\n",
       "      <td>66.17708</td>\n",
       "      <td>Zamtō Kêlay</td>\n",
       "    </tr>\n",
       "    <tr>\n",
       "      <th>Yangī Qal‘ah</th>\n",
       "      <td>AF</td>\n",
       "      <td>37.46572</td>\n",
       "      <td>69.61131</td>\n",
       "      <td>Yangī Qal‘ah</td>\n",
       "    </tr>\n",
       "  </tbody>\n",
       "</table>\n",
       "</div>"
      ],
      "text/plain": [
       "                     country       lat       lng                  name\n",
       "name                                                                  \n",
       "Sant Julià de Lòria       AD  42.46372   1.49129   Sant Julià de Lòria\n",
       "Pas de la Casa            AD  42.54277   1.73361        Pas de la Casa\n",
       "Ordino                    AD  42.55623   1.53319                Ordino\n",
       "les Escaldes              AD  42.50729   1.53414          les Escaldes\n",
       "la Massana                AD  42.54499   1.51483            la Massana\n",
       "Encamp                    AD  42.53474   1.58014                Encamp\n",
       "Canillo                   AD  42.56760   1.59756               Canillo\n",
       "Arinsal                   AD  42.57205   1.48453               Arinsal\n",
       "Andorra la Vella          AD  42.50779   1.52109      Andorra la Vella\n",
       "Umm al Qaywayn            AE  25.56473  55.55517        Umm al Qaywayn\n",
       "Ras al-Khaimah            AE  25.78953  55.94320        Ras al-Khaimah\n",
       "Muzayri‘                  AE  23.14355  53.78810              Muzayri‘\n",
       "Murbaḩ                    AE  25.27623  56.36256                Murbaḩ\n",
       "Khawr Fakkān              AE  25.33132  56.34199          Khawr Fakkān\n",
       "Dubai                     AE  25.06570  55.17128                 Dubai\n",
       "Dibba Al-Fujairah         AE  25.59246  56.26176     Dibba Al-Fujairah\n",
       "Dibba Al-Hisn             AE  25.61955  56.27291         Dibba Al-Hisn\n",
       "Sharjah                   AE  25.33737  55.41206               Sharjah\n",
       "Ar Ruways                 AE  24.11028  52.73056             Ar Ruways\n",
       "Al Fujayrah               AE  25.11641  56.34141           Al Fujayrah\n",
       "Al Ain                    AE  24.19167  55.76056                Al Ain\n",
       "Ajman                     AE  25.41111  55.43504                 Ajman\n",
       "Adh Dhayd                 AE  25.28812  55.88157             Adh Dhayd\n",
       "Abu Dhabi                 AE  24.46667  54.36667             Abu Dhabi\n",
       "Zorkot                    AF  33.54149  69.73446                Zorkot\n",
       "Wulêswālī Bihsūd          AF  34.34360  67.90567      Wulêswālī Bihsūd\n",
       "Kuhsān                    AF  34.65389  61.19778                Kuhsān\n",
       "Lāsh                      AF  35.37820  64.77457                  Lāsh\n",
       "Tukzār                    AF  35.94831  66.42132                Tukzār\n",
       "Mīray                     AF  33.32462  68.44068                 Mīray\n",
       "Āq Kupruk                 AF  36.08352  66.84029             Āq Kupruk\n",
       "Zurmat                    AF  33.43778  69.02774                Zurmat\n",
       "Zaybāk                    AF  36.52947  71.34410                Zaybāk\n",
       "Zīārat-e Shāh Maqşūd      AF  31.98480  65.47360  Zīārat-e Shāh Maqşūd\n",
       "Zindah Jān                AF  34.34264  61.74675            Zindah Jān\n",
       "Zarghūn Shahr             AF  32.84734  68.44573         Zarghūn Shahr\n",
       "Zaṟah Sharan              AF  33.14641  68.79213          Zaṟah Sharan\n",
       "Zaranj                    AF  30.95962  61.86037                Zaranj\n",
       "Zamtō Kêlay               AF  32.37260  66.17708           Zamtō Kêlay\n",
       "Yangī Qal‘ah              AF  37.46572  69.61131          Yangī Qal‘ah"
      ]
     },
     "execution_count": 18,
     "metadata": {},
     "output_type": "execute_result"
    }
   ],
   "source": [
    "df.head(40)"
   ]
  },
  {
   "cell_type": "code",
   "execution_count": 19,
   "metadata": {},
   "outputs": [],
   "source": [
    "def getCity(cityName):\n",
    "    cityFrame = pd.read_json('cities.json', encoding=\"UTF-8\")\n",
    "    city = cityFrame[cityFrame.name == cityName]\n",
    "    return [float(city.lat), float(city.lng)]"
   ]
  },
  {
   "cell_type": "code",
   "execution_count": 28,
   "metadata": {},
   "outputs": [],
   "source": [
    "def getCityDf(cityName, df=df):\n",
    "    city = df[df.name == cityName]\n",
    "    return [float(city.lat), float(city.lng)]"
   ]
  },
  {
   "cell_type": "code",
   "execution_count": 25,
   "metadata": {},
   "outputs": [
    {
     "data": {
      "text/plain": [
       "[56.946, 24.10589]"
      ]
     },
     "execution_count": 25,
     "metadata": {},
     "output_type": "execute_result"
    }
   ],
   "source": [
    "getCity('Riga')"
   ]
  },
  {
   "cell_type": "code",
   "execution_count": 26,
   "metadata": {},
   "outputs": [
    {
     "data": {
      "text/plain": [
       "[56.946, 24.10589]"
      ]
     },
     "execution_count": 26,
     "metadata": {},
     "output_type": "execute_result"
    }
   ],
   "source": [
    "getCityDf('Riga', df)"
   ]
  },
  {
   "cell_type": "code",
   "execution_count": 21,
   "metadata": {},
   "outputs": [
    {
     "ename": "NameError",
     "evalue": "name 'cityFrame' is not defined",
     "output_type": "error",
     "traceback": [
      "\u001b[1;31m---------------------------------------------------------------------------\u001b[0m",
      "\u001b[1;31mNameError\u001b[0m                                 Traceback (most recent call last)",
      "\u001b[1;32m<ipython-input-21-745a0b5c6d94>\u001b[0m in \u001b[0;36m<module>\u001b[1;34m\u001b[0m\n\u001b[1;32m----> 1\u001b[1;33m \u001b[0mcityFrame\u001b[0m\u001b[1;33m.\u001b[0m\u001b[0mdescribe\u001b[0m\u001b[1;33m(\u001b[0m\u001b[1;33m)\u001b[0m\u001b[1;33m\u001b[0m\u001b[1;33m\u001b[0m\u001b[0m\n\u001b[0m",
      "\u001b[1;31mNameError\u001b[0m: name 'cityFrame' is not defined"
     ]
    }
   ],
   "source": [
    "cityFrame.describe()"
   ]
  },
  {
   "cell_type": "code",
   "execution_count": 29,
   "metadata": {},
   "outputs": [
    {
     "data": {
      "text/plain": [
       "[56.8162, 24.61401]"
      ]
     },
     "execution_count": 29,
     "metadata": {},
     "output_type": "execute_result"
    }
   ],
   "source": [
    "getCityDf('Ogre')"
   ]
  },
  {
   "cell_type": "code",
   "execution_count": 30,
   "metadata": {},
   "outputs": [],
   "source": [
    "gCity = getCityDf"
   ]
  },
  {
   "cell_type": "code",
   "execution_count": 31,
   "metadata": {},
   "outputs": [
    {
     "data": {
      "text/plain": [
       "[59.43696, 24.75353]"
      ]
     },
     "execution_count": 31,
     "metadata": {},
     "output_type": "execute_result"
    }
   ],
   "source": [
    "gCity('Tallinn')"
   ]
  },
  {
   "cell_type": "code",
   "execution_count": 33,
   "metadata": {},
   "outputs": [
    {
     "data": {
      "text/html": [
       "<div style=\"width:100%;\"><div style=\"position:relative;width:100%;height:0;padding-bottom:60%;\"><iframe src=\"data:text/html;charset=utf-8;base64,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\" style=\"position:absolute;width:100%;height:100%;left:0;top:0;border:none !important;\" allowfullscreen webkitallowfullscreen mozallowfullscreen></iframe></div></div>"
      ],
      "text/plain": [
       "<folium.folium.Map at 0x1e48e3987b8>"
      ]
     },
     "execution_count": 33,
     "metadata": {},
     "output_type": "execute_result"
    }
   ],
   "source": [
    "ogre = folium.Map(location=gCity('Ogre'), zoom_start = 10)\n",
    "ogre "
   ]
  },
  {
   "cell_type": "code",
   "execution_count": 34,
   "metadata": {},
   "outputs": [
    {
     "data": {
      "text/html": [
       "<div style=\"width:100%;\"><div style=\"position:relative;width:100%;height:0;padding-bottom:60%;\"><iframe src=\"data:text/html;charset=utf-8;base64,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\" style=\"position:absolute;width:100%;height:100%;left:0;top:0;border:none !important;\" allowfullscreen webkitallowfullscreen mozallowfullscreen></iframe></div></div>"
      ],
      "text/plain": [
       "<folium.folium.Map at 0x1e48e399828>"
      ]
     },
     "execution_count": 34,
     "metadata": {},
     "output_type": "execute_result"
    }
   ],
   "source": [
    "latvijas_universitate = folium.Map(location=[56.95080,24.11650],\n",
    "                        tiles = \"Stamen Terrain\",\n",
    "                        zoom_start = 15)\n",
    "latvijas_universitate"
   ]
  },
  {
   "cell_type": "code",
   "execution_count": null,
   "metadata": {},
   "outputs": [],
   "source": [
    "clean_map = folium.Map()\n",
    "clean_map"
   ]
  },
  {
   "cell_type": "code",
   "execution_count": null,
   "metadata": {},
   "outputs": [],
   "source": [
    "latvijas_universitate = folium.Map(location=[56.95080,24.11650],\n",
    "                        tiles = \"Stamen Toner\",\n",
    "                        zoom_start = 20)\n",
    "latvijas_universitate"
   ]
  },
  {
   "cell_type": "code",
   "execution_count": 35,
   "metadata": {},
   "outputs": [
    {
     "data": {
      "text/html": [
       "<div style=\"width:100%;\"><div style=\"position:relative;width:100%;height:0;padding-bottom:60%;\"><iframe src=\"data:text/html;charset=utf-8;base64,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\" style=\"position:absolute;width:100%;height:100%;left:0;top:0;border:none !important;\" allowfullscreen webkitallowfullscreen mozallowfullscreen></iframe></div></div>"
      ],
      "text/plain": [
       "<folium.folium.Map at 0x1e48e3987b8>"
      ]
     },
     "execution_count": 35,
     "metadata": {},
     "output_type": "execute_result"
    }
   ],
   "source": [
    "latvijas_universitate = folium.Map(location=[56.95080,24.11650],\n",
    "                        width=500, height=500, #var nodefinēt dimensijas\n",
    "                        zoom_start = 20)\n",
    "\n",
    "latvijas_universitate\n",
    "\n",
    "folium.Marker([56.95080,24.11650], tooltip='LU',popup='Latvijas universitāte').add_to(ogre)\n",
    "ogre"
   ]
  },
  {
   "cell_type": "code",
   "execution_count": 42,
   "metadata": {},
   "outputs": [
    {
     "data": {
      "text/html": [
       "<div style=\"width:100%;\"><div style=\"position:relative;width:100%;height:0;padding-bottom:60%;\"><iframe src=\"data:text/html;charset=utf-8;base64,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\" style=\"position:absolute;width:100%;height:100%;left:0;top:0;border:none !important;\" allowfullscreen webkitallowfullscreen mozallowfullscreen></iframe></div></div>"
      ],
      "text/plain": [
       "<folium.folium.Map at 0x1e48e3990b8>"
      ]
     },
     "execution_count": 42,
     "metadata": {},
     "output_type": "execute_result"
    }
   ],
   "source": [
    "world.zoom_start=8\n",
    "world.location=gCity('Riga')\n",
    "world"
   ]
  },
  {
   "cell_type": "code",
   "execution_count": 45,
   "metadata": {},
   "outputs": [
    {
     "data": {
      "text/html": [
       "<div>\n",
       "<style scoped>\n",
       "    .dataframe tbody tr th:only-of-type {\n",
       "        vertical-align: middle;\n",
       "    }\n",
       "\n",
       "    .dataframe tbody tr th {\n",
       "        vertical-align: top;\n",
       "    }\n",
       "\n",
       "    .dataframe thead th {\n",
       "        text-align: right;\n",
       "    }\n",
       "</style>\n",
       "<table border=\"1\" class=\"dataframe\">\n",
       "  <thead>\n",
       "    <tr style=\"text-align: right;\">\n",
       "      <th></th>\n",
       "      <th>country</th>\n",
       "      <th>lat</th>\n",
       "      <th>lng</th>\n",
       "      <th>name</th>\n",
       "    </tr>\n",
       "    <tr>\n",
       "      <th>name</th>\n",
       "      <th></th>\n",
       "      <th></th>\n",
       "      <th></th>\n",
       "      <th></th>\n",
       "    </tr>\n",
       "  </thead>\n",
       "  <tbody>\n",
       "    <tr>\n",
       "      <th>London</th>\n",
       "      <td>CA</td>\n",
       "      <td>42.98339</td>\n",
       "      <td>-81.23304</td>\n",
       "      <td>London</td>\n",
       "    </tr>\n",
       "    <tr>\n",
       "      <th>London</th>\n",
       "      <td>GB</td>\n",
       "      <td>51.50853</td>\n",
       "      <td>-0.12574</td>\n",
       "      <td>London</td>\n",
       "    </tr>\n",
       "    <tr>\n",
       "      <th>London</th>\n",
       "      <td>US</td>\n",
       "      <td>35.32897</td>\n",
       "      <td>-93.25296</td>\n",
       "      <td>London</td>\n",
       "    </tr>\n",
       "    <tr>\n",
       "      <th>London</th>\n",
       "      <td>US</td>\n",
       "      <td>37.12898</td>\n",
       "      <td>-84.08326</td>\n",
       "      <td>London</td>\n",
       "    </tr>\n",
       "    <tr>\n",
       "      <th>London</th>\n",
       "      <td>US</td>\n",
       "      <td>39.88645</td>\n",
       "      <td>-83.44825</td>\n",
       "      <td>London</td>\n",
       "    </tr>\n",
       "    <tr>\n",
       "      <th>London</th>\n",
       "      <td>US</td>\n",
       "      <td>36.47606</td>\n",
       "      <td>-119.44318</td>\n",
       "      <td>London</td>\n",
       "    </tr>\n",
       "  </tbody>\n",
       "</table>\n",
       "</div>"
      ],
      "text/plain": [
       "       country       lat        lng    name\n",
       "name                                       \n",
       "London      CA  42.98339  -81.23304  London\n",
       "London      GB  51.50853   -0.12574  London\n",
       "London      US  35.32897  -93.25296  London\n",
       "London      US  37.12898  -84.08326  London\n",
       "London      US  39.88645  -83.44825  London\n",
       "London      US  36.47606 -119.44318  London"
      ]
     },
     "execution_count": 45,
     "metadata": {},
     "output_type": "execute_result"
    }
   ],
   "source": [
    "df[df.name == 'London']"
   ]
  },
  {
   "cell_type": "code",
   "execution_count": 46,
   "metadata": {},
   "outputs": [
    {
     "data": {
      "text/html": [
       "<div>\n",
       "<style scoped>\n",
       "    .dataframe tbody tr th:only-of-type {\n",
       "        vertical-align: middle;\n",
       "    }\n",
       "\n",
       "    .dataframe tbody tr th {\n",
       "        vertical-align: top;\n",
       "    }\n",
       "\n",
       "    .dataframe thead th {\n",
       "        text-align: right;\n",
       "    }\n",
       "</style>\n",
       "<table border=\"1\" class=\"dataframe\">\n",
       "  <thead>\n",
       "    <tr style=\"text-align: right;\">\n",
       "      <th></th>\n",
       "      <th>country</th>\n",
       "      <th>lat</th>\n",
       "      <th>lng</th>\n",
       "      <th>name</th>\n",
       "    </tr>\n",
       "    <tr>\n",
       "      <th>name</th>\n",
       "      <th></th>\n",
       "      <th></th>\n",
       "      <th></th>\n",
       "      <th></th>\n",
       "    </tr>\n",
       "  </thead>\n",
       "  <tbody>\n",
       "    <tr>\n",
       "      <th>Valmiera</th>\n",
       "      <td>LV</td>\n",
       "      <td>57.54108</td>\n",
       "      <td>25.42751</td>\n",
       "      <td>Valmiera</td>\n",
       "    </tr>\n",
       "    <tr>\n",
       "      <th>Zilupe</th>\n",
       "      <td>LV</td>\n",
       "      <td>56.38616</td>\n",
       "      <td>28.12165</td>\n",
       "      <td>Zilupe</td>\n",
       "    </tr>\n",
       "    <tr>\n",
       "      <th>Zelmeņi</th>\n",
       "      <td>LV</td>\n",
       "      <td>56.45167</td>\n",
       "      <td>23.35194</td>\n",
       "      <td>Zelmeņi</td>\n",
       "    </tr>\n",
       "    <tr>\n",
       "      <th>Viļaka</th>\n",
       "      <td>LV</td>\n",
       "      <td>57.18458</td>\n",
       "      <td>27.67220</td>\n",
       "      <td>Viļaka</td>\n",
       "    </tr>\n",
       "    <tr>\n",
       "      <th>Viļāni</th>\n",
       "      <td>LV</td>\n",
       "      <td>56.55253</td>\n",
       "      <td>26.92449</td>\n",
       "      <td>Viļāni</td>\n",
       "    </tr>\n",
       "    <tr>\n",
       "      <th>Viesīte</th>\n",
       "      <td>LV</td>\n",
       "      <td>56.34751</td>\n",
       "      <td>25.55514</td>\n",
       "      <td>Viesīte</td>\n",
       "    </tr>\n",
       "    <tr>\n",
       "      <th>Vecumnieki</th>\n",
       "      <td>LV</td>\n",
       "      <td>56.60608</td>\n",
       "      <td>24.52232</td>\n",
       "      <td>Vecumnieki</td>\n",
       "    </tr>\n",
       "    <tr>\n",
       "      <th>Ventspils</th>\n",
       "      <td>LV</td>\n",
       "      <td>57.38988</td>\n",
       "      <td>21.57288</td>\n",
       "      <td>Ventspils</td>\n",
       "    </tr>\n",
       "    <tr>\n",
       "      <th>Vecvārkava</th>\n",
       "      <td>LV</td>\n",
       "      <td>56.19838</td>\n",
       "      <td>26.50811</td>\n",
       "      <td>Vecvārkava</td>\n",
       "    </tr>\n",
       "    <tr>\n",
       "      <th>Vecpiebalga</th>\n",
       "      <td>LV</td>\n",
       "      <td>57.06090</td>\n",
       "      <td>25.81624</td>\n",
       "      <td>Vecpiebalga</td>\n",
       "    </tr>\n",
       "    <tr>\n",
       "      <th>Varakļāni</th>\n",
       "      <td>LV</td>\n",
       "      <td>56.60826</td>\n",
       "      <td>26.75377</td>\n",
       "      <td>Varakļāni</td>\n",
       "    </tr>\n",
       "    <tr>\n",
       "      <th>Vangaži</th>\n",
       "      <td>LV</td>\n",
       "      <td>57.09358</td>\n",
       "      <td>24.54468</td>\n",
       "      <td>Vangaži</td>\n",
       "    </tr>\n",
       "    <tr>\n",
       "      <th>Valka</th>\n",
       "      <td>LV</td>\n",
       "      <td>57.77520</td>\n",
       "      <td>26.01013</td>\n",
       "      <td>Valka</td>\n",
       "    </tr>\n",
       "    <tr>\n",
       "      <th>Valdemārpils</th>\n",
       "      <td>LV</td>\n",
       "      <td>57.37068</td>\n",
       "      <td>22.59188</td>\n",
       "      <td>Valdemārpils</td>\n",
       "    </tr>\n",
       "    <tr>\n",
       "      <th>Vaiņode</th>\n",
       "      <td>LV</td>\n",
       "      <td>56.41848</td>\n",
       "      <td>21.85405</td>\n",
       "      <td>Vaiņode</td>\n",
       "    </tr>\n",
       "    <tr>\n",
       "      <th>Ulbroka</th>\n",
       "      <td>LV</td>\n",
       "      <td>56.93630</td>\n",
       "      <td>24.30387</td>\n",
       "      <td>Ulbroka</td>\n",
       "    </tr>\n",
       "    <tr>\n",
       "      <th>Tukums</th>\n",
       "      <td>LV</td>\n",
       "      <td>56.96764</td>\n",
       "      <td>23.15554</td>\n",
       "      <td>Tukums</td>\n",
       "    </tr>\n",
       "    <tr>\n",
       "      <th>Tīreļi</th>\n",
       "      <td>LV</td>\n",
       "      <td>56.83991</td>\n",
       "      <td>23.58902</td>\n",
       "      <td>Tīreļi</td>\n",
       "    </tr>\n",
       "    <tr>\n",
       "      <th>Tērvete</th>\n",
       "      <td>LV</td>\n",
       "      <td>56.47989</td>\n",
       "      <td>23.38895</td>\n",
       "      <td>Tērvete</td>\n",
       "    </tr>\n",
       "    <tr>\n",
       "      <th>Talsi</th>\n",
       "      <td>LV</td>\n",
       "      <td>57.24562</td>\n",
       "      <td>22.58137</td>\n",
       "      <td>Talsi</td>\n",
       "    </tr>\n",
       "    <tr>\n",
       "      <th>Strenči</th>\n",
       "      <td>LV</td>\n",
       "      <td>57.62574</td>\n",
       "      <td>25.68535</td>\n",
       "      <td>Strenči</td>\n",
       "    </tr>\n",
       "    <tr>\n",
       "      <th>Stende</th>\n",
       "      <td>LV</td>\n",
       "      <td>57.14497</td>\n",
       "      <td>22.53482</td>\n",
       "      <td>Stende</td>\n",
       "    </tr>\n",
       "    <tr>\n",
       "      <th>Stalbe</th>\n",
       "      <td>LV</td>\n",
       "      <td>57.37065</td>\n",
       "      <td>25.03106</td>\n",
       "      <td>Stalbe</td>\n",
       "    </tr>\n",
       "    <tr>\n",
       "      <th>Staicele</th>\n",
       "      <td>LV</td>\n",
       "      <td>57.83639</td>\n",
       "      <td>24.75000</td>\n",
       "      <td>Staicele</td>\n",
       "    </tr>\n",
       "    <tr>\n",
       "      <th>Smiltene</th>\n",
       "      <td>LV</td>\n",
       "      <td>57.42444</td>\n",
       "      <td>25.90164</td>\n",
       "      <td>Smiltene</td>\n",
       "    </tr>\n",
       "    <tr>\n",
       "      <th>Smārde</th>\n",
       "      <td>LV</td>\n",
       "      <td>56.95420</td>\n",
       "      <td>23.33736</td>\n",
       "      <td>Smārde</td>\n",
       "    </tr>\n",
       "    <tr>\n",
       "      <th>Skrunda</th>\n",
       "      <td>LV</td>\n",
       "      <td>56.67749</td>\n",
       "      <td>22.01649</td>\n",
       "      <td>Skrunda</td>\n",
       "    </tr>\n",
       "    <tr>\n",
       "      <th>Skrīveri</th>\n",
       "      <td>LV</td>\n",
       "      <td>56.64500</td>\n",
       "      <td>25.12058</td>\n",
       "      <td>Skrīveri</td>\n",
       "    </tr>\n",
       "    <tr>\n",
       "      <th>Sigulda</th>\n",
       "      <td>LV</td>\n",
       "      <td>57.15375</td>\n",
       "      <td>24.85953</td>\n",
       "      <td>Sigulda</td>\n",
       "    </tr>\n",
       "    <tr>\n",
       "      <th>Seda</th>\n",
       "      <td>LV</td>\n",
       "      <td>57.65042</td>\n",
       "      <td>25.75089</td>\n",
       "      <td>Seda</td>\n",
       "    </tr>\n",
       "    <tr>\n",
       "      <th>...</th>\n",
       "      <td>...</td>\n",
       "      <td>...</td>\n",
       "      <td>...</td>\n",
       "      <td>...</td>\n",
       "    </tr>\n",
       "    <tr>\n",
       "      <th>Engure</th>\n",
       "      <td>LV</td>\n",
       "      <td>57.16061</td>\n",
       "      <td>23.22527</td>\n",
       "      <td>Engure</td>\n",
       "    </tr>\n",
       "    <tr>\n",
       "      <th>Dundaga</th>\n",
       "      <td>LV</td>\n",
       "      <td>57.50498</td>\n",
       "      <td>22.35041</td>\n",
       "      <td>Dundaga</td>\n",
       "    </tr>\n",
       "    <tr>\n",
       "      <th>Drabeši</th>\n",
       "      <td>LV</td>\n",
       "      <td>57.24316</td>\n",
       "      <td>25.27748</td>\n",
       "      <td>Drabeši</td>\n",
       "    </tr>\n",
       "    <tr>\n",
       "      <th>Dobele</th>\n",
       "      <td>LV</td>\n",
       "      <td>56.62372</td>\n",
       "      <td>23.27510</td>\n",
       "      <td>Dobele</td>\n",
       "    </tr>\n",
       "    <tr>\n",
       "      <th>Daugavpils</th>\n",
       "      <td>LV</td>\n",
       "      <td>55.88333</td>\n",
       "      <td>26.53333</td>\n",
       "      <td>Daugavpils</td>\n",
       "    </tr>\n",
       "    <tr>\n",
       "      <th>Daugavgrīva</th>\n",
       "      <td>LV</td>\n",
       "      <td>57.04315</td>\n",
       "      <td>24.03613</td>\n",
       "      <td>Daugavgrīva</td>\n",
       "    </tr>\n",
       "    <tr>\n",
       "      <th>Dagda</th>\n",
       "      <td>LV</td>\n",
       "      <td>56.09512</td>\n",
       "      <td>27.53723</td>\n",
       "      <td>Dagda</td>\n",
       "    </tr>\n",
       "    <tr>\n",
       "      <th>Cesvaine</th>\n",
       "      <td>LV</td>\n",
       "      <td>56.96754</td>\n",
       "      <td>26.30764</td>\n",
       "      <td>Cesvaine</td>\n",
       "    </tr>\n",
       "    <tr>\n",
       "      <th>Cēsis</th>\n",
       "      <td>LV</td>\n",
       "      <td>57.31188</td>\n",
       "      <td>25.27456</td>\n",
       "      <td>Cēsis</td>\n",
       "    </tr>\n",
       "    <tr>\n",
       "      <th>Carnikava</th>\n",
       "      <td>LV</td>\n",
       "      <td>57.12935</td>\n",
       "      <td>24.28423</td>\n",
       "      <td>Carnikava</td>\n",
       "    </tr>\n",
       "    <tr>\n",
       "      <th>Brocēni</th>\n",
       "      <td>LV</td>\n",
       "      <td>56.67890</td>\n",
       "      <td>22.56945</td>\n",
       "      <td>Brocēni</td>\n",
       "    </tr>\n",
       "    <tr>\n",
       "      <th>Bolderaja</th>\n",
       "      <td>LV</td>\n",
       "      <td>57.03132</td>\n",
       "      <td>24.05571</td>\n",
       "      <td>Bolderaja</td>\n",
       "    </tr>\n",
       "    <tr>\n",
       "      <th>Berģi</th>\n",
       "      <td>LV</td>\n",
       "      <td>56.98639</td>\n",
       "      <td>24.29917</td>\n",
       "      <td>Berģi</td>\n",
       "    </tr>\n",
       "    <tr>\n",
       "      <th>Bauska</th>\n",
       "      <td>LV</td>\n",
       "      <td>56.40794</td>\n",
       "      <td>24.19443</td>\n",
       "      <td>Bauska</td>\n",
       "    </tr>\n",
       "    <tr>\n",
       "      <th>Balvi</th>\n",
       "      <td>LV</td>\n",
       "      <td>57.13130</td>\n",
       "      <td>27.26583</td>\n",
       "      <td>Balvi</td>\n",
       "    </tr>\n",
       "    <tr>\n",
       "      <th>Baltinava</th>\n",
       "      <td>LV</td>\n",
       "      <td>56.94394</td>\n",
       "      <td>27.64401</td>\n",
       "      <td>Baltinava</td>\n",
       "    </tr>\n",
       "    <tr>\n",
       "      <th>Baldone</th>\n",
       "      <td>LV</td>\n",
       "      <td>56.74451</td>\n",
       "      <td>24.40078</td>\n",
       "      <td>Baldone</td>\n",
       "    </tr>\n",
       "    <tr>\n",
       "      <th>Auce</th>\n",
       "      <td>LV</td>\n",
       "      <td>56.45981</td>\n",
       "      <td>22.90169</td>\n",
       "      <td>Auce</td>\n",
       "    </tr>\n",
       "    <tr>\n",
       "      <th>Ape</th>\n",
       "      <td>LV</td>\n",
       "      <td>57.53928</td>\n",
       "      <td>26.69291</td>\n",
       "      <td>Ape</td>\n",
       "    </tr>\n",
       "    <tr>\n",
       "      <th>Alūksne</th>\n",
       "      <td>LV</td>\n",
       "      <td>57.42162</td>\n",
       "      <td>27.04662</td>\n",
       "      <td>Alūksne</td>\n",
       "    </tr>\n",
       "    <tr>\n",
       "      <th>Alsunga</th>\n",
       "      <td>LV</td>\n",
       "      <td>56.98194</td>\n",
       "      <td>21.55938</td>\n",
       "      <td>Alsunga</td>\n",
       "    </tr>\n",
       "    <tr>\n",
       "      <th>Aloja</th>\n",
       "      <td>LV</td>\n",
       "      <td>57.76723</td>\n",
       "      <td>24.87743</td>\n",
       "      <td>Aloja</td>\n",
       "    </tr>\n",
       "    <tr>\n",
       "      <th>Aknīste</th>\n",
       "      <td>LV</td>\n",
       "      <td>56.16152</td>\n",
       "      <td>25.74783</td>\n",
       "      <td>Aknīste</td>\n",
       "    </tr>\n",
       "    <tr>\n",
       "      <th>Aizpute</th>\n",
       "      <td>LV</td>\n",
       "      <td>56.72108</td>\n",
       "      <td>21.60156</td>\n",
       "      <td>Aizpute</td>\n",
       "    </tr>\n",
       "    <tr>\n",
       "      <th>Aizkraukle</th>\n",
       "      <td>LV</td>\n",
       "      <td>56.60477</td>\n",
       "      <td>25.25534</td>\n",
       "      <td>Aizkraukle</td>\n",
       "    </tr>\n",
       "    <tr>\n",
       "      <th>Ainaži</th>\n",
       "      <td>LV</td>\n",
       "      <td>57.86348</td>\n",
       "      <td>24.35853</td>\n",
       "      <td>Ainaži</td>\n",
       "    </tr>\n",
       "    <tr>\n",
       "      <th>Aglona</th>\n",
       "      <td>LV</td>\n",
       "      <td>56.13333</td>\n",
       "      <td>27.01667</td>\n",
       "      <td>Aglona</td>\n",
       "    </tr>\n",
       "    <tr>\n",
       "      <th>Ādaži</th>\n",
       "      <td>LV</td>\n",
       "      <td>57.07045</td>\n",
       "      <td>24.33713</td>\n",
       "      <td>Ādaži</td>\n",
       "    </tr>\n",
       "    <tr>\n",
       "      <th>Baloži</th>\n",
       "      <td>LV</td>\n",
       "      <td>56.87643</td>\n",
       "      <td>24.11825</td>\n",
       "      <td>Baloži</td>\n",
       "    </tr>\n",
       "    <tr>\n",
       "      <th>Mārupe</th>\n",
       "      <td>LV</td>\n",
       "      <td>56.90544</td>\n",
       "      <td>24.05113</td>\n",
       "      <td>Mārupe</td>\n",
       "    </tr>\n",
       "  </tbody>\n",
       "</table>\n",
       "<p>134 rows × 4 columns</p>\n",
       "</div>"
      ],
      "text/plain": [
       "             country       lat       lng          name\n",
       "name                                                  \n",
       "Valmiera          LV  57.54108  25.42751      Valmiera\n",
       "Zilupe            LV  56.38616  28.12165        Zilupe\n",
       "Zelmeņi           LV  56.45167  23.35194       Zelmeņi\n",
       "Viļaka            LV  57.18458  27.67220        Viļaka\n",
       "Viļāni            LV  56.55253  26.92449        Viļāni\n",
       "Viesīte           LV  56.34751  25.55514       Viesīte\n",
       "Vecumnieki        LV  56.60608  24.52232    Vecumnieki\n",
       "Ventspils         LV  57.38988  21.57288     Ventspils\n",
       "Vecvārkava        LV  56.19838  26.50811    Vecvārkava\n",
       "Vecpiebalga       LV  57.06090  25.81624   Vecpiebalga\n",
       "Varakļāni         LV  56.60826  26.75377     Varakļāni\n",
       "Vangaži           LV  57.09358  24.54468       Vangaži\n",
       "Valka             LV  57.77520  26.01013         Valka\n",
       "Valdemārpils      LV  57.37068  22.59188  Valdemārpils\n",
       "Vaiņode           LV  56.41848  21.85405       Vaiņode\n",
       "Ulbroka           LV  56.93630  24.30387       Ulbroka\n",
       "Tukums            LV  56.96764  23.15554        Tukums\n",
       "Tīreļi            LV  56.83991  23.58902        Tīreļi\n",
       "Tērvete           LV  56.47989  23.38895       Tērvete\n",
       "Talsi             LV  57.24562  22.58137         Talsi\n",
       "Strenči           LV  57.62574  25.68535       Strenči\n",
       "Stende            LV  57.14497  22.53482        Stende\n",
       "Stalbe            LV  57.37065  25.03106        Stalbe\n",
       "Staicele          LV  57.83639  24.75000      Staicele\n",
       "Smiltene          LV  57.42444  25.90164      Smiltene\n",
       "Smārde            LV  56.95420  23.33736        Smārde\n",
       "Skrunda           LV  56.67749  22.01649       Skrunda\n",
       "Skrīveri          LV  56.64500  25.12058      Skrīveri\n",
       "Sigulda           LV  57.15375  24.85953       Sigulda\n",
       "Seda              LV  57.65042  25.75089          Seda\n",
       "...              ...       ...       ...           ...\n",
       "Engure            LV  57.16061  23.22527        Engure\n",
       "Dundaga           LV  57.50498  22.35041       Dundaga\n",
       "Drabeši           LV  57.24316  25.27748       Drabeši\n",
       "Dobele            LV  56.62372  23.27510        Dobele\n",
       "Daugavpils        LV  55.88333  26.53333    Daugavpils\n",
       "Daugavgrīva       LV  57.04315  24.03613   Daugavgrīva\n",
       "Dagda             LV  56.09512  27.53723         Dagda\n",
       "Cesvaine          LV  56.96754  26.30764      Cesvaine\n",
       "Cēsis             LV  57.31188  25.27456         Cēsis\n",
       "Carnikava         LV  57.12935  24.28423     Carnikava\n",
       "Brocēni           LV  56.67890  22.56945       Brocēni\n",
       "Bolderaja         LV  57.03132  24.05571     Bolderaja\n",
       "Berģi             LV  56.98639  24.29917         Berģi\n",
       "Bauska            LV  56.40794  24.19443        Bauska\n",
       "Balvi             LV  57.13130  27.26583         Balvi\n",
       "Baltinava         LV  56.94394  27.64401     Baltinava\n",
       "Baldone           LV  56.74451  24.40078       Baldone\n",
       "Auce              LV  56.45981  22.90169          Auce\n",
       "Ape               LV  57.53928  26.69291           Ape\n",
       "Alūksne           LV  57.42162  27.04662       Alūksne\n",
       "Alsunga           LV  56.98194  21.55938       Alsunga\n",
       "Aloja             LV  57.76723  24.87743         Aloja\n",
       "Aknīste           LV  56.16152  25.74783       Aknīste\n",
       "Aizpute           LV  56.72108  21.60156       Aizpute\n",
       "Aizkraukle        LV  56.60477  25.25534    Aizkraukle\n",
       "Ainaži            LV  57.86348  24.35853        Ainaži\n",
       "Aglona            LV  56.13333  27.01667        Aglona\n",
       "Ādaži             LV  57.07045  24.33713         Ādaži\n",
       "Baloži            LV  56.87643  24.11825        Baloži\n",
       "Mārupe            LV  56.90544  24.05113        Mārupe\n",
       "\n",
       "[134 rows x 4 columns]"
      ]
     },
     "execution_count": 46,
     "metadata": {},
     "output_type": "execute_result"
    }
   ],
   "source": [
    "lvcities = df[df.country == 'LV']\n",
    "lvcities"
   ]
  },
  {
   "cell_type": "code",
   "execution_count": 36,
   "metadata": {},
   "outputs": [
    {
     "data": {
      "text/html": [
       "<div>\n",
       "<style scoped>\n",
       "    .dataframe tbody tr th:only-of-type {\n",
       "        vertical-align: middle;\n",
       "    }\n",
       "\n",
       "    .dataframe tbody tr th {\n",
       "        vertical-align: top;\n",
       "    }\n",
       "\n",
       "    .dataframe thead th {\n",
       "        text-align: right;\n",
       "    }\n",
       "</style>\n",
       "<table border=\"1\" class=\"dataframe\">\n",
       "  <thead>\n",
       "    <tr style=\"text-align: right;\">\n",
       "      <th></th>\n",
       "      <th>country</th>\n",
       "      <th>lat</th>\n",
       "      <th>lng</th>\n",
       "      <th>name</th>\n",
       "    </tr>\n",
       "    <tr>\n",
       "      <th>name</th>\n",
       "      <th></th>\n",
       "      <th></th>\n",
       "      <th></th>\n",
       "      <th></th>\n",
       "    </tr>\n",
       "  </thead>\n",
       "  <tbody>\n",
       "    <tr>\n",
       "      <th>Sant Julià de Lòria</th>\n",
       "      <td>AD</td>\n",
       "      <td>42.46372</td>\n",
       "      <td>1.49129</td>\n",
       "      <td>Sant Julià de Lòria</td>\n",
       "    </tr>\n",
       "    <tr>\n",
       "      <th>Pas de la Casa</th>\n",
       "      <td>AD</td>\n",
       "      <td>42.54277</td>\n",
       "      <td>1.73361</td>\n",
       "      <td>Pas de la Casa</td>\n",
       "    </tr>\n",
       "    <tr>\n",
       "      <th>Ordino</th>\n",
       "      <td>AD</td>\n",
       "      <td>42.55623</td>\n",
       "      <td>1.53319</td>\n",
       "      <td>Ordino</td>\n",
       "    </tr>\n",
       "    <tr>\n",
       "      <th>les Escaldes</th>\n",
       "      <td>AD</td>\n",
       "      <td>42.50729</td>\n",
       "      <td>1.53414</td>\n",
       "      <td>les Escaldes</td>\n",
       "    </tr>\n",
       "    <tr>\n",
       "      <th>la Massana</th>\n",
       "      <td>AD</td>\n",
       "      <td>42.54499</td>\n",
       "      <td>1.51483</td>\n",
       "      <td>la Massana</td>\n",
       "    </tr>\n",
       "  </tbody>\n",
       "</table>\n",
       "</div>"
      ],
      "text/plain": [
       "                    country       lat      lng                 name\n",
       "name                                                               \n",
       "Sant Julià de Lòria      AD  42.46372  1.49129  Sant Julià de Lòria\n",
       "Pas de la Casa           AD  42.54277  1.73361       Pas de la Casa\n",
       "Ordino                   AD  42.55623  1.53319               Ordino\n",
       "les Escaldes             AD  42.50729  1.53414         les Escaldes\n",
       "la Massana               AD  42.54499  1.51483           la Massana"
      ]
     },
     "execution_count": 36,
     "metadata": {},
     "output_type": "execute_result"
    }
   ],
   "source": [
    "df.head()"
   ]
  },
  {
   "cell_type": "code",
   "execution_count": 38,
   "metadata": {},
   "outputs": [
    {
     "data": {
      "text/html": [
       "<div>\n",
       "<style scoped>\n",
       "    .dataframe tbody tr th:only-of-type {\n",
       "        vertical-align: middle;\n",
       "    }\n",
       "\n",
       "    .dataframe tbody tr th {\n",
       "        vertical-align: top;\n",
       "    }\n",
       "\n",
       "    .dataframe thead th {\n",
       "        text-align: right;\n",
       "    }\n",
       "</style>\n",
       "<table border=\"1\" class=\"dataframe\">\n",
       "  <thead>\n",
       "    <tr style=\"text-align: right;\">\n",
       "      <th></th>\n",
       "      <th>country</th>\n",
       "      <th>lat</th>\n",
       "      <th>lng</th>\n",
       "      <th>name</th>\n",
       "    </tr>\n",
       "    <tr>\n",
       "      <th>name</th>\n",
       "      <th></th>\n",
       "      <th></th>\n",
       "      <th></th>\n",
       "      <th></th>\n",
       "    </tr>\n",
       "  </thead>\n",
       "  <tbody>\n",
       "    <tr>\n",
       "      <th>Valmiera</th>\n",
       "      <td>LV</td>\n",
       "      <td>57.54108</td>\n",
       "      <td>25.42751</td>\n",
       "      <td>Valmiera</td>\n",
       "    </tr>\n",
       "    <tr>\n",
       "      <th>Zilupe</th>\n",
       "      <td>LV</td>\n",
       "      <td>56.38616</td>\n",
       "      <td>28.12165</td>\n",
       "      <td>Zilupe</td>\n",
       "    </tr>\n",
       "    <tr>\n",
       "      <th>Zelmeņi</th>\n",
       "      <td>LV</td>\n",
       "      <td>56.45167</td>\n",
       "      <td>23.35194</td>\n",
       "      <td>Zelmeņi</td>\n",
       "    </tr>\n",
       "    <tr>\n",
       "      <th>Viļaka</th>\n",
       "      <td>LV</td>\n",
       "      <td>57.18458</td>\n",
       "      <td>27.67220</td>\n",
       "      <td>Viļaka</td>\n",
       "    </tr>\n",
       "    <tr>\n",
       "      <th>Viļāni</th>\n",
       "      <td>LV</td>\n",
       "      <td>56.55253</td>\n",
       "      <td>26.92449</td>\n",
       "      <td>Viļāni</td>\n",
       "    </tr>\n",
       "  </tbody>\n",
       "</table>\n",
       "</div>"
      ],
      "text/plain": [
       "         country       lat       lng      name\n",
       "name                                          \n",
       "Valmiera      LV  57.54108  25.42751  Valmiera\n",
       "Zilupe        LV  56.38616  28.12165    Zilupe\n",
       "Zelmeņi       LV  56.45167  23.35194   Zelmeņi\n",
       "Viļaka        LV  57.18458  27.67220    Viļaka\n",
       "Viļāni        LV  56.55253  26.92449    Viļāni"
      ]
     },
     "execution_count": 38,
     "metadata": {},
     "output_type": "execute_result"
    }
   ],
   "source": [
    "lvcities = df[df.country == 'LV']\n",
    "lvcities.head()"
   ]
  },
  {
   "cell_type": "code",
   "execution_count": 47,
   "metadata": {},
   "outputs": [
    {
     "name": "stdout",
     "output_type": "stream",
     "text": [
      "<class 'pandas.core.frame.DataFrame'>\n",
      "Index: 134 entries, Valmiera to Mārupe\n",
      "Data columns (total 4 columns):\n",
      "country    134 non-null object\n",
      "lat        134 non-null float64\n",
      "lng        134 non-null float64\n",
      "name       134 non-null object\n",
      "dtypes: float64(2), object(2)\n",
      "memory usage: 5.2+ KB\n"
     ]
    }
   ],
   "source": [
    "lvcities.info()"
   ]
  },
  {
   "cell_type": "code",
   "execution_count": 48,
   "metadata": {},
   "outputs": [
    {
     "data": {
      "text/html": [
       "<div>\n",
       "<style scoped>\n",
       "    .dataframe tbody tr th:only-of-type {\n",
       "        vertical-align: middle;\n",
       "    }\n",
       "\n",
       "    .dataframe tbody tr th {\n",
       "        vertical-align: top;\n",
       "    }\n",
       "\n",
       "    .dataframe thead th {\n",
       "        text-align: right;\n",
       "    }\n",
       "</style>\n",
       "<table border=\"1\" class=\"dataframe\">\n",
       "  <thead>\n",
       "    <tr style=\"text-align: right;\">\n",
       "      <th></th>\n",
       "      <th>lat</th>\n",
       "      <th>lng</th>\n",
       "    </tr>\n",
       "  </thead>\n",
       "  <tbody>\n",
       "    <tr>\n",
       "      <th>count</th>\n",
       "      <td>134.000000</td>\n",
       "      <td>134.000000</td>\n",
       "    </tr>\n",
       "    <tr>\n",
       "      <th>mean</th>\n",
       "      <td>56.907784</td>\n",
       "      <td>24.634215</td>\n",
       "    </tr>\n",
       "    <tr>\n",
       "      <th>std</th>\n",
       "      <td>0.455718</td>\n",
       "      <td>1.747996</td>\n",
       "    </tr>\n",
       "    <tr>\n",
       "      <th>min</th>\n",
       "      <td>55.883330</td>\n",
       "      <td>21.012870</td>\n",
       "    </tr>\n",
       "    <tr>\n",
       "      <th>25%</th>\n",
       "      <td>56.585712</td>\n",
       "      <td>23.619960</td>\n",
       "    </tr>\n",
       "    <tr>\n",
       "      <th>50%</th>\n",
       "      <td>56.920870</td>\n",
       "      <td>24.696805</td>\n",
       "    </tr>\n",
       "    <tr>\n",
       "      <th>75%</th>\n",
       "      <td>57.179972</td>\n",
       "      <td>25.760895</td>\n",
       "    </tr>\n",
       "    <tr>\n",
       "      <th>max</th>\n",
       "      <td>57.897520</td>\n",
       "      <td>28.121650</td>\n",
       "    </tr>\n",
       "  </tbody>\n",
       "</table>\n",
       "</div>"
      ],
      "text/plain": [
       "              lat         lng\n",
       "count  134.000000  134.000000\n",
       "mean    56.907784   24.634215\n",
       "std      0.455718    1.747996\n",
       "min     55.883330   21.012870\n",
       "25%     56.585712   23.619960\n",
       "50%     56.920870   24.696805\n",
       "75%     57.179972   25.760895\n",
       "max     57.897520   28.121650"
      ]
     },
     "execution_count": 48,
     "metadata": {},
     "output_type": "execute_result"
    }
   ],
   "source": [
    "lvcities.describe()"
   ]
  },
  {
   "cell_type": "code",
   "execution_count": 41,
   "metadata": {},
   "outputs": [
    {
     "data": {
      "text/html": [
       "<div>\n",
       "<style scoped>\n",
       "    .dataframe tbody tr th:only-of-type {\n",
       "        vertical-align: middle;\n",
       "    }\n",
       "\n",
       "    .dataframe tbody tr th {\n",
       "        vertical-align: top;\n",
       "    }\n",
       "\n",
       "    .dataframe thead th {\n",
       "        text-align: right;\n",
       "    }\n",
       "</style>\n",
       "<table border=\"1\" class=\"dataframe\">\n",
       "  <thead>\n",
       "    <tr style=\"text-align: right;\">\n",
       "      <th></th>\n",
       "      <th>country</th>\n",
       "      <th>lat</th>\n",
       "      <th>lng</th>\n",
       "      <th>name</th>\n",
       "    </tr>\n",
       "    <tr>\n",
       "      <th>name</th>\n",
       "      <th></th>\n",
       "      <th></th>\n",
       "      <th></th>\n",
       "      <th></th>\n",
       "    </tr>\n",
       "  </thead>\n",
       "  <tbody>\n",
       "    <tr>\n",
       "      <th>Valmiera</th>\n",
       "      <td>LV</td>\n",
       "      <td>57.54108</td>\n",
       "      <td>25.42751</td>\n",
       "      <td>Valmiera</td>\n",
       "    </tr>\n",
       "    <tr>\n",
       "      <th>Zilupe</th>\n",
       "      <td>LV</td>\n",
       "      <td>56.38616</td>\n",
       "      <td>28.12165</td>\n",
       "      <td>Zilupe</td>\n",
       "    </tr>\n",
       "    <tr>\n",
       "      <th>Zelmeņi</th>\n",
       "      <td>LV</td>\n",
       "      <td>56.45167</td>\n",
       "      <td>23.35194</td>\n",
       "      <td>Zelmeņi</td>\n",
       "    </tr>\n",
       "    <tr>\n",
       "      <th>Viļaka</th>\n",
       "      <td>LV</td>\n",
       "      <td>57.18458</td>\n",
       "      <td>27.67220</td>\n",
       "      <td>Viļaka</td>\n",
       "    </tr>\n",
       "    <tr>\n",
       "      <th>Viļāni</th>\n",
       "      <td>LV</td>\n",
       "      <td>56.55253</td>\n",
       "      <td>26.92449</td>\n",
       "      <td>Viļāni</td>\n",
       "    </tr>\n",
       "  </tbody>\n",
       "</table>\n",
       "</div>"
      ],
      "text/plain": [
       "         country       lat       lng      name\n",
       "name                                          \n",
       "Valmiera      LV  57.54108  25.42751  Valmiera\n",
       "Zilupe        LV  56.38616  28.12165    Zilupe\n",
       "Zelmeņi       LV  56.45167  23.35194   Zelmeņi\n",
       "Viļaka        LV  57.18458  27.67220    Viļaka\n",
       "Viļāni        LV  56.55253  26.92449    Viļāni"
      ]
     },
     "execution_count": 41,
     "metadata": {},
     "output_type": "execute_result"
    }
   ],
   "source": [
    "lvcities.head()"
   ]
  },
  {
   "cell_type": "code",
   "execution_count": 49,
   "metadata": {},
   "outputs": [
    {
     "data": {
      "text/plain": [
       "country         LV\n",
       "lat        56.3862\n",
       "lng        28.1216\n",
       "name        Zilupe\n",
       "Name: Zilupe, dtype: object"
      ]
     },
     "execution_count": 49,
     "metadata": {},
     "output_type": "execute_result"
    }
   ],
   "source": [
    "zilupe = lvcities.iloc[1]\n",
    "zilupe"
   ]
  },
  {
   "cell_type": "code",
   "execution_count": 50,
   "metadata": {},
   "outputs": [
    {
     "data": {
      "text/plain": [
       "('Zilupe', 56.38616, 28.12165)"
      ]
     },
     "execution_count": 50,
     "metadata": {},
     "output_type": "execute_result"
    }
   ],
   "source": [
    "zilupe.name, float(zilupe.lat), float(zilupe.lng)"
   ]
  },
  {
   "cell_type": "code",
   "execution_count": 51,
   "metadata": {},
   "outputs": [],
   "source": [
    "def createCitiesMap(countrycode='LV', filename='cities.json', addToolTip=False):\n",
    "    df = pd.read_json(filename, encoding=\"UTF-8\")\n",
    "    cities = df[df.country == countrycode]\n",
    "    newmap = folium.Map(location=[(cities.lat.max()+cities.lat.min())/2, (cities.lng.max()+cities.lng.min())/2], zoom_start = 8)\n",
    "    #iterrows\n",
    "    for index, city in cities.iterrows():\n",
    "        if addToolTip == True:\n",
    "            mytooltip = str(city['name'])\n",
    "        else:\n",
    "            mytooltip = None\n",
    "        folium.Marker([float(city.lat), float(city.lng)], tooltip = mytooltip).add_to(newmap)\n",
    "    return newmap"
   ]
  },
  {
   "cell_type": "code",
   "execution_count": 52,
   "metadata": {
    "scrolled": true
   },
   "outputs": [
    {
     "data": {
      "text/html": [
       "<div style=\"width:100%;\"><div style=\"position:relative;width:100%;height:0;padding-bottom:60%;\"><iframe src=\"data:text/html;charset=utf-8;base64,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\" style=\"position:absolute;width:100%;height:100%;left:0;top:0;border:none !important;\" allowfullscreen webkitallowfullscreen mozallowfullscreen></iframe></div></div>"
      ],
      "text/plain": [
       "<folium.folium.Map at 0x1e48e5df8d0>"
      ]
     },
     "execution_count": 52,
     "metadata": {},
     "output_type": "execute_result"
    }
   ],
   "source": [
    "latvija = createCitiesMap(addToolTip=True)\n",
    "latvija"
   ]
  },
  {
   "cell_type": "code",
   "execution_count": 54,
   "metadata": {},
   "outputs": [
    {
     "data": {
      "text/plain": [
       "122"
      ]
     },
     "execution_count": 54,
     "metadata": {},
     "output_type": "execute_result"
    }
   ],
   "source": [
    "ltcities = df[df.country == 'LT']\n",
    "len(ltcities)"
   ]
  },
  {
   "cell_type": "code",
   "execution_count": 55,
   "metadata": {},
   "outputs": [
    {
     "data": {
      "text/plain": [
       "541"
      ]
     },
     "execution_count": 55,
     "metadata": {},
     "output_type": "execute_result"
    }
   ],
   "source": [
    "ncities = df[df.country == 'NO']\n",
    "len(ncities)"
   ]
  },
  {
   "cell_type": "code",
   "execution_count": 58,
   "metadata": {},
   "outputs": [
    {
     "data": {
      "text/plain": [
       "4642"
      ]
     },
     "execution_count": 58,
     "metadata": {},
     "output_type": "execute_result"
    }
   ],
   "source": [
    "rcities = df[df.country == 'RU']\n",
    "len(rcities)"
   ]
  },
  {
   "cell_type": "code",
   "execution_count": 53,
   "metadata": {
    "scrolled": true
   },
   "outputs": [
    {
     "data": {
      "text/html": [
       "<div style=\"width:100%;\"><div style=\"position:relative;width:100%;height:0;padding-bottom:60%;\"><iframe src=\"data:text/html;charset=utf-8;base64,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\" style=\"position:absolute;width:100%;height:100%;left:0;top:0;border:none !important;\" allowfullscreen webkitallowfullscreen mozallowfullscreen></iframe></div></div>"
      ],
      "text/plain": [
       "<folium.folium.Map at 0x1e48e6eea20>"
      ]
     },
     "execution_count": 53,
     "metadata": {},
     "output_type": "execute_result"
    }
   ],
   "source": [
    "lietuva = createCitiesMap(\"LT\", addToolTip=True)\n",
    "lietuva"
   ]
  },
  {
   "cell_type": "code",
   "execution_count": null,
   "metadata": {},
   "outputs": [],
   "source": [
    "usa = createCitiesMap(\"JP\")\n",
    "usa"
   ]
  },
  {
   "cell_type": "code",
   "execution_count": null,
   "metadata": {},
   "outputs": [],
   "source": [
    "lietuva.lat.max(),lietuva.lat.min()"
   ]
  },
  {
   "cell_type": "code",
   "execution_count": null,
   "metadata": {},
   "outputs": [],
   "source": [
    "lietuva = df[df.country == \"LT\"]\n",
    "lietuva.head()"
   ]
  },
  {
   "cell_type": "code",
   "execution_count": null,
   "metadata": {},
   "outputs": [],
   "source": [
    "df.head()"
   ]
  },
  {
   "cell_type": "code",
   "execution_count": null,
   "metadata": {},
   "outputs": [],
   "source": [
    "estonia = createCitiesMap('EE')"
   ]
  },
  {
   "cell_type": "code",
   "execution_count": null,
   "metadata": {},
   "outputs": [],
   "source": [
    "estonia"
   ]
  },
  {
   "cell_type": "code",
   "execution_count": null,
   "metadata": {},
   "outputs": [],
   "source": [
    "#Adding cities to map\n",
    "for index, city in lvcities.iterrows():\n",
    "    folium.Marker([float(city.lat), float(city.lng)]).add_to(clean_map)"
   ]
  },
  {
   "cell_type": "code",
   "execution_count": null,
   "metadata": {},
   "outputs": [],
   "source": [
    "clean_map"
   ]
  },
  {
   "cell_type": "code",
   "execution_count": null,
   "metadata": {},
   "outputs": [],
   "source": [
    "clean_map.location = getCity('Ogre')\n",
    "clean_map.zoom_start = 7\n",
    "clean_map"
   ]
  },
  {
   "cell_type": "code",
   "execution_count": null,
   "metadata": {},
   "outputs": [],
   "source": [
    "clean_map.zoom_start = 7\n",
    "clean_map"
   ]
  },
  {
   "cell_type": "code",
   "execution_count": 61,
   "metadata": {},
   "outputs": [
    {
     "data": {
      "text/html": [
       "<div style=\"width:100%;\"><div style=\"position:relative;width:100%;height:0;padding-bottom:60%;\"><iframe src=\"data:text/html;charset=utf-8;base64,PCFET0NUWVBFIGh0bWw+CjxoZWFkPiAgICAKICAgIDxtZXRhIGh0dHAtZXF1aXY9ImNvbnRlbnQtdHlwZSIgY29udGVudD0idGV4dC9odG1sOyBjaGFyc2V0PVVURi04IiAvPgogICAgPHNjcmlwdD5MX1BSRUZFUl9DQU5WQVM9ZmFsc2U7IExfTk9fVE9VQ0g9ZmFsc2U7IExfRElTQUJMRV8zRD1mYWxzZTs8L3NjcmlwdD4KICAgIDxzY3JpcHQgc3JjPSJodHRwczovL2Nkbi5qc2RlbGl2ci5uZXQvbnBtL2xlYWZsZXRAMS40LjAvZGlzdC9sZWFmbGV0LmpzIj48L3NjcmlwdD4KICAgIDxzY3JpcHQgc3JjPSJodHRwczovL2NvZGUuanF1ZXJ5LmNvbS9qcXVlcnktMS4xMi40Lm1pbi5qcyI+PC9zY3JpcHQ+CiAgICA8c2NyaXB0IHNyYz0iaHR0cHM6Ly9tYXhjZG4uYm9vdHN0cmFwY2RuLmNvbS9ib290c3RyYXAvMy4yLjAvanMvYm9vdHN0cmFwLm1pbi5qcyI+PC9zY3JpcHQ+CiAgICA8c2NyaXB0IHNyYz0iaHR0cHM6Ly9jZG5qcy5jbG91ZGZsYXJlLmNvbS9hamF4L2xpYnMvTGVhZmxldC5hd2Vzb21lLW1hcmtlcnMvMi4wLjIvbGVhZmxldC5hd2Vzb21lLW1hcmtlcnMuanMiPjwvc2NyaXB0PgogICAgPGxpbmsgcmVsPSJzdHlsZXNoZWV0IiBocmVmPSJodHRwczovL2Nkbi5qc2RlbGl2ci5uZXQvbnBtL2xlYWZsZXRAMS40LjAvZGlzdC9sZWFmbGV0LmNzcyIvPgogICAgPGxpbmsgcmVsPSJzdHlsZXNoZWV0IiBocmVmPSJodHRwczovL21heGNkbi5ib290c3RyYXBjZG4uY29tL2Jvb3RzdHJhcC8zLjIuMC9jc3MvYm9vdHN0cmFwLm1pbi5jc3MiLz4KICAgIDxsaW5rIHJlbD0ic3R5bGVzaGVldCIgaHJlZj0iaHR0cHM6Ly9tYXhjZG4uYm9vdHN0cmFwY2RuLmNvbS9ib290c3RyYXAvMy4yLjAvY3NzL2Jvb3RzdHJhcC10aGVtZS5taW4uY3NzIi8+CiAgICA8bGluayByZWw9InN0eWxlc2hlZXQiIGhyZWY9Imh0dHBzOi8vbWF4Y2RuLmJvb3RzdHJhcGNkbi5jb20vZm9udC1hd2Vzb21lLzQuNi4zL2Nzcy9mb250LWF3ZXNvbWUubWluLmNzcyIvPgogICAgPGxpbmsgcmVsPSJzdHlsZXNoZWV0IiBocmVmPSJodHRwczovL2NkbmpzLmNsb3VkZmxhcmUuY29tL2FqYXgvbGlicy9MZWFmbGV0LmF3ZXNvbWUtbWFya2Vycy8yLjAuMi9sZWFmbGV0LmF3ZXNvbWUtbWFya2Vycy5jc3MiLz4KICAgIDxsaW5rIHJlbD0ic3R5bGVzaGVldCIgaHJlZj0iaHR0cHM6Ly9yYXdjZG4uZ2l0aGFjay5jb20vcHl0aG9uLXZpc3VhbGl6YXRpb24vZm9saXVtL21hc3Rlci9mb2xpdW0vdGVtcGxhdGVzL2xlYWZsZXQuYXdlc29tZS5yb3RhdGUuY3NzIi8+CiAgICA8c3R5bGU+aHRtbCwgYm9keSB7d2lkdGg6IDEwMCU7aGVpZ2h0OiAxMDAlO21hcmdpbjogMDtwYWRkaW5nOiAwO308L3N0eWxlPgogICAgPHN0eWxlPiNtYXAge3Bvc2l0aW9uOmFic29sdXRlO3RvcDowO2JvdHRvbTowO3JpZ2h0OjA7bGVmdDowO308L3N0eWxlPgogICAgCiAgICA8bWV0YSBuYW1lPSJ2aWV3cG9ydCIgY29udGVudD0id2lkdGg9ZGV2aWNlLXdpZHRoLAogICAgICAgIGluaXRpYWwtc2NhbGU9MS4wLCBtYXhpbXVtLXNjYWxlPTEuMCwgdXNlci1zY2FsYWJsZT1ubyIgLz4KICAgIDxzdHlsZT4jbWFwXzRkNGZlZDgwZDg0MzRmZDRhMGEzYTQ2ZWYwZTU4NjNhIHsKICAgICAgICBwb3NpdGlvbjogcmVsYXRpdmU7CiAgICAgICAgd2lkdGg6IDEwMC4wJTsKICAgICAgICBoZWlnaHQ6IDEwMC4wJTsKICAgICAgICBsZWZ0OiAwLjAlOwogICAgICAgIHRvcDogMC4wJTsKICAgICAgICB9CiAgICA8L3N0eWxlPgo8L2hlYWQ+Cjxib2R5PiAgICAKICAgIAogICAgPGRpdiBjbGFzcz0iZm9saXVtLW1hcCIgaWQ9Im1hcF80ZDRmZWQ4MGQ4NDM0ZmQ0YTBhM2E0NmVmMGU1ODYzYSIgPjwvZGl2Pgo8L2JvZHk+CjxzY3JpcHQ+ICAgIAogICAgCiAgICAKICAgICAgICB2YXIgYm91bmRzID0gbnVsbDsKICAgIAoKICAgIHZhciBtYXBfNGQ0ZmVkODBkODQzNGZkNGEwYTNhNDZlZjBlNTg2M2EgPSBMLm1hcCgKICAgICAgICAnbWFwXzRkNGZlZDgwZDg0MzRmZDRhMGEzYTQ2ZWYwZTU4NjNhJywgewogICAgICAgIGNlbnRlcjogWzU2Ljk1MDQsIDI0LjExNjVdLAogICAgICAgIHpvb206IDIwLAogICAgICAgIG1heEJvdW5kczogYm91bmRzLAogICAgICAgIGxheWVyczogW10sCiAgICAgICAgd29ybGRDb3B5SnVtcDogZmFsc2UsCiAgICAgICAgY3JzOiBMLkNSUy5FUFNHMzg1NywKICAgICAgICB6b29tQ29udHJvbDogdHJ1ZSwKICAgICAgICB9KTsKCgogICAgCiAgICB2YXIgdGlsZV9sYXllcl8xMmFmNzliODE2YTc0YmMzOGZjZTNjYjFjOWE2ZmQyOCA9IEwudGlsZUxheWVyKAogICAgICAgICdodHRwczovL3tzfS50aWxlLm9wZW5zdHJlZXRtYXAub3JnL3t6fS97eH0ve3l9LnBuZycsCiAgICAgICAgewogICAgICAgICJhdHRyaWJ1dGlvbiI6IG51bGwsCiAgICAgICAgImRldGVjdFJldGluYSI6IGZhbHNlLAogICAgICAgICJtYXhOYXRpdmVab29tIjogMTgsCiAgICAgICAgIm1heFpvb20iOiAxOCwKICAgICAgICAibWluWm9vbSI6IDAsCiAgICAgICAgIm5vV3JhcCI6IGZhbHNlLAogICAgICAgICJvcGFjaXR5IjogMSwKICAgICAgICAic3ViZG9tYWlucyI6ICJhYmMiLAogICAgICAgICJ0bXMiOiBmYWxzZQp9KS5hZGRUbyhtYXBfNGQ0ZmVkODBkODQzNGZkNGEwYTNhNDZlZjBlNTg2M2EpOwogICAgCiAgICAgICAgdmFyIG1hcmtlcl9hNTVlZDBmYTBiZjk0ZDI5YTVkYmFiZTM3ODE5YTc0YyA9IEwubWFya2VyKAogICAgICAgICAgICBbNTYuOTUwOCwgMjQuMTE2NV0sCiAgICAgICAgICAgIHsKICAgICAgICAgICAgICAgIGljb246IG5ldyBMLkljb24uRGVmYXVsdCgpLAogICAgICAgICAgICAgICAgfQogICAgICAgICAgICApLmFkZFRvKG1hcF80ZDRmZWQ4MGQ4NDM0ZmQ0YTBhM2E0NmVmMGU1ODYzYSk7CiAgICAgICAgCiAgICAKCiAgICAgICAgICAgICAgICB2YXIgaWNvbl82YjE3OWVmNzU2ZDY0YjFhYjg3MmE3OTFlNWVlYTkwYiA9IEwuQXdlc29tZU1hcmtlcnMuaWNvbih7CiAgICAgICAgICAgICAgICAgICAgaWNvbjogJ2luZm8tc2lnbicsCiAgICAgICAgICAgICAgICAgICAgaWNvbkNvbG9yOiAnd2hpdGUnLAogICAgICAgICAgICAgICAgICAgIG1hcmtlckNvbG9yOiAnZ3JlZW4nLAogICAgICAgICAgICAgICAgICAgIHByZWZpeDogJ2dseXBoaWNvbicsCiAgICAgICAgICAgICAgICAgICAgZXh0cmFDbGFzc2VzOiAnZmEtcm90YXRlLTAnCiAgICAgICAgICAgICAgICAgICAgfSk7CiAgICAgICAgICAgICAgICBtYXJrZXJfYTU1ZWQwZmEwYmY5NGQyOWE1ZGJhYmUzNzgxOWE3NGMuc2V0SWNvbihpY29uXzZiMTc5ZWY3NTZkNjRiMWFiODcyYTc5MWU1ZWVhOTBiKTsKICAgICAgICAgICAgCiAgICAKICAgICAgICAgICAgdmFyIHBvcHVwXzBhMTNlMzZhYWYwMzRhMzE4ZjE0ZTk3N2NiNjJkN2IxID0gTC5wb3B1cCh7bWF4V2lkdGg6ICcxMDAlJwogICAgICAgICAgICAKICAgICAgICAgICAgfSk7CgogICAgICAgICAgICAKICAgICAgICAgICAgICAgIHZhciBodG1sXzNjYTJkMGE2Y2NjYTQ5YmNiOTU3NWQ2YWJhNGYyY2E3ID0gJChgPGRpdiBpZD0iaHRtbF8zY2EyZDBhNmNjY2E0OWJjYjk1NzVkNmFiYTRmMmNhNyIgc3R5bGU9IndpZHRoOiAxMDAuMCU7IGhlaWdodDogMTAwLjAlOyI+TGF0dmlqYXMgdW5pdmVyc2l0xIF0ZTwvZGl2PmApWzBdOwogICAgICAgICAgICAgICAgcG9wdXBfMGExM2UzNmFhZjAzNGEzMThmMTRlOTc3Y2I2MmQ3YjEuc2V0Q29udGVudChodG1sXzNjYTJkMGE2Y2NjYTQ5YmNiOTU3NWQ2YWJhNGYyY2E3KTsKICAgICAgICAgICAgCgogICAgICAgICAgICBtYXJrZXJfYTU1ZWQwZmEwYmY5NGQyOWE1ZGJhYmUzNzgxOWE3NGMuYmluZFBvcHVwKHBvcHVwXzBhMTNlMzZhYWYwMzRhMzE4ZjE0ZTk3N2NiNjJkN2IxKQogICAgICAgICAgICA7CgogICAgICAgICAgICAKICAgICAgICAKICAgIAogICAgICAgICAgICB2YXIgY2lyY2xlX21hcmtlcl81OGRjMjEyNGU0Nzg0OTRhOGMwMTZhNGM4YTgwZWQwNiA9IEwuY2lyY2xlTWFya2VyKAogICAgICAgICAgICAgICAgWzU2Ljk1LCAyNC4xMTc0XSwKICAgICAgICAgICAgICAgIHsKICAiYnViYmxpbmdNb3VzZUV2ZW50cyI6IHRydWUsCiAgImNvbG9yIjogInJlZCIsCiAgImRhc2hBcnJheSI6IG51bGwsCiAgImRhc2hPZmZzZXQiOiBudWxsLAogICJmaWxsIjogZmFsc2UsCiAgImZpbGxDb2xvciI6ICJyZWQiLAogICJmaWxsT3BhY2l0eSI6IDAuMiwKICAiZmlsbFJ1bGUiOiAiZXZlbm9kZCIsCiAgImxpbmVDYXAiOiAicm91bmQiLAogICJsaW5lSm9pbiI6ICJyb3VuZCIsCiAgIm9wYWNpdHkiOiAxLjAsCiAgInJhZGl1cyI6IDEwMCwKICAic3Ryb2tlIjogdHJ1ZSwKICAid2VpZ2h0IjogMwp9CiAgICAgICAgICAgICAgICApCiAgICAgICAgICAgICAgICAuYWRkVG8obWFwXzRkNGZlZDgwZDg0MzRmZDRhMGEzYTQ2ZWYwZTU4NjNhKTsKICAgICAgICAgICAgCiAgICAKICAgICAgICAgICAgdmFyIHBvcHVwX2I1MTA4MTc0YWIzNTQwYzk5MThlYWM2M2JlY2FjOWU4ID0gTC5wb3B1cCh7bWF4V2lkdGg6ICcxMDAlJwogICAgICAgICAgICAKICAgICAgICAgICAgfSk7CgogICAgICAgICAgICAKICAgICAgICAgICAgICAgIHZhciBodG1sXzk5ZjIzZjYxOWRjNzQxZjlhMDkzM2Y0ODc1NjVlNzA1ID0gJChgPGRpdiBpZD0iaHRtbF85OWYyM2Y2MTlkYzc0MWY5YTA5MzNmNDg3NTY1ZTcwNSIgc3R5bGU9IndpZHRoOiAxMDAuMCU7IGhlaWdodDogMTAwLjAlOyI+TcWremlrYXMgYWthZMSTbWlqYTwvZGl2PmApWzBdOwogICAgICAgICAgICAgICAgcG9wdXBfYjUxMDgxNzRhYjM1NDBjOTkxOGVhYzYzYmVjYWM5ZTguc2V0Q29udGVudChodG1sXzk5ZjIzZjYxOWRjNzQxZjlhMDkzM2Y0ODc1NjVlNzA1KTsKICAgICAgICAgICAgCgogICAgICAgICAgICBjaXJjbGVfbWFya2VyXzU4ZGMyMTI0ZTQ3ODQ5NGE4YzAxNmE0YzhhODBlZDA2LmJpbmRQb3B1cChwb3B1cF9iNTEwODE3NGFiMzU0MGM5OTE4ZWFjNjNiZWNhYzllOCkKICAgICAgICAgICAgOwoKICAgICAgICAgICAgCiAgICAgICAgCiAgICAKCiAgICAgICAgICAgIHZhciBjaXJjbGVfOTJhYjZmYzk3NzI2NDJmNTk4ZDA5ZjFjYzJmNGE2NWUgPSBMLmNpcmNsZSgKICAgICAgICAgICAgICAgIFs1Ni45NTUsIDI0LjExMzRdLAogICAgICAgICAgICAgICAgewogICJidWJibGluZ01vdXNlRXZlbnRzIjogdHJ1ZSwKICAiY29sb3IiOiAiY3JpbXNvbiIsCiAgImRhc2hBcnJheSI6IG51bGwsCiAgImRhc2hPZmZzZXQiOiBudWxsLAogICJmaWxsIjogdHJ1ZSwKICAiZmlsbENvbG9yIjogImNyaW1zb24iLAogICJmaWxsT3BhY2l0eSI6IDAuMiwKICAiZmlsbFJ1bGUiOiAiZXZlbm9kZCIsCiAgImxpbmVDYXAiOiAicm91bmQiLAogICJsaW5lSm9pbiI6ICJyb3VuZCIsCiAgIm9wYWNpdHkiOiAxLjAsCiAgInJhZGl1cyI6IDI1LAogICJzdHJva2UiOiB0cnVlLAogICJ3ZWlnaHQiOiAzCn0KICAgICAgICAgICAgICAgICkKICAgICAgICAgICAgICAgIC5hZGRUbyhtYXBfNGQ0ZmVkODBkODQzNGZkNGEwYTNhNDZlZjBlNTg2M2EpOwogICAgICAgICAgICAKICAgIAogICAgICAgICAgICB2YXIgcG9wdXBfYjBiOWVjN2ZlYWNjNDhjODg4NGNmYmZkNWZkYWU2ZmYgPSBMLnBvcHVwKHttYXhXaWR0aDogJzEwMCUnCiAgICAgICAgICAgIAogICAgICAgICAgICB9KTsKCiAgICAgICAgICAgIAogICAgICAgICAgICAgICAgdmFyIGh0bWxfNTliMzU1NzAwZTk2NGFhNzg4ZTM3NmQ3NTBmNWRhNTAgPSAkKGA8ZGl2IGlkPSJodG1sXzU5YjM1NTcwMGU5NjRhYTc4OGUzNzZkNzUwZjVkYTUwIiBzdHlsZT0id2lkdGg6IDEwMC4wJTsgaGVpZ2h0OiAxMDAuMCU7Ij5SYW5kb208L2Rpdj5gKVswXTsKICAgICAgICAgICAgICAgIHBvcHVwX2IwYjllYzdmZWFjYzQ4Yzg4ODRjZmJmZDVmZGFlNmZmLnNldENvbnRlbnQoaHRtbF81OWIzNTU3MDBlOTY0YWE3ODhlMzc2ZDc1MGY1ZGE1MCk7CiAgICAgICAgICAgIAoKICAgICAgICAgICAgY2lyY2xlXzkyYWI2ZmM5NzcyNjQyZjU5OGQwOWYxY2MyZjRhNjVlLmJpbmRQb3B1cChwb3B1cF9iMGI5ZWM3ZmVhY2M0OGM4ODg0Y2ZiZmQ1ZmRhZTZmZikKICAgICAgICAgICAgOwoKICAgICAgICAgICAgCiAgICAgICAgCiAgICAKICAgICAgICAgICAgICAgIGZ1bmN0aW9uIG5ld01hcmtlcihlKXsKICAgICAgICAgICAgICAgICAgICB2YXIgbmV3X21hcmsgPSBMLm1hcmtlcigpLnNldExhdExuZyhlLmxhdGxuZykuYWRkVG8obWFwXzRkNGZlZDgwZDg0MzRmZDRhMGEzYTQ2ZWYwZTU4NjNhKTsKICAgICAgICAgICAgICAgICAgICBuZXdfbWFyay5kcmFnZ2luZy5lbmFibGUoKTsKICAgICAgICAgICAgICAgICAgICBuZXdfbWFyay5vbignZGJsY2xpY2snLCBmdW5jdGlvbihlKXsgbWFwXzRkNGZlZDgwZDg0MzRmZDRhMGEzYTQ2ZWYwZTU4NjNhLnJlbW92ZUxheWVyKGUudGFyZ2V0KX0pCiAgICAgICAgICAgICAgICAgICAgdmFyIGxhdCA9IGUubGF0bG5nLmxhdC50b0ZpeGVkKDQpLAogICAgICAgICAgICAgICAgICAgICAgIGxuZyA9IGUubGF0bG5nLmxuZy50b0ZpeGVkKDQpOwogICAgICAgICAgICAgICAgICAgIG5ld19tYXJrLmJpbmRQb3B1cCgiR2FsYXB1bmt0cyIpOwogICAgICAgICAgICAgICAgICAgIH07CiAgICAgICAgICAgICAgICBtYXBfNGQ0ZmVkODBkODQzNGZkNGEwYTNhNDZlZjBlNTg2M2Eub24oJ2NsaWNrJywgbmV3TWFya2VyKTsKICAgICAgICAgICAgCjwvc2NyaXB0Pg==\" style=\"position:absolute;width:100%;height:100%;left:0;top:0;border:none !important;\" allowfullscreen webkitallowfullscreen mozallowfullscreen></iframe></div></div>"
      ],
      "text/plain": [
       "<folium.folium.Map at 0x1e48ea11550>"
      ]
     },
     "execution_count": 61,
     "metadata": {},
     "output_type": "execute_result"
    }
   ],
   "source": [
    "latvijas_universitate = folium.Map(location=[56.9504,24.11650],\n",
    "                        #tiles = \"Stamen Watercolor\",\n",
    "                        zoom_start = 20)\n",
    "# Parasts marķieris, zaļš\n",
    "folium.Marker([56.95080,24.11650],\n",
    "              popup='Latvijas universitāte',\n",
    "              icon=folium.Icon(color='green')\n",
    "             ).add_to(latvijas_universitate)\n",
    "\n",
    "# Apaļš marķieris\n",
    "folium.CircleMarker([56.95,24.1174],\n",
    "                    radius=100,\n",
    "                    popup='Mūzikas akadēmija',\n",
    "                    color='red',\n",
    "                    ).add_to(latvijas_universitate)\n",
    "folium.Circle(\n",
    "      location=[56.955,24.1134],\n",
    "      popup='Random',\n",
    "      radius=25,\n",
    "      color='crimson',\n",
    "      fill=True,\n",
    "      fill_color='crimson'\n",
    "   ).add_to(latvijas_universitate)\n",
    "\n",
    "# Interactive marker\n",
    "latvijas_universitate.add_child(folium.ClickForMarker(popup=\"Galapunkts\"))\n",
    "\n",
    "latvijas_universitate"
   ]
  },
  {
   "cell_type": "code",
   "execution_count": null,
   "metadata": {},
   "outputs": [],
   "source": []
  },
  {
   "cell_type": "code",
   "execution_count": 67,
   "metadata": {
    "scrolled": true
   },
   "outputs": [
    {
     "data": {
      "text/html": [
       "<div style=\"width:100%;\"><div style=\"position:relative;width:100%;height:0;padding-bottom:60%;\"><iframe src=\"data:text/html;charset=utf-8;base64,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\" style=\"position:absolute;width:100%;height:100%;left:0;top:0;border:none !important;\" allowfullscreen webkitallowfullscreen mozallowfullscreen></iframe></div></div>"
      ],
      "text/plain": [
       "<folium.folium.Map at 0x1e48ea2e908>"
      ]
     },
     "execution_count": 67,
     "metadata": {},
     "output_type": "execute_result"
    }
   ],
   "source": [
    "centrs = folium.Map(location=[56.9514934,24.1135],\n",
    "                        tiles = \"Stamen Toner\", #Mapbox Bright\n",
    "                        zoom_start = 17)\n",
    "\n",
    "folium.Marker([56.9514934,24.1135],\n",
    "              popup='Brīvības piemineklis',\n",
    "              icon=folium.Icon(color='green')\n",
    "             ).add_to(centrs)\n",
    "folium.Marker([56.95080,24.11650], \n",
    "              popup='Latvijas Universitāte',\n",
    "              icon=folium.Icon(color='blue',icon='university', prefix='fa') \n",
    "             ).add_to(centrs)\n",
    "\n",
    "folium.Marker([56.9514934,24.1111156], \n",
    "              popup='Bastejkalns',\n",
    "              icon=folium.Icon(color='red',icon='bicycle', prefix='fa')\n",
    "             ).add_to(centrs)\n",
    "centrs = folium.Map(location=[56.9514934,24.1135],\n",
    "                        tiles = \"Stamen Toner\", #Mapbox Bright\n",
    "                        zoom_start = 17)\n",
    "\n",
    "folium.Marker([56.9514934,24.1135],\n",
    "              popup='Brīvības piemineklis',\n",
    "              icon=folium.Icon(color='green')\n",
    "             ).add_to(centrs)\n",
    "folium.Marker([56.95080,24.11650], \n",
    "              popup='Latvijas Universitāte',\n",
    "              icon=folium.Icon(color='blue',icon='university', prefix='fa') \n",
    "             ).add_to(centrs)\n",
    "\n",
    "folium.Marker([56.950934,24.1114156], \n",
    "              popup='Peldvieta',\n",
    "              icon=folium.Icon(color='blue',icon='road', prefix='fa')\n",
    "             ).add_to(centrs)\n",
    "\n",
    "centrs\n",
    "\n",
    "centrs"
   ]
  },
  {
   "cell_type": "code",
   "execution_count": 54,
   "metadata": {},
   "outputs": [
    {
     "data": {
      "text/html": [
       "<div style=\"width:100%;\"><div style=\"position:relative;width:100%;height:0;padding-bottom:60%;\"><iframe src=\"data:text/html;charset=utf-8;base64,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\" style=\"position:absolute;width:100%;height:100%;left:0;top:0;border:none !important;\" allowfullscreen webkitallowfullscreen mozallowfullscreen></iframe></div></div>"
      ],
      "text/plain": [
       "<folium.folium.Map at 0x12f3bbc9ef0>"
      ]
     },
     "execution_count": 54,
     "metadata": {},
     "output_type": "execute_result"
    }
   ],
   "source": [
    "from folium.plugins import MiniMap\n",
    "\n",
    "latvia = folium.Map(location=(57,25), zoom_start=6,width=500, height=500)\n",
    "\n",
    "minimap = MiniMap()\n",
    "latvia.add_child(minimap)\n",
    "latvia"
   ]
  },
  {
   "cell_type": "code",
   "execution_count": null,
   "metadata": {},
   "outputs": [],
   "source": [
    "coordinates = [\n",
    "[56.95080,24.11650],\n",
    "[56.9506724,24.11533],\n",
    "[56.9515315,24.1143683],\n",
    "[56.9518371,24.1138815],\n",
    "[56.9515036,24.1135815]]\n",
    "\n",
    "centrs = folium.Map(location=[56.9514934,24.1135],\n",
    "                        zoom_start = 17)\n",
    "\n",
    "path = folium.PolyLine(\n",
    "    [coordinates]\n",
    ").add_to(centrs)\n",
    "\n",
    "# Create the map and add the line\n",
    "folium.Marker([56.95080,24.11650], popup='Latvijas universitāte', icon=folium.Icon(color='red')).add_to(centrs)\n",
    "folium.Marker([56.9514934,24.1135],\n",
    "              popup='Brīvības piemineklis',\n",
    "              icon=folium.Icon(color='red')\n",
    "             ).add_to(centrs)\n",
    "\n",
    "\n",
    "plugins.PolyLineTextPath(\n",
    "    path,\n",
    "    'Uz brīvības pieminekli',\n",
    "    offset=-5\n",
    ").add_to(centrs)\n",
    "\n",
    "centrs"
   ]
  },
  {
   "cell_type": "code",
   "execution_count": null,
   "metadata": {},
   "outputs": [],
   "source": [
    "#https://www.openstreetmap.org/relation/1554509\n",
    "#http://polygons.openstreetmap.fr/\n",
    "riga = os.path.join('riga.json')\n",
    "geo_json_data = json.load(open(riga))"
   ]
  },
  {
   "cell_type": "code",
   "execution_count": null,
   "metadata": {},
   "outputs": [],
   "source": [
    "riga = folium.Map(location=[56.9514934,24.1135],\n",
    "                        zoom_start = 10)\n",
    "\n",
    "folium.GeoJson(\n",
    "    geo_json_data,\n",
    "    style_function=lambda feature: {\n",
    "        'fillColor': 'blue',\n",
    "        'color': 'black',\n",
    "        'weight': 2,\n",
    "        'dashArray': '5, 5'\n",
    "    }\n",
    ").add_to(riga)\n",
    "\n",
    "riga.save(os.path.join('Colormaps_0.html')) #saglabā rezultātu html failā\n",
    "riga"
   ]
  },
  {
   "cell_type": "code",
   "execution_count": null,
   "metadata": {},
   "outputs": [],
   "source": [
    "m = folium.Map([30, 0], zoom_start=3)\n",
    "\n",
    "wind_locations = [\n",
    "    [59.35560, -31.992190],\n",
    "    [55.178870, -42.89062],\n",
    "    [47.754100, -43.94531],\n",
    "    [38.272690, -37.96875],\n",
    "    [27.059130, -41.13281],\n",
    "    [16.299050, -36.56250],\n",
    "    [8.4071700, -30.23437],\n",
    "    [1.0546300, -22.50000],\n",
    "    [-8.754790, -18.28125],\n",
    "    [-21.61658, -20.03906],\n",
    "    [-31.35364, -24.25781],\n",
    "    [-39.90974, -30.93750],\n",
    "    [-43.83453, -41.13281],\n",
    "    [-47.75410, -49.92187],\n",
    "    [-50.95843, -54.14062],\n",
    "    [-55.97380, -56.60156]\n",
    "]\n",
    "\n",
    "wind_line = folium.PolyLine(\n",
    "    wind_locations,\n",
    "    weight=15,\n",
    "    color='#8EE9FF'\n",
    ").add_to(m)\n",
    "\n",
    "attr = {'fill': '#007DEF', 'font-weight': 'bold', 'font-size': '24'}\n",
    "\n",
    "plugins.PolyLineTextPath(\n",
    "    wind_line,\n",
    "    ') ',\n",
    "    repeat=True,\n",
    "    offset=7,\n",
    "    attributes=attr\n",
    ").add_to(m)\n",
    "\n",
    "danger_line = folium.PolyLine(\n",
    "    [[-40.311, -31.952],\n",
    "     [-12.086, -18.727]],\n",
    "    weight=10,\n",
    "    color='orange',\n",
    "    opacity=0.8\n",
    ").add_to(m)\n",
    "\n",
    "attr = {'fill': 'red'}\n",
    "\n",
    "plugins.PolyLineTextPath(\n",
    "    danger_line,\n",
    "    '\\u25BA',\n",
    "    repeat=True,\n",
    "    offset=6,\n",
    "    attributes=attr\n",
    ").add_to(m)\n",
    "\n",
    "plane_line = folium.PolyLine(\n",
    "    [[-49.38237, -37.26562],\n",
    "     [-1.75754, -14.41406],\n",
    "     [51.61802, -23.20312]],\n",
    "    weight=1,\n",
    "    color='black'\n",
    ").add_to(m)\n",
    "\n",
    "attr = {'font-weight': 'bold', 'font-size': '24'}\n",
    "\n",
    "plugins.PolyLineTextPath(\n",
    "    plane_line,\n",
    "    '\\u2708     ',\n",
    "    repeat=True,\n",
    "    offset=8,\n",
    "    attributes=attr\n",
    ").add_to(m)\n",
    "\n",
    "\n",
    "line_to_new_delhi = folium.PolyLine(\n",
    "    [[46.67959447, 3.33984375],\n",
    "     [46.5588603, 29.53125],\n",
    "     [42.29356419, 51.328125],\n",
    "     [35.74651226, 68.5546875],\n",
    "     [28.65203063, 76.81640625]]\n",
    ").add_to(m)\n",
    "\n",
    "\n",
    "line_to_hanoi = folium.PolyLine(\n",
    "    [[28.76765911, 77.60742188],\n",
    "     [27.83907609, 88.72558594],\n",
    "     [25.68113734, 97.3828125],\n",
    "     [21.24842224, 105.77636719]]\n",
    ").add_to(m)\n",
    "\n",
    "\n",
    "plugins.PolyLineTextPath(\n",
    "    line_to_new_delhi,\n",
    "    'To New Delhi',\n",
    "    offset=-5\n",
    ").add_to(m)\n",
    "\n",
    "\n",
    "plugins.PolyLineTextPath(\n",
    "    line_to_hanoi,\n",
    "    'To Hanoi',\n",
    "    offset=-5\n",
    ").add_to(m)\n",
    "\n",
    "m.save(os.path.join('Polyline_text_path.html'))\n",
    "\n",
    "m"
   ]
  },
  {
   "cell_type": "code",
   "execution_count": null,
   "metadata": {},
   "outputs": [],
   "source": [
    "us_states = os.path.join('us-states.json')\n",
    "geo_json_data = json.load(open(us_states))\n",
    "\n",
    "unemployment = pd.read_csv('US_Unemployment_Oct2012.csv')\n",
    "\n",
    "unemployment_dict = unemployment.set_index('State')['Unemployment']"
   ]
  },
  {
   "cell_type": "code",
   "execution_count": null,
   "metadata": {},
   "outputs": [],
   "source": [
    "def my_color_function(feature):\n",
    "    \"Zemās vērtības - zaļas. Augstās - sarkanas\"\n",
    "    if unemployment_dict[feature['id']] > 6.5:\n",
    "        return '#ff0000'\n",
    "    else:\n",
    "        return '#008000'"
   ]
  },
  {
   "cell_type": "code",
   "execution_count": null,
   "metadata": {},
   "outputs": [],
   "source": [
    "m = folium.Map([43, -100], tiles='cartodbpositron', zoom_start=4)\n",
    "\n",
    "folium.GeoJson(\n",
    "    geo_json_data,\n",
    "    style_function=lambda feature: {\n",
    "        'fillColor': my_color_function(feature),\n",
    "        'color': 'black',\n",
    "        'weight': 2,\n",
    "        'dashArray': '5, 5'\n",
    "    }\n",
    ").add_to(m)\n",
    "\n",
    "m.save(os.path.join('Colormaps_0.html'))\n",
    "\n",
    "m"
   ]
  },
  {
   "cell_type": "code",
   "execution_count": null,
   "metadata": {},
   "outputs": [],
   "source": [
    "import branca.colormap as cm\n",
    "\n",
    "linear = cm.LinearColormap(\n",
    "    ['green', 'yellow', 'red'],\n",
    "    vmin=3, vmax=10\n",
    ")\n",
    "\n",
    "linear"
   ]
  },
  {
   "cell_type": "code",
   "execution_count": null,
   "metadata": {},
   "outputs": [],
   "source": [
    "m = folium.Map([43, -100], tiles='cartodbpositron', zoom_start=4)\n",
    "\n",
    "folium.GeoJson(\n",
    "    geo_json_data,\n",
    "    style_function=lambda feature: {\n",
    "        'fillColor': linear(unemployment_dict[feature['id']]),\n",
    "        'color': 'black',\n",
    "        'weight': 2,\n",
    "        'dashArray': '5, 5'\n",
    "    }\n",
    ").add_to(m)\n",
    "\n",
    "m.save(os.path.join('Colormaps_2.html'))\n",
    "\n",
    "m"
   ]
  },
  {
   "cell_type": "code",
   "execution_count": null,
   "metadata": {},
   "outputs": [],
   "source": []
  }
 ],
 "metadata": {
  "kernelspec": {
   "display_name": "Python 3",
   "language": "python",
   "name": "python3"
  },
  "language_info": {
   "codemirror_mode": {
    "name": "ipython",
    "version": 3
   },
   "file_extension": ".py",
   "mimetype": "text/x-python",
   "name": "python",
   "nbconvert_exporter": "python",
   "pygments_lexer": "ipython3",
   "version": "3.7.3"
  }
 },
 "nbformat": 4,
 "nbformat_minor": 2
}
