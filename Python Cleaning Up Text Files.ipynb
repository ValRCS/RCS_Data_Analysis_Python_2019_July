{
 "cells": [
  {
   "cell_type": "markdown",
   "metadata": {},
   "source": [
    "## Python Cleaning Up Text Files"
   ]
  },
  {
   "cell_type": "code",
   "execution_count": 1,
   "metadata": {},
   "outputs": [],
   "source": [
    "import os"
   ]
  },
  {
   "cell_type": "code",
   "execution_count": 2,
   "metadata": {},
   "outputs": [],
   "source": [
    "fname = \"Veidenbaums.txt\""
   ]
  },
  {
   "cell_type": "code",
   "execution_count": 3,
   "metadata": {},
   "outputs": [
    {
     "data": {
      "text/plain": [
       "'C:\\\\Users\\\\val-p1\\\\Github\\\\RCS_Data_Analysis_Python_2019_May\\\\data\\\\Veidenbaums.txt'"
      ]
     },
     "execution_count": 3,
     "metadata": {},
     "output_type": "execute_result"
    }
   ],
   "source": [
    "fpath = os.path.join(os.getcwd(), 'data', fname)\n",
    "fpath"
   ]
  },
  {
   "cell_type": "code",
   "execution_count": 4,
   "metadata": {},
   "outputs": [
    {
     "data": {
      "text/plain": [
       "'C:\\\\Users\\\\val-p1\\\\Github\\\\RCS_Data_Analysis_Python_2019_May\\\\data\\\\cleaned.txt'"
      ]
     },
     "execution_count": 4,
     "metadata": {},
     "output_type": "execute_result"
    }
   ],
   "source": [
    "newpath = os.path.join(os.getcwd(), 'data', 'cleaned.txt')\n",
    "newpath"
   ]
  },
  {
   "cell_type": "code",
   "execution_count": null,
   "metadata": {},
   "outputs": [],
   "source": []
  },
  {
   "cell_type": "code",
   "execution_count": 6,
   "metadata": {},
   "outputs": [
    {
     "data": {
      "text/plain": [
       "971"
      ]
     },
     "execution_count": 6,
     "metadata": {},
     "output_type": "execute_result"
    }
   ],
   "source": [
    "with open(fpath, encoding=\"utf-8\") as f:\n",
    "    mylist = f.readlines()\n",
    "len(mylist)"
   ]
  },
  {
   "cell_type": "code",
   "execution_count": 16,
   "metadata": {},
   "outputs": [
    {
     "data": {
      "text/plain": [
       "12875"
      ]
     },
     "execution_count": 16,
     "metadata": {},
     "output_type": "execute_result"
    }
   ],
   "source": [
    "with open(fpath, encoding=\"utf-8\") as f:\n",
    "    rawtext = f.read()\n",
    "len(rawtext)"
   ]
  },
  {
   "cell_type": "code",
   "execution_count": 7,
   "metadata": {},
   "outputs": [
    {
     "data": {
      "text/plain": [
       "['\\n',\n",
       " '\\n',\n",
       " 'Pēc ideāliem cenšas lielie gari***\\n',\n",
       " '\\n',\n",
       " '\\n',\n",
       " '\\n',\n",
       " '\\n',\n",
       " 'Pēc ideāliem cenšas lielie gari,\\n',\n",
       " '\\n',\n",
       " 'Bet dzīvē ieņemt vietu pirmie\\n']"
      ]
     },
     "execution_count": 7,
     "metadata": {},
     "output_type": "execute_result"
    }
   ],
   "source": [
    "mylist[:10]"
   ]
  },
  {
   "cell_type": "code",
   "execution_count": 8,
   "metadata": {},
   "outputs": [
    {
     "data": {
      "text/plain": [
       "['Tik apskaita, cik siena viņas dos,\\n',\n",
       " '\\n',\n",
       " 'Lai mani nelasa. Pie manām dzejām\\n',\n",
       " '\\n',\n",
       " 'Tik piktu prātu viņš sev iemantos.\\n',\n",
       " '\\n',\n",
       " '\\n',\n",
       " '\\n',\n",
       " '\\n',\n",
       " '\\n']"
      ]
     },
     "execution_count": 8,
     "metadata": {},
     "output_type": "execute_result"
    }
   ],
   "source": [
    "mylist[-10:]"
   ]
  },
  {
   "cell_type": "code",
   "execution_count": 9,
   "metadata": {},
   "outputs": [
    {
     "data": {
      "text/plain": [
       "'***'"
      ]
     },
     "execution_count": 9,
     "metadata": {},
     "output_type": "execute_result"
    }
   ],
   "source": [
    "stars = \"***\"\n",
    "stars"
   ]
  },
  {
   "cell_type": "code",
   "execution_count": 10,
   "metadata": {},
   "outputs": [
    {
     "data": {
      "text/plain": [
       "False"
      ]
     },
     "execution_count": 10,
     "metadata": {},
     "output_type": "execute_result"
    }
   ],
   "source": [
    "stars in mylist[0]"
   ]
  },
  {
   "cell_type": "code",
   "execution_count": 11,
   "metadata": {},
   "outputs": [
    {
     "data": {
      "text/plain": [
       "True"
      ]
     },
     "execution_count": 11,
     "metadata": {},
     "output_type": "execute_result"
    }
   ],
   "source": [
    "stars in mylist[2]"
   ]
  },
  {
   "cell_type": "code",
   "execution_count": 13,
   "metadata": {},
   "outputs": [],
   "source": [
    "badwords = ['***','ReallyBadWord']"
   ]
  },
  {
   "cell_type": "code",
   "execution_count": 14,
   "metadata": {},
   "outputs": [],
   "source": [
    "# This recipe will clean small,big and huge files \n",
    "# from all lines containing bad words in the list badwords\n",
    "with open(fpath, encoding='utf-8') as oldfile, open(newpath, 'w', encoding='utf-8') as newfile:\n",
    "    for line in oldfile:\n",
    "        if not any(badword in line for badword in badwords):\n",
    "            newfile.write(line)\n"
   ]
  },
  {
   "cell_type": "code",
   "execution_count": 15,
   "metadata": {},
   "outputs": [
    {
     "data": {
      "text/plain": [
       "12129"
      ]
     },
     "execution_count": 15,
     "metadata": {},
     "output_type": "execute_result"
    }
   ],
   "source": [
    "with open(newpath, encoding='utf-8') as f:\n",
    "    txt=f.read()\n",
    "len(txt)"
   ]
  },
  {
   "cell_type": "code",
   "execution_count": 17,
   "metadata": {},
   "outputs": [
    {
     "data": {
      "text/plain": [
       "(12875, 12129)"
      ]
     },
     "execution_count": 17,
     "metadata": {},
     "output_type": "execute_result"
    }
   ],
   "source": [
    "len(rawtext),len(txt)"
   ]
  },
  {
   "cell_type": "markdown",
   "metadata": {},
   "source": [
    "# Exercise \n",
    "\n",
    "1. Saskaitīt tekstā sastopamo vārdu biežumu\n",
    "2. Izdrukāt unikālo vārdu skaitu\n",
    "3. Izdrukāt 20. biežāk sastopamo vārdu sarakstu\n",
    "4. Kādi ir tekstā visretāk sastopamie vārdi?"
   ]
  },
  {
   "cell_type": "code",
   "execution_count": 18,
   "metadata": {},
   "outputs": [
    {
     "data": {
      "text/plain": [
       "',;:!?.\"\\'-'"
      ]
     },
     "execution_count": 18,
     "metadata": {},
     "output_type": "execute_result"
    }
   ],
   "source": [
    "badchars = ',;:!?.\"\\'-'\n",
    "badchars"
   ]
  },
  {
   "cell_type": "code",
   "execution_count": 20,
   "metadata": {},
   "outputs": [
    {
     "data": {
      "text/plain": [
       "'Voddis'"
      ]
     },
     "execution_count": 20,
     "metadata": {},
     "output_type": "execute_result"
    }
   ],
   "source": [
    "newname = 'Valdis'.replace('al', 'od')\n",
    "newname"
   ]
  },
  {
   "cell_type": "code",
   "execution_count": 21,
   "metadata": {},
   "outputs": [
    {
     "data": {
      "text/plain": [
       "11626"
      ]
     },
     "execution_count": 21,
     "metadata": {},
     "output_type": "execute_result"
    }
   ],
   "source": [
    "for char in badchars:\n",
    "    txt = txt.replace(char, '') # suggestion to use regular expressions for heavier tasks\n",
    "len(txt)"
   ]
  },
  {
   "cell_type": "code",
   "execution_count": null,
   "metadata": {},
   "outputs": [],
   "source": [
    "txt"
   ]
  },
  {
   "cell_type": "code",
   "execution_count": null,
   "metadata": {},
   "outputs": [],
   "source": [
    "# Alex Martelli's extra whitespace cleaner\n",
    "# ' '.join(mystring.split())"
   ]
  },
  {
   "cell_type": "code",
   "execution_count": 22,
   "metadata": {},
   "outputs": [
    {
     "data": {
      "text/plain": [
       "1870"
      ]
     },
     "execution_count": 22,
     "metadata": {},
     "output_type": "execute_result"
    }
   ],
   "source": [
    "words = txt.split()\n",
    "len(words)"
   ]
  },
  {
   "cell_type": "code",
   "execution_count": 23,
   "metadata": {},
   "outputs": [
    {
     "data": {
      "text/plain": [
       "['Pēc',\n",
       " 'ideāliem',\n",
       " 'cenšas',\n",
       " 'lielie',\n",
       " 'gari',\n",
       " 'Bet',\n",
       " 'dzīvē',\n",
       " 'ieņemt',\n",
       " 'vietu',\n",
       " 'pirmie']"
      ]
     },
     "execution_count": 23,
     "metadata": {},
     "output_type": "execute_result"
    }
   ],
   "source": [
    "words[:10]"
   ]
  },
  {
   "cell_type": "code",
   "execution_count": 24,
   "metadata": {},
   "outputs": [
    {
     "data": {
      "text/plain": [
       "['nelasa',\n",
       " 'Pie',\n",
       " 'manām',\n",
       " 'dzejām',\n",
       " 'Tik',\n",
       " 'piktu',\n",
       " 'prātu',\n",
       " 'viņš',\n",
       " 'sev',\n",
       " 'iemantos']"
      ]
     },
     "execution_count": 24,
     "metadata": {},
     "output_type": "execute_result"
    }
   ],
   "source": [
    "words[-10:]"
   ]
  },
  {
   "cell_type": "code",
   "execution_count": 25,
   "metadata": {},
   "outputs": [
    {
     "data": {
      "text/plain": [
       "'valdis'"
      ]
     },
     "execution_count": 25,
     "metadata": {},
     "output_type": "execute_result"
    }
   ],
   "source": [
    "\"Valdis\".lower()"
   ]
  },
  {
   "cell_type": "code",
   "execution_count": 26,
   "metadata": {},
   "outputs": [],
   "source": [
    "# generate a list with all words in lowercase from words list \n",
    "newlist = []\n",
    "for a in words:\n",
    "    newlist.append(a.lower())\n",
    "    "
   ]
  },
  {
   "cell_type": "code",
   "execution_count": 27,
   "metadata": {},
   "outputs": [
    {
     "data": {
      "text/plain": [
       "['pēc',\n",
       " 'ideāliem',\n",
       " 'cenšas',\n",
       " 'lielie',\n",
       " 'gari',\n",
       " 'bet',\n",
       " 'dzīvē',\n",
       " 'ieņemt',\n",
       " 'vietu',\n",
       " 'pirmie']"
      ]
     },
     "execution_count": 27,
     "metadata": {},
     "output_type": "execute_result"
    }
   ],
   "source": [
    "newlist[:10]"
   ]
  },
  {
   "cell_type": "code",
   "execution_count": 28,
   "metadata": {},
   "outputs": [
    {
     "data": {
      "text/plain": [
       "['pēc',\n",
       " 'ideāliem',\n",
       " 'cenšas',\n",
       " 'lielie',\n",
       " 'gari',\n",
       " 'bet',\n",
       " 'dzīvē',\n",
       " 'ieņemt',\n",
       " 'vietu',\n",
       " 'pirmie',\n",
       " 'tie',\n",
       " 'neiespēj',\n",
       " 'tos',\n",
       " 'nomāc',\n",
       " 'maizes',\n",
       " 'kari',\n",
       " 'tos',\n",
       " 'nomāc',\n",
       " 'aizspriedumi',\n",
       " 'sirmie',\n",
       " 'virs',\n",
       " 'zemes',\n",
       " 'nav',\n",
       " 'taisnības',\n",
       " 'dūrei',\n",
       " 'tik',\n",
       " 'spēks',\n",
       " 'kas',\n",
       " 'varmākām',\n",
       " 'skādi',\n",
       " 'dar',\n",
       " 'nosaukts',\n",
       " 'tiek',\n",
       " 'grēks',\n",
       " 'par',\n",
       " 'tiesnešiem',\n",
       " 'cienīti',\n",
       " 'blēži',\n",
       " 'sēž',\n",
       " 'un',\n",
       " 'godīgie',\n",
       " 'ādu',\n",
       " 'nost',\n",
       " 'citiem',\n",
       " 'plēš',\n",
       " 'un',\n",
       " 'cienīgs',\n",
       " 'tēvs',\n",
       " 'zaglis',\n",
       " 'teic',\n",
       " 'sprediķus',\n",
       " 'tik',\n",
       " 'pacieties',\n",
       " 'debesīs',\n",
       " 'labāki',\n",
       " 'būs',\n",
       " 'virs',\n",
       " 'zemes',\n",
       " 'nav',\n",
       " 'laimes',\n",
       " 'tik',\n",
       " 'zvēru',\n",
       " 'pulks',\n",
       " 'bļauj',\n",
       " 'viens',\n",
       " 'otram',\n",
       " 'iz',\n",
       " 'mutes',\n",
       " 'tie',\n",
       " 'maizi',\n",
       " 'sev',\n",
       " 'rauj',\n",
       " 'un',\n",
       " 'priecīgs',\n",
       " 'ikkatris',\n",
       " 'kad',\n",
       " 'vēders',\n",
       " 'tik',\n",
       " 'pilns',\n",
       " 'kad',\n",
       " 'bērni',\n",
       " 'ir',\n",
       " 'veseli',\n",
       " 'dzīvoklis',\n",
       " 'silts',\n",
       " 'un',\n",
       " 'glaimojot',\n",
       " 'salkušie',\n",
       " 'rakstnieki',\n",
       " 'sauc',\n",
       " 'cik',\n",
       " 'praktiska',\n",
       " 'tauta',\n",
       " 'tai',\n",
       " 'cerību',\n",
       " 'daudz',\n",
       " 'jā',\n",
       " 'cerību',\n",
       " 'gan',\n",
       " 'vēl',\n",
       " 'nosirmos',\n",
       " 'laiks',\n",
       " 'un',\n",
       " 'redzams',\n",
       " 'būs',\n",
       " 'strādnieku',\n",
       " 'moku',\n",
       " 'pilns',\n",
       " 'vaigs',\n",
       " 'vēl',\n",
       " 'liekēži',\n",
       " 'slinkos',\n",
       " 'un',\n",
       " 'godīgi',\n",
       " 'krāps',\n",
       " 'pēc',\n",
       " 'debesu',\n",
       " 'viltības',\n",
       " 'ļaudis',\n",
       " 'vēl',\n",
       " 'slāps',\n",
       " 'zem',\n",
       " 'kājām',\n",
       " 'vēl',\n",
       " 'varmākas',\n",
       " 'taisnību',\n",
       " 'mīs',\n",
       " 'par',\n",
       " 'kaujamiem',\n",
       " 'lopiem',\n",
       " 'vēl',\n",
       " 'cilvēkus',\n",
       " 'dzīs',\n",
       " 'un',\n",
       " 'muļķīgas',\n",
       " 'dzejas',\n",
       " 'vēl',\n",
       " 'dzejnieki',\n",
       " 'kals',\n",
       " 'un',\n",
       " 'vaimanās',\n",
       " 'paši',\n",
       " 'kad',\n",
       " 'salks',\n",
       " 'un',\n",
       " 'sals',\n",
       " 'ar',\n",
       " 'šīs',\n",
       " 'zemes',\n",
       " 'varenajiem',\n",
       " 'kopā',\n",
       " 'tu',\n",
       " 'varēji',\n",
       " 'būt',\n",
       " 'un',\n",
       " 'valdīt',\n",
       " 'un',\n",
       " 'kārumu',\n",
       " 'baudīt',\n",
       " 'un',\n",
       " 'līgsmot',\n",
       " 'ik',\n",
       " 'dienas',\n",
       " 'bet',\n",
       " 'cilvēces',\n",
       " 'bēdas',\n",
       " 'un',\n",
       " 'trūkumus',\n",
       " 'sirds',\n",
       " 'tevim',\n",
       " 'jūt',\n",
       " 'un',\n",
       " 'tumsības',\n",
       " 'slogus',\n",
       " 'un',\n",
       " 'varmāku',\n",
       " 'nastas',\n",
       " 'ikvienas',\n",
       " 'un',\n",
       " 'tēvijas',\n",
       " 'neatzīts',\n",
       " 'svešumā',\n",
       " 'dodies',\n",
       " 'tu',\n",
       " 'tāļi',\n",
       " 'un',\n",
       " 'sludini',\n",
       " 'taisnību',\n",
       " 'māci',\n",
       " 'ka',\n",
       " 'cilvēki',\n",
       " 'brāļi',\n",
       " 'ka',\n",
       " 'pasaules',\n",
       " 'mantas',\n",
       " 'mums',\n",
       " 'mierināt',\n",
       " 'nespēj',\n",
       " 'prāta',\n",
       " 'ja',\n",
       " 'ticības',\n",
       " 'trūkst',\n",
       " 'un',\n",
       " 'mīlestīb',\n",
       " 'sirdīs',\n",
       " 'nav',\n",
       " 'krāta',\n",
       " 'tu',\n",
       " 'priekus',\n",
       " 'tiem',\n",
       " 'nesi',\n",
       " 'kas',\n",
       " 'tumsībā',\n",
       " 'grūtībā',\n",
       " 'smaka',\n",
       " 'tu',\n",
       " 'vārguļu',\n",
       " 'sagrauztām',\n",
       " 'sirdīm',\n",
       " 'bij',\n",
       " 'dzīvības',\n",
       " 'aka',\n",
       " 'tu',\n",
       " 'cilvēci',\n",
       " 'sildīji',\n",
       " 'garīgās',\n",
       " 'verdzības',\n",
       " 'salnā',\n",
       " 'bet',\n",
       " 'atmaksu',\n",
       " 'cilvēce',\n",
       " 'deva',\n",
       " 'tev',\n",
       " 'golgatas',\n",
       " 'kalnā',\n",
       " 'domāju',\n",
       " 'es',\n",
       " 'domas',\n",
       " 'dziļas',\n",
       " 'kādēļ',\n",
       " 'laime',\n",
       " 'mani',\n",
       " 'nīd',\n",
       " 'viss',\n",
       " 'ko',\n",
       " 'daru',\n",
       " 'viss',\n",
       " 'man',\n",
       " 'viļas',\n",
       " 'visās',\n",
       " 'vietās',\n",
       " 'kājas',\n",
       " 'slīd',\n",
       " 'citam',\n",
       " 'nav',\n",
       " 'nekāda',\n",
       " 'darba',\n",
       " 'nauda',\n",
       " 'kā',\n",
       " 'no',\n",
       " 'gaisa',\n",
       " 'birst',\n",
       " 'man',\n",
       " 'ir',\n",
       " 'dzīve',\n",
       " 'sūra',\n",
       " 'skarba',\n",
       " 'jābadojas',\n",
       " 'kamēr',\n",
       " 'mirst',\n",
       " 'nav',\n",
       " 'pie',\n",
       " 'dvēseles',\n",
       " 'ne',\n",
       " 'graša',\n",
       " 'prasi',\n",
       " 'kādam',\n",
       " 'kas',\n",
       " 'tev',\n",
       " 'dos',\n",
       " 'labāk',\n",
       " 'vienreiz',\n",
       " 'nāve',\n",
       " 'aša',\n",
       " 'nekā',\n",
       " 'dzīve',\n",
       " 'nabagos',\n",
       " 'ezers',\n",
       " 'lejā',\n",
       " 'spīd',\n",
       " 'netāļi',\n",
       " 'iekšā',\n",
       " 'tur',\n",
       " 'būs',\n",
       " 'raizēm',\n",
       " 'gals',\n",
       " 'nu',\n",
       " 'ardievu',\n",
       " 'bēdu',\n",
       " 'brāļi',\n",
       " 'neskanēs',\n",
       " 'vairs',\n",
       " 'mana',\n",
       " 'balss',\n",
       " 'ceļš',\n",
       " 'vēl',\n",
       " 'garām',\n",
       " 'ved',\n",
       " 'gar',\n",
       " 'krogu',\n",
       " 'iekšā',\n",
       " 'danco',\n",
       " 'dzied',\n",
       " 'un',\n",
       " 'smej',\n",
       " 'un',\n",
       " 'caur',\n",
       " 'apgaismoto',\n",
       " 'logu',\n",
       " 'redzu',\n",
       " 'alu',\n",
       " 'glāzēs',\n",
       " 'lej',\n",
       " 'vai',\n",
       " 'tad',\n",
       " 'es',\n",
       " 'jau',\n",
       " 'tīri',\n",
       " 'bešā',\n",
       " 'roka',\n",
       " 'ātri',\n",
       " 'svārkos',\n",
       " 'ķer',\n",
       " 'desmit',\n",
       " 'kapeikas',\n",
       " 'vēl',\n",
       " 'ķešā',\n",
       " 'tās',\n",
       " 'pirms',\n",
       " 'nāves',\n",
       " 'jānodzer',\n",
       " 'steidzos',\n",
       " 'iekšā',\n",
       " 'vienu',\n",
       " 'glāzi',\n",
       " 'iesviežu',\n",
       " 'vēl',\n",
       " 'vienu',\n",
       " 'vēl…',\n",
       " 'un',\n",
       " 'ar',\n",
       " 'katru',\n",
       " 'alus',\n",
       " 'lāsi',\n",
       " 'paliek',\n",
       " 'dzīvības',\n",
       " 'man',\n",
       " 'žēl',\n",
       " 'atliks',\n",
       " 'miršanu',\n",
       " 'uz',\n",
       " 'rītu',\n",
       " 'šodien',\n",
       " 'vēlu',\n",
       " 'staigāt',\n",
       " 'turp',\n",
       " 'krodzniek',\n",
       " 'dosi',\n",
       " 'vēl',\n",
       " 'uz',\n",
       " 'krītu',\n",
       " 'došu',\n",
       " 'duci',\n",
       " 'alu',\n",
       " 'šurp',\n",
       " 'otrreiz',\n",
       " 'bija',\n",
       " 'tāda',\n",
       " 'liga',\n",
       " 'skaistule',\n",
       " 'man',\n",
       " 'solījās',\n",
       " 'mūžam',\n",
       " 'būšot',\n",
       " 'uzticīga',\n",
       " 'dumjš',\n",
       " 'kas',\n",
       " 'sievām',\n",
       " 'paļaujas',\n",
       " 'drīz',\n",
       " 'iz',\n",
       " 'pilsētas',\n",
       " 'švīts',\n",
       " 'nāca',\n",
       " 'glumi',\n",
       " 'apģērbts',\n",
       " 'uzķemmēts',\n",
       " 'lakstoties',\n",
       " 'ap',\n",
       " 'viņu',\n",
       " 'sāca',\n",
       " 'dāvā',\n",
       " 'rotas',\n",
       " 'viss',\n",
       " 'tam',\n",
       " 'lēts',\n",
       " 'domāju',\n",
       " 'tā',\n",
       " 'neatļausies',\n",
       " 'sirdi',\n",
       " 'viņam',\n",
       " 'neatdos',\n",
       " 'bet',\n",
       " 'it',\n",
       " 'nejauši',\n",
       " 'reiz',\n",
       " 'klausies',\n",
       " 'baznīcā',\n",
       " 'jau',\n",
       " 'uzsauc',\n",
       " 'tos',\n",
       " 'asinis',\n",
       " 'man',\n",
       " 'dusmās',\n",
       " 'vārās',\n",
       " 'un',\n",
       " 'kaut',\n",
       " 'sirdi',\n",
       " 'sāpes',\n",
       " 'spiež',\n",
       " 'bet',\n",
       " 'pēc',\n",
       " 'atriebšanas',\n",
       " 'kāras',\n",
       " 'dūres',\n",
       " 'naža',\n",
       " 'spalu',\n",
       " 'griež',\n",
       " 'viņam',\n",
       " 'jāmirst',\n",
       " 'steigšus',\n",
       " 'gāju',\n",
       " 'te',\n",
       " 'man',\n",
       " 'uzsauc',\n",
       " 'draugs',\n",
       " 'kur',\n",
       " 'nu',\n",
       " 'iesviedīsim',\n",
       " 'ceļa',\n",
       " 'kāju',\n",
       " 'nāc',\n",
       " 'man',\n",
       " 'līdz',\n",
       " 'uz',\n",
       " 'kabaku',\n",
       " 'sviedām',\n",
       " 'sviedām…',\n",
       " 'rīts',\n",
       " 'jau',\n",
       " 'ausa',\n",
       " 'aizmirsts',\n",
       " 'viss',\n",
       " 'kas',\n",
       " 'rūpes',\n",
       " 'dar',\n",
       " 'kājas',\n",
       " 'galva',\n",
       " 'knapi',\n",
       " 'klausa',\n",
       " 'zudušas',\n",
       " 'bij',\n",
       " 'dusmas',\n",
       " 'ar',\n",
       " 'tādēļ',\n",
       " 'tagad',\n",
       " 'katru',\n",
       " 'reizi',\n",
       " 'iedzeru',\n",
       " 'kad',\n",
       " 'slikts',\n",
       " 'ir',\n",
       " 'prāts',\n",
       " 'un',\n",
       " 'ja',\n",
       " 'kājas',\n",
       " 'iet',\n",
       " 'ar',\n",
       " 'greizi',\n",
       " 'tas',\n",
       " 'jau',\n",
       " 'nava',\n",
       " 'grēks',\n",
       " 'nekāds',\n",
       " 'daudz',\n",
       " 'prātīgu',\n",
       " 'cilvēku',\n",
       " 'pasaulē',\n",
       " 'dzīvo',\n",
       " 'tie',\n",
       " 'strādā',\n",
       " 'kā',\n",
       " 'skudras',\n",
       " 'un',\n",
       " 'rūpīgi',\n",
       " 'krāj',\n",
       " 'tie',\n",
       " 'nolād',\n",
       " 'alu',\n",
       " 'tie',\n",
       " 'nolād',\n",
       " 'sīvo',\n",
       " 'un',\n",
       " 'strādā',\n",
       " 'un',\n",
       " 'krāj',\n",
       " 'līdz',\n",
       " 'smiltis',\n",
       " 'tos',\n",
       " 'klāj',\n",
       " 'daudz',\n",
       " 'godīgu',\n",
       " 'cilvēku',\n",
       " 'pasaulē',\n",
       " 'dzīvo',\n",
       " 'tie',\n",
       " 'manīgi',\n",
       " 'cita',\n",
       " 'nopelnu',\n",
       " 'slauc',\n",
       " 'ar',\n",
       " 'manšetēm',\n",
       " 'baltām',\n",
       " 'ar',\n",
       " 'apkakli',\n",
       " 'stīvo',\n",
       " 'tie',\n",
       " 'pasaules',\n",
       " 'drūzmā',\n",
       " 'kā',\n",
       " 'valdnieki',\n",
       " 'brauc',\n",
       " 'bet',\n",
       " 'ticīgo',\n",
       " 'muļķu',\n",
       " 'visvairāk',\n",
       " 'ir',\n",
       " 'radīts',\n",
       " 'tie',\n",
       " 'galviņas',\n",
       " 'nodur',\n",
       " 'un',\n",
       " 'dieviņam',\n",
       " 'tic',\n",
       " 'tāds',\n",
       " 'rokas',\n",
       " 'laiza',\n",
       " 'kad',\n",
       " 'sists',\n",
       " 'tiek',\n",
       " 'un',\n",
       " 'badīts',\n",
       " 'un',\n",
       " 'dieviņam',\n",
       " 'pateic',\n",
       " 'kad',\n",
       " 'piekrāpj',\n",
       " 'to',\n",
       " 'cits',\n",
       " 'un',\n",
       " 'ārprātīgie',\n",
       " 'ir',\n",
       " 'ceturtā',\n",
       " 'suga',\n",
       " 'diemžēl',\n",
       " 'ka',\n",
       " 'viņu',\n",
       " 'tik',\n",
       " 'visai',\n",
       " 'nedaudz',\n",
       " 'pie',\n",
       " 'sirds',\n",
       " 'kam',\n",
       " 'ķeras',\n",
       " 'šī',\n",
       " 'bēdu',\n",
       " 'luga',\n",
       " 'kas',\n",
       " 'muļķus',\n",
       " 'pie',\n",
       " 'gaismas',\n",
       " 'pie',\n",
       " 'brīvības',\n",
       " 'sauc',\n",
       " 'ej',\n",
       " 'un',\n",
       " 'dzenies',\n",
       " 'tik',\n",
       " 'pēc',\n",
       " 'naudas',\n",
       " 'krāp',\n",
       " 'un',\n",
       " 'blēdī',\n",
       " 'cik',\n",
       " 'tik',\n",
       " 'jaudas',\n",
       " 'rauj',\n",
       " 'no',\n",
       " 'citiem',\n",
       " 'rauj',\n",
       " 'kur',\n",
       " 'dabū',\n",
       " 'skaties',\n",
       " 'tik',\n",
       " 'uz',\n",
       " 'savu',\n",
       " 'labu',\n",
       " 'tomēr',\n",
       " 'strādā',\n",
       " 'apdomīgi',\n",
       " 'stingri',\n",
       " 'cieti',\n",
       " 'likumīgi',\n",
       " 'valdniekiem',\n",
       " 'godu',\n",
       " 'rādi',\n",
       " 'lai',\n",
       " 'tie',\n",
       " 'būtu',\n",
       " 'vai',\n",
       " 'nu',\n",
       " 'kādi',\n",
       " 'bagātniekus',\n",
       " 'turi',\n",
       " 'cieņā',\n",
       " 'līdzēt',\n",
       " 'var',\n",
       " 'tie',\n",
       " 'ļaunā',\n",
       " 'dienā',\n",
       " 'tā',\n",
       " 'tu',\n",
       " 'dzīvo',\n",
       " 'tikumīgi',\n",
       " 'stingri',\n",
       " 'cieti',\n",
       " 'likumīgi',\n",
       " 'būs',\n",
       " 'tev',\n",
       " 'nauda',\n",
       " 'būs',\n",
       " 'tev',\n",
       " 'vieta',\n",
       " 'dzīves',\n",
       " 'grunte',\n",
       " 'droša',\n",
       " 'cieta',\n",
       " 'cienīs',\n",
       " 'tevi',\n",
       " 'klanīdamies',\n",
       " 'strādās',\n",
       " 'tevim',\n",
       " 'lādēdamies',\n",
       " 'valdīsi',\n",
       " 'tu',\n",
       " 'likumīgi',\n",
       " 'stingri',\n",
       " 'cieti',\n",
       " 'tikumīgi',\n",
       " 'tad',\n",
       " 'tu',\n",
       " 'vari',\n",
       " 'palīgsmoties',\n",
       " 'labi',\n",
       " 'sevi',\n",
       " 'pamieloties',\n",
       " 'paņemt',\n",
       " 'sievu',\n",
       " 'padevīgu',\n",
       " 'tuklu',\n",
       " 'dumju',\n",
       " 'paklausīgu',\n",
       " 'papriecāties',\n",
       " 'likumīgi',\n",
       " 'radīt',\n",
       " 'bērnus',\n",
       " 'tikumīgi',\n",
       " 'kam',\n",
       " 'velti',\n",
       " 'dārgo',\n",
       " 'laiku',\n",
       " 'tērē',\n",
       " 'un',\n",
       " 'dzejām',\n",
       " 'papīri',\n",
       " 'tu',\n",
       " 'smērē',\n",
       " 'sen',\n",
       " 'beidzies',\n",
       " 'dzejas',\n",
       " 'laikmets',\n",
       " 'svēts',\n",
       " 'pēc',\n",
       " 'maizes',\n",
       " 'tagad',\n",
       " 'cilvēks',\n",
       " 'brēc',\n",
       " 'jo',\n",
       " 'mūsu',\n",
       " 'prozaiskās',\n",
       " 'dienās',\n",
       " 'nav',\n",
       " 'žēlabainām',\n",
       " 'dzejām',\n",
       " 'cieņas',\n",
       " 'ēst',\n",
       " 'salkušam',\n",
       " 'tās',\n",
       " 'nevar',\n",
       " 'dot',\n",
       " 'un',\n",
       " 'paēdis',\n",
       " 'tās',\n",
       " 'nesaprot',\n",
       " 'tu',\n",
       " 'raksti',\n",
       " 'romānīšus',\n",
       " 'vieglus',\n",
       " 'un',\n",
       " 'saprātīgi',\n",
       " 'zobojies',\n",
       " 'lai',\n",
       " 'plašai',\n",
       " 'publikai',\n",
       " 'ceļ',\n",
       " 'smieklus',\n",
       " 'tu',\n",
       " 'redzēsi',\n",
       " 'kā',\n",
       " 'tad',\n",
       " 'tev',\n",
       " 'ies',\n",
       " 'būs',\n",
       " 'slava',\n",
       " 'liela',\n",
       " 'kaudzēm',\n",
       " 'naudas',\n",
       " 'un',\n",
       " 'dzīvi',\n",
       " 'baudīsi',\n",
       " 'cik',\n",
       " 'jaudas',\n",
       " 'mums',\n",
       " 'latviešiem',\n",
       " 'dzejnieku',\n",
       " 'milzīgs',\n",
       " 'bars',\n",
       " 'no',\n",
       " 'tiesas',\n",
       " 'tiem',\n",
       " 'dodam',\n",
       " 'šo',\n",
       " 'vārdu',\n",
       " 'jo',\n",
       " 'viņu',\n",
       " 'dzejās',\n",
       " 'mīt',\n",
       " 'burvības',\n",
       " 'gars',\n",
       " 'tās',\n",
       " 'miegu',\n",
       " 'mums',\n",
       " 'dāvina',\n",
       " 'gārdu',\n",
       " 'ja',\n",
       " 'gribi',\n",
       " 'tikt',\n",
       " 'pie',\n",
       " 'labas',\n",
       " 'vietas',\n",
       " 'tad',\n",
       " 'klanies',\n",
       " 'lokies',\n",
       " 'rokas',\n",
       " 'laizi',\n",
       " 'gan',\n",
       " 'citi',\n",
       " 'sauc',\n",
       " 'tās',\n",
       " 'kauna',\n",
       " 'lietas',\n",
       " 'par',\n",
       " 'to',\n",
       " 'nekas',\n",
       " 'kad',\n",
       " 'nāk',\n",
       " 'tik',\n",
       " 'maize',\n",
       " 'pie',\n",
       " 'bagātnieku',\n",
       " 'lepniem',\n",
       " 'galdiem',\n",
       " 'tu',\n",
       " 'pazemīgi',\n",
       " 'klātu',\n",
       " 'lieni',\n",
       " 'un',\n",
       " 'glaimošanas',\n",
       " 'vārdiem',\n",
       " 'saldiem',\n",
       " 'cik',\n",
       " 'vien',\n",
       " 'ir',\n",
       " 'spējas',\n",
       " 'katru',\n",
       " 'cieni',\n",
       " 'bet',\n",
       " 'dieva',\n",
       " 'dēļ',\n",
       " 'ar',\n",
       " 'zemākajiem',\n",
       " 'nekad',\n",
       " 'lai',\n",
       " 'kopā',\n",
       " 'neredz',\n",
       " 'tevi',\n",
       " 'min',\n",
       " 'labāk',\n",
       " 'kāju',\n",
       " 'virsū',\n",
       " 'vājiem',\n",
       " 'jo',\n",
       " 'prātīgs',\n",
       " 'gādā',\n",
       " 'tik',\n",
       " 'par',\n",
       " 'sevi',\n",
       " 'tā',\n",
       " 'drīz',\n",
       " 'tu',\n",
       " 'augstā',\n",
       " 'vietā',\n",
       " 'tiksi',\n",
       " 'tev',\n",
       " 'slavēs',\n",
       " 'teiks',\n",
       " 'par',\n",
       " 'lielu',\n",
       " 'garu',\n",
       " 'tu',\n",
       " 'līdzbiedrus',\n",
       " 'zem',\n",
       " 'kājām',\n",
       " 'liksi',\n",
       " 'un',\n",
       " 'katris',\n",
       " 'bīsies',\n",
       " 'tavu',\n",
       " 'varu',\n",
       " 'nu',\n",
       " 'tu',\n",
       " 'vari',\n",
       " 'palīgsmoties',\n",
       " 'labi',\n",
       " 'sevi',\n",
       " 'pamieloties',\n",
       " 'paņemt',\n",
       " 'sievu',\n",
       " 'padevīgu',\n",
       " 'tuklu',\n",
       " 'dumju',\n",
       " 'paklausīgu',\n",
       " 'papriecāties',\n",
       " 'likumīgi',\n",
       " 'radīt',\n",
       " 'bērnus',\n",
       " 'tikumīgi',\n",
       " 'gudro',\n",
       " 'cik',\n",
       " 'gudrodams',\n",
       " 'nekāda',\n",
       " 'mērķa',\n",
       " 'nevar',\n",
       " 'atrast',\n",
       " 'dzīvei',\n",
       " 'visi',\n",
       " 'ideāļi',\n",
       " 'tuvāk',\n",
       " 'apskatot',\n",
       " 'izrādās',\n",
       " 'no',\n",
       " 'tārpiem',\n",
       " 'izēsti',\n",
       " 'un',\n",
       " 'galu',\n",
       " 'galā',\n",
       " 'tev',\n",
       " 'jāpaliek',\n",
       " 'vai',\n",
       " 'nu',\n",
       " 'lopam',\n",
       " 'kas',\n",
       " 'nekā',\n",
       " 'nedomā',\n",
       " 'cita',\n",
       " 'kā',\n",
       " 'tik',\n",
       " 'par',\n",
       " 'ēšanu',\n",
       " 'jeb',\n",
       " 'pesimistam',\n",
       " '(vēstule',\n",
       " 'e',\n",
       " 'treimanimzvārgulim',\n",
       " '1890',\n",
       " 'gada',\n",
       " '5',\n",
       " 'jūlijā)',\n",
       " 'reiz',\n",
       " 'zaļoja',\n",
       " 'jaunība',\n",
       " 'cerības',\n",
       " 'plauka',\n",
       " 'tad',\n",
       " 'asins',\n",
       " 'bij',\n",
       " 'karsta',\n",
       " 'tad',\n",
       " 'gaišs',\n",
       " 'bija',\n",
       " 'laiks',\n",
       " 'un',\n",
       " 'pasaule',\n",
       " 'visa',\n",
       " 'tik',\n",
       " 'krāšņa',\n",
       " 'tik',\n",
       " 'jauka',\n",
       " 'un',\n",
       " 'nākotne',\n",
       " 'spoža',\n",
       " 'kā',\n",
       " 'saules',\n",
       " 'vaigs',\n",
       " 'laiks',\n",
       " 'aizgāja',\n",
       " 'cerības',\n",
       " 'zuda',\n",
       " 'kā',\n",
       " 'dūmi',\n",
       " 'viss',\n",
       " 'mira',\n",
       " 'kas',\n",
       " 'agrāk',\n",
       " 'bij',\n",
       " 'daiļš',\n",
       " 'kas',\n",
       " 'bij',\n",
       " 'svēts',\n",
       " 'reiz',\n",
       " 'dievīgie',\n",
       " 'tēli',\n",
       " 'tik',\n",
       " 'bāli',\n",
       " 'tik',\n",
       " 'drūmi',\n",
       " 'un',\n",
       " 'dīdzis',\n",
       " 'nekas',\n",
       " 'nav',\n",
       " 'kas',\n",
       " 'ticībā',\n",
       " 'sēts',\n",
       " 'un',\n",
       " 'tukšām',\n",
       " 'paliekot',\n",
       " 'zinību',\n",
       " 'slāpēm',\n",
       " 'un',\n",
       " 'beidzoties',\n",
       " 'visam',\n",
       " 'kas',\n",
       " 'daiļš',\n",
       " 'bij',\n",
       " 'kas',\n",
       " 'svēts',\n",
       " 'sirds',\n",
       " 'pildījās',\n",
       " 'nāvīgām',\n",
       " 'asiņu',\n",
       " 'sāpēm',\n",
       " 'bet',\n",
       " 'pagātne',\n",
       " 'arī',\n",
       " 'jau',\n",
       " 'sāpes',\n",
       " 'sedz',\n",
       " 'un',\n",
       " 'tagad',\n",
       " 'es',\n",
       " ...]"
      ]
     },
     "execution_count": 28,
     "metadata": {},
     "output_type": "execute_result"
    }
   ],
   "source": [
    "# List Comprehension\n",
    "nlist = [word.lower() for word in words]\n",
    "nlist"
   ]
  },
  {
   "cell_type": "code",
   "execution_count": null,
   "metadata": {},
   "outputs": [],
   "source": [
    "cwords = [word.title() for word in words]\n",
    "len(cwords)"
   ]
  },
  {
   "cell_type": "code",
   "execution_count": 29,
   "metadata": {},
   "outputs": [
    {
     "data": {
      "text/plain": [
       "2"
      ]
     },
     "execution_count": 29,
     "metadata": {},
     "output_type": "execute_result"
    }
   ],
   "source": [
    "nlist.count('alus')"
   ]
  },
  {
   "cell_type": "code",
   "execution_count": 30,
   "metadata": {},
   "outputs": [
    {
     "data": {
      "text/plain": [
       "{'alus': 2}"
      ]
     },
     "execution_count": 30,
     "metadata": {},
     "output_type": "execute_result"
    }
   ],
   "source": [
    "mytemp = { 'alus' : nlist.count('alus')}\n",
    "mytemp"
   ]
  },
  {
   "cell_type": "code",
   "execution_count": 36,
   "metadata": {},
   "outputs": [
    {
     "data": {
      "text/plain": [
       "1072"
      ]
     },
     "execution_count": 36,
     "metadata": {},
     "output_type": "execute_result"
    }
   ],
   "source": [
    "# Dictionary comprehension\n",
    "mydict = { word : nlist.count(word) for word in set(nlist)}\n",
    "len(mydict)"
   ]
  },
  {
   "cell_type": "code",
   "execution_count": null,
   "metadata": {},
   "outputs": [],
   "source": []
  },
  {
   "cell_type": "code",
   "execution_count": null,
   "metadata": {},
   "outputs": [],
   "source": []
  },
  {
   "cell_type": "code",
   "execution_count": 38,
   "metadata": {},
   "outputs": [
    {
     "data": {
      "text/plain": [
       "[('(vēstule', 1),\n",
       " ('1890', 1),\n",
       " ('5', 1),\n",
       " ('acs', 1),\n",
       " ('agrāk', 1),\n",
       " ('aiz', 1),\n",
       " ('aizgāja', 1),\n",
       " ('aizmirsts', 1),\n",
       " ('aizspriedumi', 1),\n",
       " ('ak', 1)]"
      ]
     },
     "execution_count": 38,
     "metadata": {},
     "output_type": "execute_result"
    }
   ],
   "source": [
    "sorted(mydict.items())[:10]"
   ]
  },
  {
   "cell_type": "code",
   "execution_count": 49,
   "metadata": {},
   "outputs": [],
   "source": [
    "# the el[1] refers to second element of the tuple in mydict.items() list\n",
    "sortedfrequency = sorted(mydict.items(),key=lambda el: el[1], reverse=True)\n"
   ]
  },
  {
   "cell_type": "code",
   "execution_count": null,
   "metadata": {},
   "outputs": [],
   "source": []
  },
  {
   "cell_type": "code",
   "execution_count": 51,
   "metadata": {},
   "outputs": [
    {
     "data": {
      "text/plain": [
       "['a', 'e', 'i', 'k', 'l', 'p', 'r', 's', 't', 'u']"
      ]
     },
     "execution_count": 51,
     "metadata": {},
     "output_type": "execute_result"
    }
   ],
   "source": [
    "sorted(list('kartupelis'))"
   ]
  },
  {
   "cell_type": "code",
   "execution_count": 50,
   "metadata": {},
   "outputs": [
    {
     "data": {
      "text/plain": [
       "[('un', 76),\n",
       " ('ir', 24),\n",
       " ('tu', 21),\n",
       " ('tik', 21),\n",
       " ('vēl', 21),\n",
       " ('bet', 15),\n",
       " ('kas', 15),\n",
       " ('nav', 14),\n",
       " ('man', 14),\n",
       " ('par', 13)]"
      ]
     },
     "execution_count": 50,
     "metadata": {},
     "output_type": "execute_result"
    }
   ],
   "source": [
    "sortedfrequency[:10]"
   ]
  },
  {
   "cell_type": "code",
   "execution_count": 53,
   "metadata": {},
   "outputs": [
    {
     "data": {
      "text/plain": [
       "['reiz',\n",
       " 'viss',\n",
       " 'līdz',\n",
       " 'mums',\n",
       " 'sauc',\n",
       " 'gars',\n",
       " 'projām',\n",
       " 'laiks',\n",
       " 'sirds',\n",
       " 'tomēr']"
      ]
     },
     "execution_count": 53,
     "metadata": {},
     "output_type": "execute_result"
    }
   ],
   "source": [
    "somewords = [item[0] for item in longcnt.most_common(10)]\n",
    "somewords"
   ]
  },
  {
   "cell_type": "code",
   "execution_count": 54,
   "metadata": {},
   "outputs": [
    {
     "data": {
      "text/plain": [
       "['gars',\n",
       " 'laiks',\n",
       " 'līdz',\n",
       " 'mums',\n",
       " 'projām',\n",
       " 'reiz',\n",
       " 'sauc',\n",
       " 'sirds',\n",
       " 'tomēr',\n",
       " 'viss']"
      ]
     },
     "execution_count": 54,
     "metadata": {},
     "output_type": "execute_result"
    }
   ],
   "source": [
    "sorted(somewords)"
   ]
  },
  {
   "cell_type": "code",
   "execution_count": 56,
   "metadata": {},
   "outputs": [],
   "source": [
    "def mycomparison(el):\n",
    "    return el[::-1]"
   ]
  },
  {
   "cell_type": "code",
   "execution_count": 57,
   "metadata": {},
   "outputs": [
    {
     "data": {
      "text/plain": [
       "['sauc',\n",
       " 'projām',\n",
       " 'tomēr',\n",
       " 'sirds',\n",
       " 'laiks',\n",
       " 'mums',\n",
       " 'gars',\n",
       " 'viss',\n",
       " 'līdz',\n",
       " 'reiz']"
      ]
     },
     "execution_count": 57,
     "metadata": {},
     "output_type": "execute_result"
    }
   ],
   "source": [
    "sorted(somewords, key = mycomparison)"
   ]
  },
  {
   "cell_type": "code",
   "execution_count": 55,
   "metadata": {},
   "outputs": [
    {
     "data": {
      "text/plain": [
       "['sauc',\n",
       " 'projām',\n",
       " 'tomēr',\n",
       " 'sirds',\n",
       " 'laiks',\n",
       " 'mums',\n",
       " 'gars',\n",
       " 'viss',\n",
       " 'līdz',\n",
       " 'reiz']"
      ]
     },
     "execution_count": 55,
     "metadata": {},
     "output_type": "execute_result"
    }
   ],
   "source": [
    "# in lambda functions return is implied and comes right after the first : \n",
    "sorted(somewords, key = lambda el: el[::-1])"
   ]
  },
  {
   "cell_type": "code",
   "execution_count": null,
   "metadata": {},
   "outputs": [],
   "source": [
    "vdict = { word: cwords.count(word) for word in set(cwords)}\n",
    "len(vdict)"
   ]
  },
  {
   "cell_type": "code",
   "execution_count": null,
   "metadata": {},
   "outputs": [],
   "source": [
    "list(vdict.keys())[:5]"
   ]
  },
  {
   "cell_type": "code",
   "execution_count": null,
   "metadata": {},
   "outputs": [],
   "source": [
    "max(vdict, key = lambda k: vdict[k])"
   ]
  },
  {
   "cell_type": "code",
   "execution_count": null,
   "metadata": {},
   "outputs": [],
   "source": [
    "vdict['Un']"
   ]
  },
  {
   "cell_type": "code",
   "execution_count": null,
   "metadata": {},
   "outputs": [],
   "source": [
    "sortedWords = sorted(vdict.items(), key = lambda x: x[1])\n",
    "len(sortedWords)"
   ]
  },
  {
   "cell_type": "code",
   "execution_count": null,
   "metadata": {},
   "outputs": [],
   "source": [
    "type(vdict.items())"
   ]
  },
  {
   "cell_type": "code",
   "execution_count": null,
   "metadata": {},
   "outputs": [],
   "source": [
    "sortedWords.reverse()"
   ]
  },
  {
   "cell_type": "code",
   "execution_count": null,
   "metadata": {},
   "outputs": [],
   "source": [
    "sortedWords[:10]"
   ]
  },
  {
   "cell_type": "code",
   "execution_count": null,
   "metadata": {},
   "outputs": [],
   "source": [
    "sortedWords[:50]"
   ]
  },
  {
   "cell_type": "code",
   "execution_count": 39,
   "metadata": {},
   "outputs": [],
   "source": [
    "from collections import Counter"
   ]
  },
  {
   "cell_type": "code",
   "execution_count": 45,
   "metadata": {},
   "outputs": [],
   "source": [
    "longlist = [word for word in nlist if len(word) > 3]"
   ]
  },
  {
   "cell_type": "code",
   "execution_count": 46,
   "metadata": {},
   "outputs": [
    {
     "data": {
      "text/plain": [
       "[('reiz', 10),\n",
       " ('viss', 9),\n",
       " ('līdz', 8),\n",
       " ('mums', 7),\n",
       " ('sauc', 6),\n",
       " ('gars', 6),\n",
       " ('projām', 6),\n",
       " ('laiks', 5),\n",
       " ('sirds', 5),\n",
       " ('tomēr', 5),\n",
       " ('likumīgi', 5),\n",
       " ('dzīves', 5),\n",
       " ('iedzer', 5),\n",
       " ('tiek', 4),\n",
       " ('daudz', 4),\n",
       " ('vaigs', 4),\n",
       " ('kājām', 4),\n",
       " ('pasaules', 4),\n",
       " ('bija', 4),\n",
       " ('kaut', 4)]"
      ]
     },
     "execution_count": 46,
     "metadata": {},
     "output_type": "execute_result"
    }
   ],
   "source": [
    "longcnt = Counter(longlist)\n",
    "longcnt.most_common(20)"
   ]
  },
  {
   "cell_type": "code",
   "execution_count": 58,
   "metadata": {},
   "outputs": [
    {
     "data": {
      "text/plain": [
       "collections.Counter"
      ]
     },
     "execution_count": 58,
     "metadata": {},
     "output_type": "execute_result"
    }
   ],
   "source": [
    "type(longcnt)"
   ]
  },
  {
   "cell_type": "code",
   "execution_count": 59,
   "metadata": {},
   "outputs": [],
   "source": [
    "longcnt.update({'sirds':3})"
   ]
  },
  {
   "cell_type": "code",
   "execution_count": 60,
   "metadata": {},
   "outputs": [
    {
     "data": {
      "text/plain": [
       "[('reiz', 10),\n",
       " ('viss', 9),\n",
       " ('sirds', 8),\n",
       " ('līdz', 8),\n",
       " ('mums', 7),\n",
       " ('sauc', 6),\n",
       " ('gars', 6),\n",
       " ('projām', 6),\n",
       " ('laiks', 5),\n",
       " ('tomēr', 5)]"
      ]
     },
     "execution_count": 60,
     "metadata": {},
     "output_type": "execute_result"
    }
   ],
   "source": [
    "longcnt.most_common(10)"
   ]
  },
  {
   "cell_type": "code",
   "execution_count": 61,
   "metadata": {},
   "outputs": [],
   "source": [
    "longcnt['sirds'] += 3"
   ]
  },
  {
   "cell_type": "code",
   "execution_count": 63,
   "metadata": {},
   "outputs": [
    {
     "data": {
      "text/plain": [
       "[('sirds', 11), ('reiz', 10), ('viss', 9), ('līdz', 8), ('mums', 7)]"
      ]
     },
     "execution_count": 63,
     "metadata": {},
     "output_type": "execute_result"
    }
   ],
   "source": [
    "longcnt.most_common(5)"
   ]
  },
  {
   "cell_type": "code",
   "execution_count": 40,
   "metadata": {},
   "outputs": [],
   "source": [
    "cnt = Counter(nlist)"
   ]
  },
  {
   "cell_type": "code",
   "execution_count": 42,
   "metadata": {},
   "outputs": [
    {
     "data": {
      "text/plain": [
       "[('un', 76),\n",
       " ('ir', 24),\n",
       " ('tik', 21),\n",
       " ('vēl', 21),\n",
       " ('tu', 21),\n",
       " ('bet', 15),\n",
       " ('kas', 15),\n",
       " ('nav', 14),\n",
       " ('man', 14),\n",
       " ('par', 13)]"
      ]
     },
     "execution_count": 42,
     "metadata": {},
     "output_type": "execute_result"
    }
   ],
   "source": [
    "cnt.most_common(10)"
   ]
  },
  {
   "cell_type": "code",
   "execution_count": 44,
   "metadata": {},
   "outputs": [
    {
     "data": {
      "text/plain": [
       "[('un', 76),\n",
       " ('ir', 24),\n",
       " ('tik', 21),\n",
       " ('vēl', 21),\n",
       " ('tu', 21),\n",
       " ('bet', 15),\n",
       " ('kas', 15),\n",
       " ('nav', 14),\n",
       " ('man', 14),\n",
       " ('par', 13),\n",
       " ('kā', 13),\n",
       " ('kur', 13),\n",
       " ('lai', 12),\n",
       " ('pēc', 11),\n",
       " ('ar', 11),\n",
       " ('tev', 11),\n",
       " ('kam', 11),\n",
       " ('tie', 10),\n",
       " ('ka', 10),\n",
       " ('uz', 10),\n",
       " ('reiz', 10),\n",
       " ('būs', 9),\n",
       " ('es', 9),\n",
       " ('viss', 9),\n",
       " ('no', 9),\n",
       " ('pie', 9),\n",
       " ('tur', 9),\n",
       " ('vai', 9),\n",
       " ('kad', 8),\n",
       " ('tad', 8),\n",
       " ('līdz', 8),\n",
       " ('cik', 7),\n",
       " ('mums', 7),\n",
       " ('sauc', 6),\n",
       " ('ja', 6),\n",
       " ('bij', 6),\n",
       " ('tās', 6),\n",
       " ('iet', 6),\n",
       " ('gars', 6),\n",
       " ('projām', 6),\n",
       " ('gan', 5),\n",
       " ('laiks', 5),\n",
       " ('sirds', 5),\n",
       " ('nu', 5),\n",
       " ('jau', 5),\n",
       " ('tā', 5),\n",
       " ('tomēr', 5),\n",
       " ('likumīgi', 5),\n",
       " ('dzīves', 5),\n",
       " ('iedzer', 5)]"
      ]
     },
     "execution_count": 44,
     "metadata": {},
     "output_type": "execute_result"
    }
   ],
   "source": [
    "cnt.most_common(50)"
   ]
  },
  {
   "cell_type": "code",
   "execution_count": null,
   "metadata": {},
   "outputs": [],
   "source": [
    "# Reading files from URL\n",
    "# https://docs.python.org/3.7/library/urllib.request.html#module-urllib.request"
   ]
  }
 ],
 "metadata": {
  "kernelspec": {
   "display_name": "Python 3",
   "language": "python",
   "name": "python3"
  },
  "language_info": {
   "codemirror_mode": {
    "name": "ipython",
    "version": 3
   },
   "file_extension": ".py",
   "mimetype": "text/x-python",
   "name": "python",
   "nbconvert_exporter": "python",
   "pygments_lexer": "ipython3",
   "version": "3.7.3"
  }
 },
 "nbformat": 4,
 "nbformat_minor": 2
}
